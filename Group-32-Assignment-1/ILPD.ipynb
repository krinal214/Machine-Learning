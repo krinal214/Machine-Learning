{
 "cells": [
  {
   "cell_type": "markdown",
   "metadata": {
    "id": "mmFXV7wO4z_K"
   },
   "source": [
    "# Machine Learning (CS60050)<br> Assignment 1 - Decision Tree"
   ]
  },
  {
   "cell_type": "markdown",
   "metadata": {
    "id": "8Hyt795S4z_N"
   },
   "source": [
    "## Topic: Indian Liver Patient Dataset"
   ]
  },
  {
   "cell_type": "markdown",
   "metadata": {
    "id": "ajZXhE8y4z_O"
   },
   "source": [
    "#### By: (Group 32)<br>Krinal Patel (21CS60R39)<br>Sarvesh Gupta (21CS60R53)"
   ]
  },
  {
   "cell_type": "markdown",
   "metadata": {
    "id": "mJlkFTVq4z_P"
   },
   "source": [
    "## Deatils of Dataset:\n",
    "This Dataset of \"Indian Liver Patient Dataset\" is taken from kaggle. This data set contains 416 liver patient records and 167 non liver patient records.The data set was collected from test samples in North East of Andhra Pradesh, India. 'is_patient' is a class label used to divide into groups (liver patient or not). This data set contains 441 male patient records and 142 female patient records. Any patient whose age exceeded 89 is listed as being of age \"90\"."
   ]
  },
  {
   "cell_type": "markdown",
   "metadata": {
    "id": "nec1TOn44z_Q"
   },
   "source": [
    "#### Attributes of Dataset:\n",
    "This data set has 11 columns: <br>\n",
    "1. age : Age of the patient <br>\n",
    "2. gender : Gender of the patient <br>\n",
    "3. tot_bilirubin : Total Bilirubin <br>\n",
    "4. direct_bilirubin : Direct Bilirubin <br>\n",
    "5. alkphos : Alkaline Phosphotase <br>\n",
    "6. sgpt : Alamine Aminotransferase <br>\n",
    "7. sgot : Aspartate Aminotransferase <br>\n",
    "8. tot_proteins : Total Protiens <br>\n",
    "9. albumin : Albumin <br>\n",
    "10. ag_ratio : Albumin and Globulin Ratio <br>\n",
    "11. is_patient : Selector field used to split the data into two sets"
   ]
  },
  {
   "cell_type": "markdown",
   "metadata": {
    "id": "cI3BmId24z_Q"
   },
   "source": [
    " #### Link of Dataset:\n",
    " Indian Liver Patient Dataset: https://www.kaggle.com/jeevannagaraj/indian-liver-patient-dataset"
   ]
  },
  {
   "cell_type": "markdown",
   "metadata": {
    "id": "qux0JYaS4z_R"
   },
   "source": [
    "#### Importing all the required libraries:"
   ]
  },
  {
   "cell_type": "code",
   "execution_count": 1,
   "metadata": {
    "id": "Nmnp96GxRleS"
   },
   "outputs": [],
   "source": [
    "import pandas as pd\n",
    "import numpy as np\n",
    "from math import log2\n",
    "import math\n",
    "from decimal import Decimal\n",
    "import matplotlib.pyplot as plt\n",
    "import copy"
   ]
  },
  {
   "cell_type": "markdown",
   "metadata": {
    "id": "1jdQWfvT4z_U"
   },
   "source": [
    "#### Reading the dataset:"
   ]
  },
  {
   "cell_type": "code",
   "execution_count": 2,
   "metadata": {
    "id": "Ywc_kG4e4z_U"
   },
   "outputs": [],
   "source": [
    "df=pd.read_csv('ILPD.csv')"
   ]
  },
  {
   "cell_type": "markdown",
   "metadata": {
    "id": "QXn45DXK4z_U"
   },
   "source": [
    "## Data Understanding"
   ]
  },
  {
   "cell_type": "markdown",
   "metadata": {
    "id": "ruyUvRp_4z_U"
   },
   "source": [
    "#### Top 5 rows of dataset"
   ]
  },
  {
   "cell_type": "code",
   "execution_count": 3,
   "metadata": {
    "colab": {
     "base_uri": "https://localhost:8080/",
     "height": 204
    },
    "id": "XgnSK4Gl4z_U",
    "outputId": "8ed63b55-9d7c-4449-bfb4-95767c164239"
   },
   "outputs": [
    {
     "data": {
      "text/html": [
       "<div>\n",
       "<style scoped>\n",
       "    .dataframe tbody tr th:only-of-type {\n",
       "        vertical-align: middle;\n",
       "    }\n",
       "\n",
       "    .dataframe tbody tr th {\n",
       "        vertical-align: top;\n",
       "    }\n",
       "\n",
       "    .dataframe thead th {\n",
       "        text-align: right;\n",
       "    }\n",
       "</style>\n",
       "<table border=\"1\" class=\"dataframe\">\n",
       "  <thead>\n",
       "    <tr style=\"text-align: right;\">\n",
       "      <th></th>\n",
       "      <th>age</th>\n",
       "      <th>gender</th>\n",
       "      <th>tot_bilirubin</th>\n",
       "      <th>direct_bilirubin</th>\n",
       "      <th>tot_proteins</th>\n",
       "      <th>albumin</th>\n",
       "      <th>ag_ratio</th>\n",
       "      <th>sgpt</th>\n",
       "      <th>sgot</th>\n",
       "      <th>alkphos</th>\n",
       "      <th>is_patient</th>\n",
       "    </tr>\n",
       "  </thead>\n",
       "  <tbody>\n",
       "    <tr>\n",
       "      <th>0</th>\n",
       "      <td>65</td>\n",
       "      <td>Female</td>\n",
       "      <td>0.7</td>\n",
       "      <td>0.1</td>\n",
       "      <td>187</td>\n",
       "      <td>16</td>\n",
       "      <td>18</td>\n",
       "      <td>6.8</td>\n",
       "      <td>3.3</td>\n",
       "      <td>0.90</td>\n",
       "      <td>1</td>\n",
       "    </tr>\n",
       "    <tr>\n",
       "      <th>1</th>\n",
       "      <td>62</td>\n",
       "      <td>Male</td>\n",
       "      <td>10.9</td>\n",
       "      <td>5.5</td>\n",
       "      <td>699</td>\n",
       "      <td>64</td>\n",
       "      <td>100</td>\n",
       "      <td>7.5</td>\n",
       "      <td>3.2</td>\n",
       "      <td>0.74</td>\n",
       "      <td>1</td>\n",
       "    </tr>\n",
       "    <tr>\n",
       "      <th>2</th>\n",
       "      <td>62</td>\n",
       "      <td>Male</td>\n",
       "      <td>7.3</td>\n",
       "      <td>4.1</td>\n",
       "      <td>490</td>\n",
       "      <td>60</td>\n",
       "      <td>68</td>\n",
       "      <td>7.0</td>\n",
       "      <td>3.3</td>\n",
       "      <td>0.89</td>\n",
       "      <td>1</td>\n",
       "    </tr>\n",
       "    <tr>\n",
       "      <th>3</th>\n",
       "      <td>58</td>\n",
       "      <td>Male</td>\n",
       "      <td>1.0</td>\n",
       "      <td>0.4</td>\n",
       "      <td>182</td>\n",
       "      <td>14</td>\n",
       "      <td>20</td>\n",
       "      <td>6.8</td>\n",
       "      <td>3.4</td>\n",
       "      <td>1.00</td>\n",
       "      <td>1</td>\n",
       "    </tr>\n",
       "    <tr>\n",
       "      <th>4</th>\n",
       "      <td>72</td>\n",
       "      <td>Male</td>\n",
       "      <td>3.9</td>\n",
       "      <td>2.0</td>\n",
       "      <td>195</td>\n",
       "      <td>27</td>\n",
       "      <td>59</td>\n",
       "      <td>7.3</td>\n",
       "      <td>2.4</td>\n",
       "      <td>0.40</td>\n",
       "      <td>1</td>\n",
       "    </tr>\n",
       "  </tbody>\n",
       "</table>\n",
       "</div>"
      ],
      "text/plain": [
       "   age  gender  tot_bilirubin  direct_bilirubin  tot_proteins  albumin  \\\n",
       "0   65  Female            0.7               0.1           187       16   \n",
       "1   62    Male           10.9               5.5           699       64   \n",
       "2   62    Male            7.3               4.1           490       60   \n",
       "3   58    Male            1.0               0.4           182       14   \n",
       "4   72    Male            3.9               2.0           195       27   \n",
       "\n",
       "   ag_ratio  sgpt  sgot  alkphos  is_patient  \n",
       "0        18   6.8   3.3     0.90           1  \n",
       "1       100   7.5   3.2     0.74           1  \n",
       "2        68   7.0   3.3     0.89           1  \n",
       "3        20   6.8   3.4     1.00           1  \n",
       "4        59   7.3   2.4     0.40           1  "
      ]
     },
     "execution_count": 3,
     "metadata": {},
     "output_type": "execute_result"
    }
   ],
   "source": [
    "df.head()"
   ]
  },
  {
   "cell_type": "markdown",
   "metadata": {
    "id": "EB7yofmH4z_V"
   },
   "source": [
    "#### Deatils about Dataset"
   ]
  },
  {
   "cell_type": "code",
   "execution_count": 4,
   "metadata": {
    "colab": {
     "base_uri": "https://localhost:8080/",
     "height": 297
    },
    "id": "x7gDnqc54z_V",
    "outputId": "1fe0497b-c268-403f-bc76-c04b828e5399",
    "scrolled": true
   },
   "outputs": [
    {
     "data": {
      "text/html": [
       "<div>\n",
       "<style scoped>\n",
       "    .dataframe tbody tr th:only-of-type {\n",
       "        vertical-align: middle;\n",
       "    }\n",
       "\n",
       "    .dataframe tbody tr th {\n",
       "        vertical-align: top;\n",
       "    }\n",
       "\n",
       "    .dataframe thead th {\n",
       "        text-align: right;\n",
       "    }\n",
       "</style>\n",
       "<table border=\"1\" class=\"dataframe\">\n",
       "  <thead>\n",
       "    <tr style=\"text-align: right;\">\n",
       "      <th></th>\n",
       "      <th>age</th>\n",
       "      <th>tot_bilirubin</th>\n",
       "      <th>direct_bilirubin</th>\n",
       "      <th>tot_proteins</th>\n",
       "      <th>albumin</th>\n",
       "      <th>ag_ratio</th>\n",
       "      <th>sgpt</th>\n",
       "      <th>sgot</th>\n",
       "      <th>alkphos</th>\n",
       "      <th>is_patient</th>\n",
       "    </tr>\n",
       "  </thead>\n",
       "  <tbody>\n",
       "    <tr>\n",
       "      <th>count</th>\n",
       "      <td>583.000000</td>\n",
       "      <td>583.000000</td>\n",
       "      <td>583.000000</td>\n",
       "      <td>583.000000</td>\n",
       "      <td>583.000000</td>\n",
       "      <td>583.000000</td>\n",
       "      <td>583.000000</td>\n",
       "      <td>583.000000</td>\n",
       "      <td>579.000000</td>\n",
       "      <td>583.000000</td>\n",
       "    </tr>\n",
       "    <tr>\n",
       "      <th>mean</th>\n",
       "      <td>44.746141</td>\n",
       "      <td>3.298799</td>\n",
       "      <td>1.486106</td>\n",
       "      <td>290.576329</td>\n",
       "      <td>80.713551</td>\n",
       "      <td>109.910806</td>\n",
       "      <td>6.483190</td>\n",
       "      <td>3.141852</td>\n",
       "      <td>0.947064</td>\n",
       "      <td>1.286449</td>\n",
       "    </tr>\n",
       "    <tr>\n",
       "      <th>std</th>\n",
       "      <td>16.189833</td>\n",
       "      <td>6.209522</td>\n",
       "      <td>2.808498</td>\n",
       "      <td>242.937989</td>\n",
       "      <td>182.620356</td>\n",
       "      <td>288.918529</td>\n",
       "      <td>1.085451</td>\n",
       "      <td>0.795519</td>\n",
       "      <td>0.319592</td>\n",
       "      <td>0.452490</td>\n",
       "    </tr>\n",
       "    <tr>\n",
       "      <th>min</th>\n",
       "      <td>4.000000</td>\n",
       "      <td>0.400000</td>\n",
       "      <td>0.100000</td>\n",
       "      <td>63.000000</td>\n",
       "      <td>10.000000</td>\n",
       "      <td>10.000000</td>\n",
       "      <td>2.700000</td>\n",
       "      <td>0.900000</td>\n",
       "      <td>0.300000</td>\n",
       "      <td>1.000000</td>\n",
       "    </tr>\n",
       "    <tr>\n",
       "      <th>25%</th>\n",
       "      <td>33.000000</td>\n",
       "      <td>0.800000</td>\n",
       "      <td>0.200000</td>\n",
       "      <td>175.500000</td>\n",
       "      <td>23.000000</td>\n",
       "      <td>25.000000</td>\n",
       "      <td>5.800000</td>\n",
       "      <td>2.600000</td>\n",
       "      <td>0.700000</td>\n",
       "      <td>1.000000</td>\n",
       "    </tr>\n",
       "    <tr>\n",
       "      <th>50%</th>\n",
       "      <td>45.000000</td>\n",
       "      <td>1.000000</td>\n",
       "      <td>0.300000</td>\n",
       "      <td>208.000000</td>\n",
       "      <td>35.000000</td>\n",
       "      <td>42.000000</td>\n",
       "      <td>6.600000</td>\n",
       "      <td>3.100000</td>\n",
       "      <td>0.930000</td>\n",
       "      <td>1.000000</td>\n",
       "    </tr>\n",
       "    <tr>\n",
       "      <th>75%</th>\n",
       "      <td>58.000000</td>\n",
       "      <td>2.600000</td>\n",
       "      <td>1.300000</td>\n",
       "      <td>298.000000</td>\n",
       "      <td>60.500000</td>\n",
       "      <td>87.000000</td>\n",
       "      <td>7.200000</td>\n",
       "      <td>3.800000</td>\n",
       "      <td>1.100000</td>\n",
       "      <td>2.000000</td>\n",
       "    </tr>\n",
       "    <tr>\n",
       "      <th>max</th>\n",
       "      <td>90.000000</td>\n",
       "      <td>75.000000</td>\n",
       "      <td>19.700000</td>\n",
       "      <td>2110.000000</td>\n",
       "      <td>2000.000000</td>\n",
       "      <td>4929.000000</td>\n",
       "      <td>9.600000</td>\n",
       "      <td>5.500000</td>\n",
       "      <td>2.800000</td>\n",
       "      <td>2.000000</td>\n",
       "    </tr>\n",
       "  </tbody>\n",
       "</table>\n",
       "</div>"
      ],
      "text/plain": [
       "              age  tot_bilirubin  direct_bilirubin  tot_proteins      albumin  \\\n",
       "count  583.000000     583.000000        583.000000    583.000000   583.000000   \n",
       "mean    44.746141       3.298799          1.486106    290.576329    80.713551   \n",
       "std     16.189833       6.209522          2.808498    242.937989   182.620356   \n",
       "min      4.000000       0.400000          0.100000     63.000000    10.000000   \n",
       "25%     33.000000       0.800000          0.200000    175.500000    23.000000   \n",
       "50%     45.000000       1.000000          0.300000    208.000000    35.000000   \n",
       "75%     58.000000       2.600000          1.300000    298.000000    60.500000   \n",
       "max     90.000000      75.000000         19.700000   2110.000000  2000.000000   \n",
       "\n",
       "          ag_ratio        sgpt        sgot     alkphos  is_patient  \n",
       "count   583.000000  583.000000  583.000000  579.000000  583.000000  \n",
       "mean    109.910806    6.483190    3.141852    0.947064    1.286449  \n",
       "std     288.918529    1.085451    0.795519    0.319592    0.452490  \n",
       "min      10.000000    2.700000    0.900000    0.300000    1.000000  \n",
       "25%      25.000000    5.800000    2.600000    0.700000    1.000000  \n",
       "50%      42.000000    6.600000    3.100000    0.930000    1.000000  \n",
       "75%      87.000000    7.200000    3.800000    1.100000    2.000000  \n",
       "max    4929.000000    9.600000    5.500000    2.800000    2.000000  "
      ]
     },
     "execution_count": 4,
     "metadata": {},
     "output_type": "execute_result"
    }
   ],
   "source": [
    "df.describe()"
   ]
  },
  {
   "cell_type": "markdown",
   "metadata": {
    "id": "aJiIMnWg4z_V"
   },
   "source": [
    "#### Column Names"
   ]
  },
  {
   "cell_type": "code",
   "execution_count": 5,
   "metadata": {
    "colab": {
     "base_uri": "https://localhost:8080/"
    },
    "id": "VLLIOtfe4z_W",
    "outputId": "af722dd5-c914-4c60-b593-5906f786020b"
   },
   "outputs": [
    {
     "data": {
      "text/plain": [
       "Index(['age', 'gender', 'tot_bilirubin', 'direct_bilirubin', 'tot_proteins',\n",
       "       'albumin', 'ag_ratio', 'sgpt', 'sgot', 'alkphos', 'is_patient'],\n",
       "      dtype='object')"
      ]
     },
     "execution_count": 5,
     "metadata": {},
     "output_type": "execute_result"
    }
   ],
   "source": [
    "df.columns"
   ]
  },
  {
   "cell_type": "markdown",
   "metadata": {
    "id": "UXOfVT-F4z_W"
   },
   "source": [
    "#### Datatypes of all the Columns"
   ]
  },
  {
   "cell_type": "code",
   "execution_count": 6,
   "metadata": {
    "colab": {
     "base_uri": "https://localhost:8080/"
    },
    "id": "sD9eDrS94z_X",
    "outputId": "d0f6eecb-0e94-4391-800f-4c158644bd9c"
   },
   "outputs": [
    {
     "data": {
      "text/plain": [
       "age                   int64\n",
       "gender               object\n",
       "tot_bilirubin       float64\n",
       "direct_bilirubin    float64\n",
       "tot_proteins          int64\n",
       "albumin               int64\n",
       "ag_ratio              int64\n",
       "sgpt                float64\n",
       "sgot                float64\n",
       "alkphos             float64\n",
       "is_patient            int64\n",
       "dtype: object"
      ]
     },
     "execution_count": 6,
     "metadata": {},
     "output_type": "execute_result"
    }
   ],
   "source": [
    "df.dtypes"
   ]
  },
  {
   "cell_type": "markdown",
   "metadata": {
    "id": "XbIhloRL4z_X"
   },
   "source": [
    "#### Shape of Dataset"
   ]
  },
  {
   "cell_type": "code",
   "execution_count": 7,
   "metadata": {
    "colab": {
     "base_uri": "https://localhost:8080/"
    },
    "id": "4Em2VBK84z_X",
    "outputId": "89273f0f-0abd-4450-8dc3-5371049b5820"
   },
   "outputs": [
    {
     "data": {
      "text/plain": [
       "(583, 11)"
      ]
     },
     "execution_count": 7,
     "metadata": {},
     "output_type": "execute_result"
    }
   ],
   "source": [
    "df.shape"
   ]
  },
  {
   "cell_type": "markdown",
   "metadata": {
    "id": "DZcEPl7D4z_X"
   },
   "source": [
    "Rows: 583<br>\n",
    "Column: 11"
   ]
  },
  {
   "cell_type": "markdown",
   "metadata": {
    "id": "dEgP4jTP4z_X"
   },
   "source": [
    "## Data Preparation"
   ]
  },
  {
   "cell_type": "markdown",
   "metadata": {
    "id": "eKHf7VYZ4z_Y"
   },
   "source": [
    "#### Display Number of NULL cells in each column"
   ]
  },
  {
   "cell_type": "code",
   "execution_count": 8,
   "metadata": {
    "colab": {
     "base_uri": "https://localhost:8080/"
    },
    "id": "EQBZXy-S4z_Y",
    "outputId": "28a4a62d-bef4-41db-f217-34dd60452bb3"
   },
   "outputs": [
    {
     "data": {
      "text/plain": [
       "age                 0\n",
       "gender              0\n",
       "tot_bilirubin       0\n",
       "direct_bilirubin    0\n",
       "tot_proteins        0\n",
       "albumin             0\n",
       "ag_ratio            0\n",
       "sgpt                0\n",
       "sgot                0\n",
       "alkphos             4\n",
       "is_patient          0\n",
       "dtype: int64"
      ]
     },
     "execution_count": 8,
     "metadata": {},
     "output_type": "execute_result"
    }
   ],
   "source": [
    "df.isnull().sum()"
   ]
  },
  {
   "cell_type": "markdown",
   "metadata": {
    "id": "YX37wngw4z_Y"
   },
   "source": [
    "#### Replacing the NULL values with median of the column"
   ]
  },
  {
   "cell_type": "code",
   "execution_count": 9,
   "metadata": {
    "id": "0nS5y8l4BTKf"
   },
   "outputs": [],
   "source": [
    "df['alkphos'].fillna(df['alkphos'].median(), inplace = True)"
   ]
  },
  {
   "cell_type": "markdown",
   "metadata": {
    "id": "bvx4aUIb4z_Y"
   },
   "source": [
    "#### Display Number of NULL cells in each column"
   ]
  },
  {
   "cell_type": "code",
   "execution_count": 10,
   "metadata": {
    "colab": {
     "base_uri": "https://localhost:8080/"
    },
    "id": "x-Z8_AAq4z_Y",
    "outputId": "5fa99d9c-9767-415f-c677-d436045d95d6",
    "scrolled": true
   },
   "outputs": [
    {
     "data": {
      "text/plain": [
       "age                 0\n",
       "gender              0\n",
       "tot_bilirubin       0\n",
       "direct_bilirubin    0\n",
       "tot_proteins        0\n",
       "albumin             0\n",
       "ag_ratio            0\n",
       "sgpt                0\n",
       "sgot                0\n",
       "alkphos             0\n",
       "is_patient          0\n",
       "dtype: int64"
      ]
     },
     "execution_count": 10,
     "metadata": {},
     "output_type": "execute_result"
    }
   ],
   "source": [
    "df.isnull().sum()"
   ]
  },
  {
   "cell_type": "markdown",
   "metadata": {
    "id": "g0a2hlUC4z_Z"
   },
   "source": [
    "#### Shape of Dataset"
   ]
  },
  {
   "cell_type": "code",
   "execution_count": 11,
   "metadata": {
    "colab": {
     "base_uri": "https://localhost:8080/"
    },
    "id": "Jaqnk3TV4z_Z",
    "outputId": "2f644595-c504-461a-99f2-581d9967543d",
    "scrolled": true
   },
   "outputs": [
    {
     "data": {
      "text/plain": [
       "(583, 11)"
      ]
     },
     "execution_count": 11,
     "metadata": {},
     "output_type": "execute_result"
    }
   ],
   "source": [
    "df.shape"
   ]
  },
  {
   "cell_type": "markdown",
   "metadata": {
    "id": "zljMP3l64z_Z"
   },
   "source": [
    "Rows: 583<br>\n",
    "Column: 11<br>\n",
    "No Row is eliminated, to clean the data."
   ]
  },
  {
   "cell_type": "markdown",
   "metadata": {
    "id": "E6-k_ow74z_Z"
   },
   "source": [
    "#### Displaying List of Features, and Target Attribute:"
   ]
  },
  {
   "cell_type": "code",
   "execution_count": 12,
   "metadata": {
    "colab": {
     "base_uri": "https://localhost:8080/"
    },
    "id": "JEKLM-rRSJA0",
    "outputId": "3d9aa376-6f6b-4ad9-9869-6fea674933e8"
   },
   "outputs": [
    {
     "name": "stdout",
     "output_type": "stream",
     "text": [
      "features:  ['age', 'gender', 'tot_bilirubin', 'direct_bilirubin', 'tot_proteins', 'albumin', 'ag_ratio', 'sgpt', 'sgot', 'alkphos']\n",
      "Target attribute:  is_patient\n"
     ]
    }
   ],
   "source": [
    "notation = {0: '< ', 1:'> '}\n",
    "features=list(df.columns)\n",
    "target=features[-1]\n",
    "features=features[:-1]\n",
    "print(\"features: \",features)\n",
    "print(\"Target attribute: \",target)"
   ]
  },
  {
   "cell_type": "markdown",
   "metadata": {
    "id": "n6y6bjwV4z_a"
   },
   "source": [
    "#### Function to split dataset for training and testing of the model"
   ]
  },
  {
   "cell_type": "code",
   "execution_count": 13,
   "metadata": {
    "id": "Vxs5kyPMAbb0"
   },
   "outputs": [],
   "source": [
    "def train_test_split(dataset,test_size,seed):\n",
    "    train=dataset.sample(frac=(1-test_size),random_state=seed) #random state is a seed value\n",
    "    test=dataset.drop(train.index,inplace=False)\n",
    "    return train,test"
   ]
  },
  {
   "cell_type": "markdown",
   "metadata": {
    "id": "byxyBSMl4z_a"
   },
   "source": [
    "#### Compute Correaltion of all attributes with target attribute"
   ]
  },
  {
   "cell_type": "code",
   "execution_count": 14,
   "metadata": {
    "colab": {
     "base_uri": "https://localhost:8080/"
    },
    "id": "lrBYJvFNAQfq",
    "outputId": "f009237d-a10a-4c4a-fab5-d39549200f80"
   },
   "outputs": [
    {
     "data": {
      "text/plain": [
       "age                -0.137351\n",
       "tot_bilirubin      -0.220208\n",
       "direct_bilirubin   -0.246046\n",
       "tot_proteins       -0.184866\n",
       "albumin            -0.163416\n",
       "ag_ratio           -0.151934\n",
       "sgpt                0.035008\n",
       "sgot                0.161388\n",
       "alkphos             0.162144\n",
       "is_patient          1.000000\n",
       "dtype: float64"
      ]
     },
     "execution_count": 14,
     "metadata": {},
     "output_type": "execute_result"
    }
   ],
   "source": [
    "df.corrwith(df[target])"
   ]
  },
  {
   "cell_type": "markdown",
   "metadata": {
    "id": "avP9JOy24z_b"
   },
   "source": [
    "#### Description of all the columns"
   ]
  },
  {
   "cell_type": "code",
   "execution_count": 15,
   "metadata": {
    "colab": {
     "base_uri": "https://localhost:8080/"
    },
    "id": "YPP03GcVX5A5",
    "outputId": "51d1c553-0418-4a2b-f337-308cc6095331"
   },
   "outputs": [
    {
     "name": "stdout",
     "output_type": "stream",
     "text": [
      "age\n",
      "count    583.000000\n",
      "mean      44.746141\n",
      "std       16.189833\n",
      "min        4.000000\n",
      "25%       33.000000\n",
      "50%       45.000000\n",
      "75%       58.000000\n",
      "max       90.000000\n",
      "Name: age, dtype: float64\n",
      "==========================================\n",
      "gender\n",
      "count    583.000000\n",
      "mean      44.746141\n",
      "std       16.189833\n",
      "min        4.000000\n",
      "25%       33.000000\n",
      "50%       45.000000\n",
      "75%       58.000000\n",
      "max       90.000000\n",
      "Name: age, dtype: float64\n",
      "==========================================\n",
      "tot_bilirubin\n",
      "count    583.000000\n",
      "mean      44.746141\n",
      "std       16.189833\n",
      "min        4.000000\n",
      "25%       33.000000\n",
      "50%       45.000000\n",
      "75%       58.000000\n",
      "max       90.000000\n",
      "Name: age, dtype: float64\n",
      "==========================================\n",
      "direct_bilirubin\n",
      "count    583.000000\n",
      "mean      44.746141\n",
      "std       16.189833\n",
      "min        4.000000\n",
      "25%       33.000000\n",
      "50%       45.000000\n",
      "75%       58.000000\n",
      "max       90.000000\n",
      "Name: age, dtype: float64\n",
      "==========================================\n",
      "tot_proteins\n",
      "count    583.000000\n",
      "mean      44.746141\n",
      "std       16.189833\n",
      "min        4.000000\n",
      "25%       33.000000\n",
      "50%       45.000000\n",
      "75%       58.000000\n",
      "max       90.000000\n",
      "Name: age, dtype: float64\n",
      "==========================================\n",
      "albumin\n",
      "count    583.000000\n",
      "mean      44.746141\n",
      "std       16.189833\n",
      "min        4.000000\n",
      "25%       33.000000\n",
      "50%       45.000000\n",
      "75%       58.000000\n",
      "max       90.000000\n",
      "Name: age, dtype: float64\n",
      "==========================================\n",
      "ag_ratio\n",
      "count    583.000000\n",
      "mean      44.746141\n",
      "std       16.189833\n",
      "min        4.000000\n",
      "25%       33.000000\n",
      "50%       45.000000\n",
      "75%       58.000000\n",
      "max       90.000000\n",
      "Name: age, dtype: float64\n",
      "==========================================\n",
      "sgpt\n",
      "count    583.000000\n",
      "mean      44.746141\n",
      "std       16.189833\n",
      "min        4.000000\n",
      "25%       33.000000\n",
      "50%       45.000000\n",
      "75%       58.000000\n",
      "max       90.000000\n",
      "Name: age, dtype: float64\n",
      "==========================================\n",
      "sgot\n",
      "count    583.000000\n",
      "mean      44.746141\n",
      "std       16.189833\n",
      "min        4.000000\n",
      "25%       33.000000\n",
      "50%       45.000000\n",
      "75%       58.000000\n",
      "max       90.000000\n",
      "Name: age, dtype: float64\n",
      "==========================================\n",
      "alkphos\n",
      "count    583.000000\n",
      "mean      44.746141\n",
      "std       16.189833\n",
      "min        4.000000\n",
      "25%       33.000000\n",
      "50%       45.000000\n",
      "75%       58.000000\n",
      "max       90.000000\n",
      "Name: age, dtype: float64\n",
      "==========================================\n",
      "is_patient\n",
      "count    583.000000\n",
      "mean      44.746141\n",
      "std       16.189833\n",
      "min        4.000000\n",
      "25%       33.000000\n",
      "50%       45.000000\n",
      "75%       58.000000\n",
      "max       90.000000\n",
      "Name: age, dtype: float64\n",
      "==========================================\n"
     ]
    }
   ],
   "source": [
    "for i in df.columns:\n",
    "  print(i)\n",
    "  print(df['age'].describe())\n",
    "  print(\"==========================================\")"
   ]
  },
  {
   "cell_type": "markdown",
   "metadata": {
    "id": "MFNtwZPQ4z_b"
   },
   "source": [
    "#### Histogram Representing value distribution of all the attribute"
   ]
  },
  {
   "cell_type": "code",
   "execution_count": 16,
   "metadata": {
    "colab": {
     "base_uri": "https://localhost:8080/",
     "height": 585
    },
    "id": "ZqxILakQTLh5",
    "outputId": "c632bd10-10c1-4691-f610-aadfe8c29c59",
    "scrolled": false
   },
   "outputs": [
    {
     "data": {
      "image/png": "[encoded data removed]",
      "text/plain": [
       "<Figure size 432x288 with 12 Axes>"
      ]
     },
     "metadata": {
      "needs_background": "light"
     },
     "output_type": "display_data"
    }
   ],
   "source": [
    "df.hist(bins=15, color='steelblue', edgecolor='black', linewidth=1.0, xlabelsize=8, ylabelsize=8, grid=False)    \n",
    "plt.tight_layout(rect=(0, 0, 2, 2))"
   ]
  },
  {
   "cell_type": "markdown",
   "metadata": {},
   "source": [
    "## Tree Printing Function"
   ]
  },
  {
   "cell_type": "markdown",
   "metadata": {},
   "source": [
    "#### Print tree with hierarchical levels of data attributes"
   ]
  },
  {
   "cell_type": "code",
   "execution_count": 17,
   "metadata": {},
   "outputs": [],
   "source": [
    "def printtree(tree,depth=1):\n",
    "    if isinstance(tree,dict):\n",
    "        key=list(tree.keys())[0]\n",
    "        \n",
    "        if isinstance(tree[key],dict):\n",
    "            for k in tree[key]:\n",
    "                for i in range(1,depth):\n",
    "                     print(\"|    \",end=\"\")\n",
    "                     if i == depth-1:\n",
    "                        print(\"|----\",end=\"\")\n",
    "                print(key,end=\" \")\n",
    "                print(k)\n",
    "                \n",
    "                printtree(tree[key][k],depth+1)\n",
    "              \n",
    "        else:\n",
    "          \n",
    "            for i in range(1,depth):\n",
    "                print(\"|    \",end=\"\")\n",
    "                if i==depth-1: \n",
    "                    print(\"|----\",end=\"\")\n",
    "            print(key,end=\" \")\n",
    "            print(tree[key])\n",
    "    else:\n",
    "        \n",
    "        for i in range(1,depth):\n",
    "            print(\"|    \",end=\"\")\n",
    "            if i==depth-1:\n",
    "                print(\"|----\",end=\"\")\n",
    "        print(\"class: \",tree)"
   ]
  },
  {
   "cell_type": "markdown",
   "metadata": {},
   "source": [
    "## Decision Tree Making"
   ]
  },
  {
   "cell_type": "markdown",
   "metadata": {},
   "source": [
    "#### Used to split data into subsets, for values coming under same category"
   ]
  },
  {
   "cell_type": "code",
   "execution_count": 18,
   "metadata": {
    "id": "AlvjGCr_0coc"
   },
   "outputs": [],
   "source": [
    "def get_subset(dataset,feature,feature_val):\n",
    "    return dataset[dataset[feature] == feature_val].reset_index(drop=True,inplace=False)\n",
    "def get_subset_numerical_feature(dataset,feature,threshold,greater):\n",
    "    if greater==0:\n",
    "        return dataset[dataset[feature]<threshold].reset_index(drop=True,inplace=False)\n",
    "    else:\n",
    "        return dataset[dataset[feature]>=threshold].reset_index(drop=True,inplace=False)"
   ]
  },
  {
   "cell_type": "markdown",
   "metadata": {},
   "source": [
    "#### Function to Calculate Entropy"
   ]
  },
  {
   "cell_type": "code",
   "execution_count": 19,
   "metadata": {
    "id": "Oxm7uAJ9rETi"
   },
   "outputs": [],
   "source": [
    "def entropy(dataset,target):\n",
    "    res=0\n",
    "    s=len(dataset)\n",
    "    \n",
    "    uniques=dataset[target].unique()\n",
    "   \n",
    "    for e in uniques:\n",
    "        c=len(dataset[dataset[target]==e])\n",
    "        if(c!=0):\n",
    "            res -= (c/s)*log2(c/s)\n",
    "    \n",
    "    return res "
   ]
  },
  {
   "cell_type": "markdown",
   "metadata": {},
   "source": [
    "#### To select attribute based on max information gain"
   ]
  },
  {
   "cell_type": "code",
   "execution_count": 20,
   "metadata": {
    "id": "SxBzjRRhq9jQ"
   },
   "outputs": [],
   "source": [
    "def max_info_gain(dataset,features,target):\n",
    "    selected_attribute=None\n",
    "    max_info_gain=None\n",
    "    selected_threshold=None\n",
    "    threshold=None\n",
    "    \n",
    "    entropy_of_root=entropy(dataset,target)\n",
    "     \n",
    "    for i in features:\n",
    "        \n",
    "        info_gain=entropy_of_root\n",
    "        \n",
    "        unique_vals=list(dataset[i].unique())\n",
    "  \n",
    "        if i=='gender':\n",
    "            for j in unique_vals:\n",
    "                temp_dataset=get_subset(dataset,i,j)\n",
    "                entropy_attribute=entropy(temp_dataset,target)\n",
    "                \n",
    "                info_gain-=(len(temp_dataset)/len(dataset))*entropy_attribute\n",
    "        else :\n",
    "            min_entropy=None\n",
    "            threshold=None\n",
    "                \n",
    "            j=dataset[i].median(axis=0)  \n",
    "            j=round(j,2)\n",
    "            set1=get_subset_numerical_feature(dataset,i,j,0)\n",
    "            set2=get_subset_numerical_feature(dataset,i,j,1)\n",
    "            e1=0\n",
    "            e2=0\n",
    "            if len(set1)!=0:\n",
    "                e1=(len(set1)/len(dataset))*entropy(set1,target)\n",
    "            if len(set2)!=0:\n",
    "                e2=(len(set2)/len(dataset))*entropy(set2,target)\n",
    "            if min_entropy is None:\n",
    "                min_entropy=e1+e2\n",
    "                threshold=j\n",
    "            elif min_entropy>e1+e2:\n",
    "                min_entropy=e1+e2\n",
    "                threshold=j\n",
    "        \n",
    "        info_gain-=min_entropy\n",
    "        \n",
    "        if max_info_gain == None:\n",
    "            max_info_gain=info_gain\n",
    "            selected_attribute=i\n",
    "            selected_threshold=threshold\n",
    "\n",
    "           \n",
    "        if info_gain>max_info_gain:\n",
    "            max_info_gain=info_gain \n",
    "            selected_attribute=i\n",
    "            selected_threshold=threshold\n",
    "    \n",
    "    return selected_attribute,selected_threshold"
   ]
  },
  {
   "cell_type": "markdown",
   "metadata": {},
   "source": [
    "#### Build Tree for Information Gain"
   ]
  },
  {
   "cell_type": "code",
   "execution_count": 21,
   "metadata": {
    "id": "ytq9fJ7NZ0kM"
   },
   "outputs": [],
   "source": [
    "def build_tree_info_gain(dataset,features,target,max_depth=math.inf,cur_depth=1,tree=None):\n",
    "     \n",
    "    selected_attribute,threshold=max_info_gain(dataset,features,target)\n",
    "    attr_values=[0,1]\n",
    "     \n",
    "    if tree is None:                    \n",
    "        tree={}\n",
    "        tree[selected_attribute] = {}\n",
    "    if selected_attribute=='gender' :\n",
    "        attr_values=list(dataset[selected_attribute].unique())\n",
    "    for i in attr_values:\n",
    "        key=None\n",
    "        if selected_attribute=='gender':\n",
    "            subset=get_subset(dataset,selected_attribute,i)\n",
    "            key=i\n",
    "        else:\n",
    "            subset=get_subset_numerical_feature(dataset,selected_attribute,threshold,i)\n",
    "            key=notation[i]+str(threshold)\n",
    "        classval,counts = np.unique(subset[target],return_counts=True)     \n",
    "        \n",
    "        \n",
    "        if len(counts)==1:\n",
    "            \n",
    "            tree[selected_attribute][key] = classval[0]     \n",
    "        \n",
    "        elif cur_depth==max_depth:\n",
    "            tree[selected_attribute][key]= classval[1] if counts[1]>counts[0] else classval[0]\n",
    "        else:\n",
    "            \n",
    "            updated_features=features\n",
    "            tree[selected_attribute][key] = build_tree_info_gain(subset,updated_features,target,max_depth,cur_depth+1) \n",
    "\n",
    "    return tree"
   ]
  },
  {
   "cell_type": "markdown",
   "metadata": {},
   "source": [
    "#### Accuracy of Instance of a Tree"
   ]
  },
  {
   "cell_type": "code",
   "execution_count": 22,
   "metadata": {
    "id": "_i2Nwb8OTeDQ"
   },
   "outputs": [],
   "source": [
    "def accuracy_of_the_tree(instance, Tree):\n",
    "    \n",
    "    result=None\n",
    "    attribute = list(Tree.keys())[0] \n",
    "    \n",
    "    if attribute=='gender' :\n",
    "        if instance[attribute] in Tree[attribute].keys():\n",
    "            result = Tree[attribute][instance[attribute]]\n",
    "        if isinstance(result, dict): \n",
    "            return accuracy_of_the_tree(instance, result)\n",
    "        else:\n",
    "            return result \n",
    "    else:\n",
    "        threshold=Decimal(list(Tree[attribute].keys())[0][2:])\n",
    "        \n",
    "        if instance[attribute]<threshold:     \n",
    "            result= Tree[attribute][notation[0]+str(threshold)]\n",
    "           \n",
    "        else:\n",
    "            result= Tree[attribute][notation[1]+str(threshold)]\n",
    "            \n",
    "        if isinstance(result, dict): \n",
    "            return accuracy_of_the_tree(instance, result)\n",
    "            \n",
    "        else:\n",
    "            return result "
   ]
  },
  {
   "cell_type": "markdown",
   "metadata": {},
   "source": [
    "#### Accuracy of Complete Tree"
   ]
  },
  {
   "cell_type": "code",
   "execution_count": 23,
   "metadata": {
    "id": "u2eeMu2XVW6A"
   },
   "outputs": [],
   "source": [
    "def accuracy(dataset,tree):\n",
    "    tp=0\n",
    "    tn=0\n",
    "    fp=0\n",
    "    fn=0\n",
    "    for index, row in dataset.iterrows():\n",
    "        \n",
    "        ans=accuracy_of_the_tree(row[:-1],tree)\n",
    "           \n",
    "        if ans==row[-1]:\n",
    "            if ans == 1:\n",
    "                tp=tp+1\n",
    "            else:\n",
    "                tn=tn+1\n",
    "        else:\n",
    "            if ans==1:\n",
    "                fp=fp+1\n",
    "            else:\n",
    "                fn=fn+1   \n",
    "    precision= tp/(tp+fp)\n",
    "    recall= tp/(tp+fn)\n",
    "    f1_score=2*((precision*recall)/(precision+recall))\n",
    "    acc=(tp+tn)/(tp+tn+fp+fn)\n",
    "    print(\"True Positve:\",tp,\" True Negative: \",tn,\" False Positive: \",fp,\" False Negative \",fn)\n",
    "    print(\"Precision: \",round(precision,2),\" Recall: \",round(recall,2),\" F1 Score: \",round(f1_score,2),\" Accuracy: \",round(acc,2))\n",
    "    return acc"
   ]
  },
  {
   "cell_type": "markdown",
   "metadata": {},
   "source": [
    "#### Spliting of Dataset into Training Set and Test Set"
   ]
  },
  {
   "cell_type": "code",
   "execution_count": 24,
   "metadata": {
    "id": "PfIJkhESjuCn"
   },
   "outputs": [],
   "source": [
    "training_data,test_data=train_test_split(df,test_size=.20,seed=42)"
   ]
  },
  {
   "cell_type": "markdown",
   "metadata": {},
   "source": [
    "#### Building Tree for Training Dataset"
   ]
  },
  {
   "cell_type": "code",
   "execution_count": 25,
   "metadata": {},
   "outputs": [],
   "source": [
    "tree=build_tree_info_gain(training_data,features,target)"
   ]
  },
  {
   "cell_type": "markdown",
   "metadata": {},
   "source": [
    "#### Printing the tree build by training dataset"
   ]
  },
  {
   "cell_type": "code",
   "execution_count": 26,
   "metadata": {
    "colab": {
     "base_uri": "https://localhost:8080/"
    },
    "id": "IvE4y_rejvvY",
    "outputId": "4933eed9-ba53-4a54-df37-6d28f3309525",
    "scrolled": true
   },
   "outputs": [
    {
     "name": "stdout",
     "output_type": "stream",
     "text": [
      "tot_proteins < 208.0\n",
      "|    |----ag_ratio < 31.0\n",
      "|    |    |----ag_ratio < 21.0\n",
      "|    |    |    |----sgot < 3.4\n",
      "|    |    |    |    |----albumin < 20.0\n",
      "|    |    |    |    |    |----albumin < 14.0\n",
      "|    |    |    |    |    |    |----class:  2\n",
      "|    |    |    |    |    |----albumin > 14.0\n",
      "|    |    |    |    |    |    |----tot_proteins < 170.5\n",
      "|    |    |    |    |    |    |    |----tot_bilirubin < 0.7\n",
      "|    |    |    |    |    |    |    |    |----class:  1\n",
      "|    |    |    |    |    |    |    |----tot_bilirubin > 0.7\n",
      "|    |    |    |    |    |    |    |    |----class:  2\n",
      "|    |    |    |    |    |    |----tot_proteins > 170.5\n",
      "|    |    |    |    |    |    |    |----class:  1\n",
      "|    |    |    |    |----albumin > 20.0\n",
      "|    |    |    |    |    |----albumin < 24.0\n",
      "|    |    |    |    |    |    |----age < 39.0\n",
      "|    |    |    |    |    |    |    |----class:  1\n",
      "|    |    |    |    |    |    |----age > 39.0\n",
      "|    |    |    |    |    |    |    |----tot_proteins < 170.0\n",
      "|    |    |    |    |    |    |    |    |----class:  2\n",
      "|    |    |    |    |    |    |    |----tot_proteins > 170.0\n",
      "|    |    |    |    |    |    |    |    |----class:  1\n",
      "|    |    |    |    |    |----albumin > 24.0\n",
      "|    |    |    |    |    |    |----alkphos < 0.96\n",
      "|    |    |    |    |    |    |    |----class:  2\n",
      "|    |    |    |    |    |    |----alkphos > 0.96\n",
      "|    |    |    |    |    |    |    |----tot_proteins < 165.0\n",
      "|    |    |    |    |    |    |    |    |----class:  2\n",
      "|    |    |    |    |    |    |    |----tot_proteins > 165.0\n",
      "|    |    |    |    |    |    |    |    |----class:  1\n",
      "|    |    |    |----sgot > 3.4\n",
      "|    |    |    |    |----sgpt < 7.1\n",
      "|    |    |    |    |    |----tot_proteins < 171.0\n",
      "|    |    |    |    |    |    |----tot_proteins < 155.5\n",
      "|    |    |    |    |    |    |    |----class:  1\n",
      "|    |    |    |    |    |    |----tot_proteins > 155.5\n",
      "|    |    |    |    |    |    |    |----tot_bilirubin < 0.8\n",
      "|    |    |    |    |    |    |    |    |----class:  1\n",
      "|    |    |    |    |    |    |    |----tot_bilirubin > 0.8\n",
      "|    |    |    |    |    |    |    |    |----class:  2\n",
      "|    |    |    |    |    |----tot_proteins > 171.0\n",
      "|    |    |    |    |    |    |----class:  1\n",
      "|    |    |    |    |----sgpt > 7.1\n",
      "|    |    |    |    |    |----age < 44.5\n",
      "|    |    |    |    |    |    |----tot_proteins < 182.0\n",
      "|    |    |    |    |    |    |    |----tot_bilirubin < 1.3\n",
      "|    |    |    |    |    |    |    |    |----class:  1\n",
      "|    |    |    |    |    |    |    |----tot_bilirubin > 1.3\n",
      "|    |    |    |    |    |    |    |    |----class:  2\n",
      "|    |    |    |    |    |    |----tot_proteins > 182.0\n",
      "|    |    |    |    |    |    |    |----class:  1\n",
      "|    |    |    |    |    |----age > 44.5\n",
      "|    |    |    |    |    |    |----age < 50.0\n",
      "|    |    |    |    |    |    |    |----class:  1\n",
      "|    |    |    |    |    |    |----age > 50.0\n",
      "|    |    |    |    |    |    |    |----class:  2\n",
      "|    |    |----ag_ratio > 21.0\n",
      "|    |    |    |----tot_proteins < 168.0\n",
      "|    |    |    |    |----ag_ratio < 25.0\n",
      "|    |    |    |    |    |----age < 42.0\n",
      "|    |    |    |    |    |    |----class:  2\n",
      "|    |    |    |    |    |----age > 42.0\n",
      "|    |    |    |    |    |    |----ag_ratio < 23.0\n",
      "|    |    |    |    |    |    |    |----age < 68.0\n",
      "|    |    |    |    |    |    |    |    |----class:  2\n",
      "|    |    |    |    |    |    |    |----age > 68.0\n",
      "|    |    |    |    |    |    |    |    |----class:  1\n",
      "|    |    |    |    |    |    |----ag_ratio > 23.0\n",
      "|    |    |    |    |    |    |    |----age < 52.0\n",
      "|    |    |    |    |    |    |    |    |----tot_proteins < 150.0\n",
      "|    |    |    |    |    |    |    |    |    |----class:  2\n",
      "|    |    |    |    |    |    |    |    |----tot_proteins > 150.0\n",
      "|    |    |    |    |    |    |    |    |    |----age < 45.0\n",
      "|    |    |    |    |    |    |    |    |    |    |----class:  2\n",
      "|    |    |    |    |    |    |    |    |    |----age > 45.0\n",
      "|    |    |    |    |    |    |    |    |    |    |----class:  1\n",
      "|    |    |    |    |    |    |    |----age > 52.0\n",
      "|    |    |    |    |    |    |    |    |----class:  2\n",
      "|    |    |    |    |----ag_ratio > 25.0\n",
      "|    |    |    |    |    |----alkphos < 1.19\n",
      "|    |    |    |    |    |    |----alkphos < 1.0\n",
      "|    |    |    |    |    |    |    |----albumin < 20.0\n",
      "|    |    |    |    |    |    |    |    |----class:  1\n",
      "|    |    |    |    |    |    |    |----albumin > 20.0\n",
      "|    |    |    |    |    |    |    |    |----class:  2\n",
      "|    |    |    |    |    |    |----alkphos > 1.0\n",
      "|    |    |    |    |    |    |    |----class:  2\n",
      "|    |    |    |    |    |----alkphos > 1.19\n",
      "|    |    |    |    |    |    |----tot_proteins < 132.5\n",
      "|    |    |    |    |    |    |    |----class:  1\n",
      "|    |    |    |    |    |    |----tot_proteins > 132.5\n",
      "|    |    |    |    |    |    |    |----age < 25.0\n",
      "|    |    |    |    |    |    |    |    |----class:  1\n",
      "|    |    |    |    |    |    |    |----age > 25.0\n",
      "|    |    |    |    |    |    |    |    |----class:  2\n",
      "|    |    |    |----tot_proteins > 168.0\n",
      "|    |    |    |    |----age < 50.5\n",
      "|    |    |    |    |    |----ag_ratio < 26.0\n",
      "|    |    |    |    |    |    |----tot_proteins < 198.0\n",
      "|    |    |    |    |    |    |    |----class:  1\n",
      "|    |    |    |    |    |    |----tot_proteins > 198.0\n",
      "|    |    |    |    |    |    |    |----age < 37.0\n",
      "|    |    |    |    |    |    |    |    |----age < 31.0\n",
      "|    |    |    |    |    |    |    |    |    |----class:  1\n",
      "|    |    |    |    |    |    |    |    |----age > 31.0\n",
      "|    |    |    |    |    |    |    |    |    |----class:  2\n",
      "|    |    |    |    |    |    |    |----age > 37.0\n",
      "|    |    |    |    |    |    |    |    |----class:  2\n",
      "|    |    |    |    |    |----ag_ratio > 26.0\n",
      "|    |    |    |    |    |    |----age < 35.0\n",
      "|    |    |    |    |    |    |    |----sgpt < 6.85\n",
      "|    |    |    |    |    |    |    |    |----class:  1\n",
      "|    |    |    |    |    |    |    |----sgpt > 6.85\n",
      "|    |    |    |    |    |    |    |    |----class:  2\n",
      "|    |    |    |    |    |    |----age > 35.0\n",
      "|    |    |    |    |    |    |    |----class:  1\n",
      "|    |    |    |    |----age > 50.5\n",
      "|    |    |    |    |    |----tot_proteins < 184.0\n",
      "|    |    |    |    |    |    |----age < 59.0\n",
      "|    |    |    |    |    |    |    |----tot_bilirubin < 0.7\n",
      "|    |    |    |    |    |    |    |    |----class:  2\n",
      "|    |    |    |    |    |    |    |----tot_bilirubin > 0.7\n",
      "|    |    |    |    |    |    |    |    |----class:  1\n",
      "|    |    |    |    |    |    |----age > 59.0\n",
      "|    |    |    |    |    |    |    |----tot_proteins < 170.5\n",
      "|    |    |    |    |    |    |    |    |----class:  1\n",
      "|    |    |    |    |    |    |    |----tot_proteins > 170.5\n",
      "|    |    |    |    |    |    |    |    |----class:  2\n",
      "|    |    |    |    |    |----tot_proteins > 184.0\n",
      "|    |    |    |    |    |    |----albumin < 21.0\n",
      "|    |    |    |    |    |    |    |----class:  2\n",
      "|    |    |    |    |    |    |----albumin > 21.0\n",
      "|    |    |    |    |    |    |    |----tot_bilirubin < 0.95\n",
      "|    |    |    |    |    |    |    |    |----class:  1\n",
      "|    |    |    |    |    |    |    |----tot_bilirubin > 0.95\n",
      "|    |    |    |    |    |    |    |    |----class:  2\n",
      "|    |----ag_ratio > 31.0\n",
      "|    |    |----tot_bilirubin < 0.9\n",
      "|    |    |    |----alkphos < 1.0\n",
      "|    |    |    |    |----age < 41.0\n",
      "|    |    |    |    |    |----direct_bilirubin < 0.2\n",
      "|    |    |    |    |    |    |----class:  2\n",
      "|    |    |    |    |    |----direct_bilirubin > 0.2\n",
      "|    |    |    |    |    |    |----tot_bilirubin < 0.7\n",
      "|    |    |    |    |    |    |    |----class:  1\n",
      "|    |    |    |    |    |    |----tot_bilirubin > 0.7\n",
      "|    |    |    |    |    |    |    |----ag_ratio < 39.0\n",
      "|    |    |    |    |    |    |    |    |----age < 33.5\n",
      "|    |    |    |    |    |    |    |    |    |----class:  2\n",
      "|    |    |    |    |    |    |    |    |----age > 33.5\n",
      "|    |    |    |    |    |    |    |    |    |----class:  1\n",
      "|    |    |    |    |    |    |    |----ag_ratio > 39.0\n",
      "|    |    |    |    |    |    |    |    |----class:  2\n",
      "|    |    |    |    |----age > 41.0\n",
      "|    |    |    |    |    |----direct_bilirubin < 0.2\n",
      "|    |    |    |    |    |    |----class:  1\n",
      "|    |    |    |    |    |----direct_bilirubin > 0.2\n",
      "|    |    |    |    |    |    |----age < 46.0\n",
      "|    |    |    |    |    |    |    |----class:  2\n",
      "|    |    |    |    |    |    |----age > 46.0\n",
      "|    |    |    |    |    |    |    |----age < 63.0\n",
      "|    |    |    |    |    |    |    |    |----age < 53.5\n",
      "|    |    |    |    |    |    |    |    |    |----class:  1\n",
      "|    |    |    |    |    |    |    |    |----age > 53.5\n",
      "|    |    |    |    |    |    |    |    |    |----class:  2\n",
      "|    |    |    |    |    |    |    |----age > 63.0\n",
      "|    |    |    |    |    |    |    |    |----class:  1\n",
      "|    |    |    |----alkphos > 1.0\n",
      "|    |    |    |    |----tot_proteins < 168.0\n",
      "|    |    |    |    |    |----tot_proteins < 144.5\n",
      "|    |    |    |    |    |    |----class:  1\n",
      "|    |    |    |    |    |----tot_proteins > 144.5\n",
      "|    |    |    |    |    |    |----tot_bilirubin < 0.7\n",
      "|    |    |    |    |    |    |    |----class:  2\n",
      "|    |    |    |    |    |    |----tot_bilirubin > 0.7\n",
      "|    |    |    |    |    |    |    |----age < 39.5\n",
      "|    |    |    |    |    |    |    |    |----age < 29.0\n",
      "|    |    |    |    |    |    |    |    |    |----class:  2\n",
      "|    |    |    |    |    |    |    |    |----age > 29.0\n",
      "|    |    |    |    |    |    |    |    |    |----class:  1\n",
      "|    |    |    |    |    |    |    |----age > 39.5\n",
      "|    |    |    |    |    |    |    |    |----class:  1\n",
      "|    |    |    |    |----tot_proteins > 168.0\n",
      "|    |    |    |    |    |----direct_bilirubin < 0.2\n",
      "|    |    |    |    |    |    |----class:  1\n",
      "|    |    |    |    |    |----direct_bilirubin > 0.2\n",
      "|    |    |    |    |    |    |----tot_proteins < 185.5\n",
      "|    |    |    |    |    |    |    |----sgpt < 6.65\n",
      "|    |    |    |    |    |    |    |    |----ag_ratio < 47.0\n",
      "|    |    |    |    |    |    |    |    |    |----class:  2\n",
      "|    |    |    |    |    |    |    |    |----ag_ratio > 47.0\n",
      "|    |    |    |    |    |    |    |    |    |----class:  1\n",
      "|    |    |    |    |    |    |    |----sgpt > 6.65\n",
      "|    |    |    |    |    |    |    |    |----class:  2\n",
      "|    |    |    |    |    |    |----tot_proteins > 185.5\n",
      "|    |    |    |    |    |    |    |----albumin < 39.5\n",
      "|    |    |    |    |    |    |    |    |----albumin < 34.0\n",
      "|    |    |    |    |    |    |    |    |    |----class:  1\n",
      "|    |    |    |    |    |    |    |    |----albumin > 34.0\n",
      "|    |    |    |    |    |    |    |    |    |----class:  2\n",
      "|    |    |    |    |    |    |    |----albumin > 39.5\n",
      "|    |    |    |    |    |    |    |    |----class:  1\n",
      "|    |    |----tot_bilirubin > 0.9\n",
      "|    |    |    |----tot_bilirubin < 1.7\n",
      "|    |    |    |    |----sgot < 3.7\n",
      "|    |    |    |    |    |----tot_proteins < 179.0\n",
      "|    |    |    |    |    |    |----alkphos < 0.9\n",
      "|    |    |    |    |    |    |    |----class:  2\n",
      "|    |    |    |    |    |    |----alkphos > 0.9\n",
      "|    |    |    |    |    |    |    |----age < 52.0\n",
      "|    |    |    |    |    |    |    |    |----age < 41.5\n",
      "|    |    |    |    |    |    |    |    |    |----class:  1\n",
      "|    |    |    |    |    |    |    |    |----age > 41.5\n",
      "|    |    |    |    |    |    |    |    |    |----class:  2\n",
      "|    |    |    |    |    |    |    |----age > 52.0\n",
      "|    |    |    |    |    |    |    |    |----class:  1\n",
      "|    |    |    |    |    |----tot_proteins > 179.0\n",
      "|    |    |    |    |    |    |----age < 37.5\n",
      "|    |    |    |    |    |    |    |----age < 29.0\n",
      "|    |    |    |    |    |    |    |    |----tot_bilirubin < 1.1\n",
      "|    |    |    |    |    |    |    |    |    |----class:  1\n",
      "|    |    |    |    |    |    |    |    |----tot_bilirubin > 1.1\n",
      "|    |    |    |    |    |    |    |    |    |----class:  2\n",
      "|    |    |    |    |    |    |    |----age > 29.0\n",
      "|    |    |    |    |    |    |    |    |----class:  1\n",
      "|    |    |    |    |    |    |----age > 37.5\n",
      "|    |    |    |    |    |    |    |----class:  1\n",
      "|    |    |    |    |----sgot > 3.7\n",
      "|    |    |    |    |    |----age < 45.0\n",
      "|    |    |    |    |    |    |----age < 26.0\n",
      "|    |    |    |    |    |    |    |----tot_proteins < 191.0\n",
      "|    |    |    |    |    |    |    |    |----class:  1\n",
      "|    |    |    |    |    |    |    |----tot_proteins > 191.0\n",
      "|    |    |    |    |    |    |    |    |----class:  2\n",
      "|    |    |    |    |    |    |----age > 26.0\n",
      "|    |    |    |    |    |    |    |----class:  2\n",
      "|    |    |    |    |    |----age > 45.0\n",
      "|    |    |    |    |    |    |----age < 53.0\n",
      "|    |    |    |    |    |    |    |----class:  1\n",
      "|    |    |    |    |    |    |----age > 53.0\n",
      "|    |    |    |    |    |    |    |----age < 62.0\n",
      "|    |    |    |    |    |    |    |    |----class:  2\n",
      "|    |    |    |    |    |    |    |----age > 62.0\n",
      "|    |    |    |    |    |    |    |    |----tot_bilirubin < 1.1\n",
      "|    |    |    |    |    |    |    |    |    |----class:  2\n",
      "|    |    |    |    |    |    |    |    |----tot_bilirubin > 1.1\n",
      "|    |    |    |    |    |    |    |    |    |----class:  1\n",
      "|    |    |    |----tot_bilirubin > 1.7\n",
      "|    |    |    |    |----tot_bilirubin < 2.9\n",
      "|    |    |    |    |    |----sgpt < 6.3\n",
      "|    |    |    |    |    |    |----age < 59.0\n",
      "|    |    |    |    |    |    |    |----age < 45.5\n",
      "|    |    |    |    |    |    |    |    |----age < 29.5\n",
      "|    |    |    |    |    |    |    |    |    |----class:  2\n",
      "|    |    |    |    |    |    |    |    |----age > 29.5\n",
      "|    |    |    |    |    |    |    |    |    |----class:  1\n",
      "|    |    |    |    |    |    |    |----age > 45.5\n",
      "|    |    |    |    |    |    |    |    |----age < 56.0\n",
      "|    |    |    |    |    |    |    |    |    |----class:  1\n",
      "|    |    |    |    |    |    |    |    |----age > 56.0\n",
      "|    |    |    |    |    |    |    |    |    |----class:  2\n",
      "|    |    |    |    |    |    |----age > 59.0\n",
      "|    |    |    |    |    |    |    |----age < 62.5\n",
      "|    |    |    |    |    |    |    |    |----class:  1\n",
      "|    |    |    |    |    |    |    |----age > 62.5\n",
      "|    |    |    |    |    |    |    |    |----age < 68.5\n",
      "|    |    |    |    |    |    |    |    |    |----class:  2\n",
      "|    |    |    |    |    |    |    |    |----age > 68.5\n",
      "|    |    |    |    |    |    |    |    |    |----class:  1\n",
      "|    |    |    |    |    |----sgpt > 6.3\n",
      "|    |    |    |    |    |    |----class:  1\n",
      "|    |    |    |    |----tot_bilirubin > 2.9\n",
      "|    |    |    |    |    |----class:  1\n",
      "tot_proteins > 208.0\n",
      "|    |----direct_bilirubin < 0.8\n",
      "|    |    |----albumin < 36.0\n",
      "|    |    |    |----tot_proteins < 279.0\n",
      "|    |    |    |    |----sgpt < 6.6\n",
      "|    |    |    |    |    |----albumin < 24.0\n",
      "|    |    |    |    |    |    |----ag_ratio < 23.0\n",
      "|    |    |    |    |    |    |    |----age < 54.5\n",
      "|    |    |    |    |    |    |    |    |----class:  1\n",
      "|    |    |    |    |    |    |    |----age > 54.5\n",
      "|    |    |    |    |    |    |    |    |----class:  2\n",
      "|    |    |    |    |    |    |----ag_ratio > 23.0\n",
      "|    |    |    |    |    |    |    |----class:  2\n",
      "|    |    |    |    |    |----albumin > 24.0\n",
      "|    |    |    |    |    |    |----sgpt < 5.2\n",
      "|    |    |    |    |    |    |    |----class:  1\n",
      "|    |    |    |    |    |    |----sgpt > 5.2\n",
      "|    |    |    |    |    |    |    |----tot_bilirubin < 0.75\n",
      "|    |    |    |    |    |    |    |    |----age < 65.5\n",
      "|    |    |    |    |    |    |    |    |    |----class:  2\n",
      "|    |    |    |    |    |    |    |    |----age > 65.5\n",
      "|    |    |    |    |    |    |    |    |    |----class:  1\n",
      "|    |    |    |    |    |    |    |----tot_bilirubin > 0.75\n",
      "|    |    |    |    |    |    |    |    |----class:  2\n",
      "|    |    |    |    |----sgpt > 6.6\n",
      "|    |    |    |    |    |----direct_bilirubin < 0.2\n",
      "|    |    |    |    |    |    |----class:  1\n",
      "|    |    |    |    |    |----direct_bilirubin > 0.2\n",
      "|    |    |    |    |    |    |----tot_proteins < 215.0\n",
      "|    |    |    |    |    |    |    |----albumin < 19.0\n",
      "|    |    |    |    |    |    |    |    |----class:  2\n",
      "|    |    |    |    |    |    |    |----albumin > 19.0\n",
      "|    |    |    |    |    |    |    |    |----alkphos < 1.0\n",
      "|    |    |    |    |    |    |    |    |    |----class:  2\n",
      "|    |    |    |    |    |    |    |    |----alkphos > 1.0\n",
      "|    |    |    |    |    |    |    |    |    |----class:  1\n",
      "|    |    |    |    |    |    |----tot_proteins > 215.0\n",
      "|    |    |    |    |    |    |    |----tot_bilirubin < 0.9\n",
      "|    |    |    |    |    |    |    |    |----albumin < 15.0\n",
      "|    |    |    |    |    |    |    |    |    |----class:  2\n",
      "|    |    |    |    |    |    |    |    |----albumin > 15.0\n",
      "|    |    |    |    |    |    |    |    |    |----class:  1\n",
      "|    |    |    |    |    |    |    |----tot_bilirubin > 0.9\n",
      "|    |    |    |    |    |    |    |    |----age < 53.0\n",
      "|    |    |    |    |    |    |    |    |    |----age < 39.5\n",
      "|    |    |    |    |    |    |    |    |    |    |----class:  2\n",
      "|    |    |    |    |    |    |    |    |    |----age > 39.5\n",
      "|    |    |    |    |    |    |    |    |    |    |----class:  1\n",
      "|    |    |    |    |    |    |    |    |----age > 53.0\n",
      "|    |    |    |    |    |    |    |    |    |----class:  1\n",
      "|    |    |    |----tot_proteins > 279.0\n",
      "|    |    |    |    |----direct_bilirubin < 0.2\n",
      "|    |    |    |    |    |----tot_bilirubin < 0.65\n",
      "|    |    |    |    |    |    |----class:  2\n",
      "|    |    |    |    |    |----tot_bilirubin > 0.65\n",
      "|    |    |    |    |    |    |----age < 36.0\n",
      "|    |    |    |    |    |    |    |----class:  1\n",
      "|    |    |    |    |    |    |----age > 36.0\n",
      "|    |    |    |    |    |    |    |----age < 50.5\n",
      "|    |    |    |    |    |    |    |    |----class:  2\n",
      "|    |    |    |    |    |    |    |----age > 50.5\n",
      "|    |    |    |    |    |    |    |    |----class:  1\n",
      "|    |    |    |    |----direct_bilirubin > 0.2\n",
      "|    |    |    |    |    |----albumin < 25.0\n",
      "|    |    |    |    |    |    |----age < 50.5\n",
      "|    |    |    |    |    |    |    |----tot_bilirubin < 0.9\n",
      "|    |    |    |    |    |    |    |    |----class:  1\n",
      "|    |    |    |    |    |    |    |----tot_bilirubin > 0.9\n",
      "|    |    |    |    |    |    |    |    |----age < 18.0\n",
      "|    |    |    |    |    |    |    |    |    |----class:  2\n",
      "|    |    |    |    |    |    |    |    |----age > 18.0\n",
      "|    |    |    |    |    |    |    |    |    |----age < 34.0\n",
      "|    |    |    |    |    |    |    |    |    |    |----class:  2\n",
      "|    |    |    |    |    |    |    |    |    |----age > 34.0\n",
      "|    |    |    |    |    |    |    |    |    |    |----class:  1\n",
      "|    |    |    |    |    |    |----age > 50.5\n",
      "|    |    |    |    |    |    |    |----tot_bilirubin < 0.9\n",
      "|    |    |    |    |    |    |    |    |----age < 62.5\n",
      "|    |    |    |    |    |    |    |    |    |----class:  1\n",
      "|    |    |    |    |    |    |    |    |----age > 62.5\n",
      "|    |    |    |    |    |    |    |    |    |----class:  2\n",
      "|    |    |    |    |    |    |    |----tot_bilirubin > 0.9\n",
      "|    |    |    |    |    |    |    |    |----class:  1\n",
      "|    |    |    |    |    |----albumin > 25.0\n",
      "|    |    |    |    |    |    |----age < 36.5\n",
      "|    |    |    |    |    |    |    |----age < 16.5\n",
      "|    |    |    |    |    |    |    |    |----age < 13.0\n",
      "|    |    |    |    |    |    |    |    |    |----class:  2\n",
      "|    |    |    |    |    |    |    |    |----age > 13.0\n",
      "|    |    |    |    |    |    |    |    |    |----class:  1\n",
      "|    |    |    |    |    |    |    |----age > 16.5\n",
      "|    |    |    |    |    |    |    |    |----class:  1\n",
      "|    |    |    |    |    |    |----age > 36.5\n",
      "|    |    |    |    |    |    |    |----class:  1\n",
      "|    |    |----albumin > 36.0\n",
      "|    |    |    |----albumin < 62.0\n",
      "|    |    |    |    |----age < 45.0\n",
      "|    |    |    |    |    |----tot_proteins < 269.0\n",
      "|    |    |    |    |    |    |----age < 26.0\n",
      "|    |    |    |    |    |    |    |----class:  1\n",
      "|    |    |    |    |    |    |----age > 26.0\n",
      "|    |    |    |    |    |    |    |----sgpt < 7.5\n",
      "|    |    |    |    |    |    |    |    |----class:  2\n",
      "|    |    |    |    |    |    |    |----sgpt > 7.5\n",
      "|    |    |    |    |    |    |    |    |----class:  1\n",
      "|    |    |    |    |    |----tot_proteins > 269.0\n",
      "|    |    |    |    |    |    |----age < 17.0\n",
      "|    |    |    |    |    |    |    |----tot_proteins < 289.0\n",
      "|    |    |    |    |    |    |    |    |----class:  1\n",
      "|    |    |    |    |    |    |    |----tot_proteins > 289.0\n",
      "|    |    |    |    |    |    |    |    |----class:  2\n",
      "|    |    |    |    |    |    |----age > 17.0\n",
      "|    |    |    |    |    |    |    |----class:  2\n",
      "|    |    |    |    |----age > 45.0\n",
      "|    |    |    |    |    |----albumin < 48.0\n",
      "|    |    |    |    |    |    |----class:  1\n",
      "|    |    |    |    |    |----albumin > 48.0\n",
      "|    |    |    |    |    |    |----direct_bilirubin < 0.3\n",
      "|    |    |    |    |    |    |    |----class:  1\n",
      "|    |    |    |    |    |    |----direct_bilirubin > 0.3\n",
      "|    |    |    |    |    |    |    |----tot_bilirubin < 1.0\n",
      "|    |    |    |    |    |    |    |    |----age < 67.0\n",
      "|    |    |    |    |    |    |    |    |    |----class:  2\n",
      "|    |    |    |    |    |    |    |    |----age > 67.0\n",
      "|    |    |    |    |    |    |    |    |    |----class:  1\n",
      "|    |    |    |    |    |    |    |----tot_bilirubin > 1.0\n",
      "|    |    |    |    |    |    |    |    |----ag_ratio < 44.0\n",
      "|    |    |    |    |    |    |    |    |    |----class:  2\n",
      "|    |    |    |    |    |    |    |    |----ag_ratio > 44.0\n",
      "|    |    |    |    |    |    |    |    |    |----class:  1\n",
      "|    |    |    |----albumin > 62.0\n",
      "|    |    |    |    |----tot_bilirubin < 0.9\n",
      "|    |    |    |    |    |----age < 46.0\n",
      "|    |    |    |    |    |    |----age < 34.0\n",
      "|    |    |    |    |    |    |    |----age < 18.0\n",
      "|    |    |    |    |    |    |    |    |----class:  2\n",
      "|    |    |    |    |    |    |    |----age > 18.0\n",
      "|    |    |    |    |    |    |    |    |----class:  1\n",
      "|    |    |    |    |    |    |----age > 34.0\n",
      "|    |    |    |    |    |    |    |----class:  1\n",
      "|    |    |    |    |    |----age > 46.0\n",
      "|    |    |    |    |    |    |----class:  1\n",
      "|    |    |    |    |----tot_bilirubin > 0.9\n",
      "|    |    |    |    |    |----class:  1\n",
      "|    |----direct_bilirubin > 0.8\n",
      "|    |    |----ag_ratio < 88.0\n",
      "|    |    |    |----age < 50.0\n",
      "|    |    |    |    |----age < 42.0\n",
      "|    |    |    |    |    |----sgot < 2.9\n",
      "|    |    |    |    |    |    |----class:  1\n",
      "|    |    |    |    |    |----sgot > 2.9\n",
      "|    |    |    |    |    |    |----age < 37.5\n",
      "|    |    |    |    |    |    |    |----age < 28.0\n",
      "|    |    |    |    |    |    |    |    |----age < 22.5\n",
      "|    |    |    |    |    |    |    |    |    |----class:  1\n",
      "|    |    |    |    |    |    |    |    |----age > 22.5\n",
      "|    |    |    |    |    |    |    |    |    |----class:  2\n",
      "|    |    |    |    |    |    |    |----age > 28.0\n",
      "|    |    |    |    |    |    |    |    |----class:  1\n",
      "|    |    |    |    |    |    |----age > 37.5\n",
      "|    |    |    |    |    |    |    |----age < 39.5\n",
      "|    |    |    |    |    |    |    |    |----class:  2\n",
      "|    |    |    |    |    |    |    |----age > 39.5\n",
      "|    |    |    |    |    |    |    |    |----class:  1\n",
      "|    |    |    |    |----age > 42.0\n",
      "|    |    |    |    |    |----age < 45.0\n",
      "|    |    |    |    |    |    |----tot_bilirubin < 7.85\n",
      "|    |    |    |    |    |    |    |----tot_bilirubin < 4.55\n",
      "|    |    |    |    |    |    |    |    |----class:  1\n",
      "|    |    |    |    |    |    |    |----tot_bilirubin > 4.55\n",
      "|    |    |    |    |    |    |    |    |----class:  2\n",
      "|    |    |    |    |    |    |----tot_bilirubin > 7.85\n",
      "|    |    |    |    |    |    |    |----class:  1\n",
      "|    |    |    |    |    |----age > 45.0\n",
      "|    |    |    |    |    |    |----class:  1\n",
      "|    |    |    |----age > 50.0\n",
      "|    |    |    |    |----albumin < 42.0\n",
      "|    |    |    |    |    |----class:  1\n",
      "|    |    |    |    |----albumin > 42.0\n",
      "|    |    |    |    |    |----ag_ratio < 52.0\n",
      "|    |    |    |    |    |    |----class:  1\n",
      "|    |    |    |    |    |----ag_ratio > 52.0\n",
      "|    |    |    |    |    |    |----direct_bilirubin < 3.75\n",
      "|    |    |    |    |    |    |    |----alkphos < 0.6\n",
      "|    |    |    |    |    |    |    |    |----class:  1\n",
      "|    |    |    |    |    |    |    |----alkphos > 0.6\n",
      "|    |    |    |    |    |    |    |    |----age < 61.0\n",
      "|    |    |    |    |    |    |    |    |    |----class:  2\n",
      "|    |    |    |    |    |    |    |    |----age > 61.0\n",
      "|    |    |    |    |    |    |    |    |    |----class:  1\n",
      "|    |    |    |    |    |    |----direct_bilirubin > 3.75\n",
      "|    |    |    |    |    |    |    |----class:  1\n",
      "|    |    |----ag_ratio > 88.0\n",
      "|    |    |    |----alkphos < 0.8\n",
      "|    |    |    |    |----direct_bilirubin < 4.0\n",
      "|    |    |    |    |    |----direct_bilirubin < 1.95\n",
      "|    |    |    |    |    |    |----class:  1\n",
      "|    |    |    |    |    |----direct_bilirubin > 1.95\n",
      "|    |    |    |    |    |    |----alkphos < 0.7\n",
      "|    |    |    |    |    |    |    |----age < 48.0\n",
      "|    |    |    |    |    |    |    |    |----class:  1\n",
      "|    |    |    |    |    |    |    |----age > 48.0\n",
      "|    |    |    |    |    |    |    |    |----class:  2\n",
      "|    |    |    |    |    |    |----alkphos > 0.7\n",
      "|    |    |    |    |    |    |    |----class:  1\n",
      "|    |    |    |    |----direct_bilirubin > 4.0\n",
      "|    |    |    |    |    |----class:  1\n",
      "|    |    |    |----alkphos > 0.8\n",
      "|    |    |    |    |----class:  1\n"
     ]
    }
   ],
   "source": [
    "printtree(tree)"
   ]
  },
  {
   "cell_type": "markdown",
   "metadata": {},
   "source": [
    "#### Accuracy of Tree, when tested on training dataset"
   ]
  },
  {
   "cell_type": "code",
   "execution_count": 27,
   "metadata": {},
   "outputs": [
    {
     "name": "stdout",
     "output_type": "stream",
     "text": [
      "True Positve: 326  True Negative:  123  False Positive:  9  False Negative  8\n",
      "Precision:  0.97  Recall:  0.98  F1 Score:  0.97  Accuracy:  0.96\n"
     ]
    },
    {
     "data": {
      "text/plain": [
       "0.9635193133047211"
      ]
     },
     "execution_count": 27,
     "metadata": {},
     "output_type": "execute_result"
    }
   ],
   "source": [
    "accuracy(training_data,tree)"
   ]
  },
  {
   "cell_type": "markdown",
   "metadata": {},
   "source": [
    "#### Accuracy of Tree, when tested on test dataset"
   ]
  },
  {
   "cell_type": "code",
   "execution_count": 28,
   "metadata": {},
   "outputs": [
    {
     "name": "stdout",
     "output_type": "stream",
     "text": [
      "True Positve: 63  True Negative:  14  False Positive:  21  False Negative  19\n",
      "Precision:  0.75  Recall:  0.77  F1 Score:  0.76  Accuracy:  0.66\n"
     ]
    },
    {
     "data": {
      "text/plain": [
       "0.6581196581196581"
      ]
     },
     "execution_count": 28,
     "metadata": {},
     "output_type": "execute_result"
    }
   ],
   "source": [
    "accuracy(test_data,tree)"
   ]
  },
  {
   "cell_type": "markdown",
   "metadata": {},
   "source": [
    "#### Accuracy of Tree, when tested on complete dataset"
   ]
  },
  {
   "cell_type": "code",
   "execution_count": 29,
   "metadata": {
    "colab": {
     "base_uri": "https://localhost:8080/"
    },
    "id": "YMgzp0UGX_F1",
    "outputId": "918aa426-d9ba-4179-c0ba-2d6c852b87f3"
   },
   "outputs": [
    {
     "name": "stdout",
     "output_type": "stream",
     "text": [
      "True Positve: 389  True Negative:  137  False Positive:  30  False Negative  27\n",
      "Precision:  0.93  Recall:  0.94  F1 Score:  0.93  Accuracy:  0.9\n"
     ]
    },
    {
     "data": {
      "text/plain": [
       "0.902229845626072"
      ]
     },
     "execution_count": 29,
     "metadata": {},
     "output_type": "execute_result"
    }
   ],
   "source": [
    "accuracy(df,tree)"
   ]
  },
  {
   "cell_type": "markdown",
   "metadata": {},
   "source": [
    "#### Calculate the Gini Index"
   ]
  },
  {
   "cell_type": "code",
   "execution_count": 30,
   "metadata": {
    "id": "nPGfAQFILgJu"
   },
   "outputs": [],
   "source": [
    "def gini_index(dataset,target):\n",
    "    res=0\n",
    "    s=len(dataset)\n",
    "    \n",
    "    uniques=dataset[target].unique()\n",
    "   \n",
    "    for e in uniques:\n",
    "        c=len(dataset[dataset[target]==e])\n",
    "        if(c!=0):\n",
    "            res= (c/s)*(1-(c/s))\n",
    "    \n",
    "    return res "
   ]
  },
  {
   "cell_type": "markdown",
   "metadata": {},
   "source": [
    "#### To select attribute based on max gini gain"
   ]
  },
  {
   "cell_type": "code",
   "execution_count": 31,
   "metadata": {
    "id": "wtfrAjvxLdER"
   },
   "outputs": [],
   "source": [
    "def max_gini_gain(dataset,features,target):\n",
    "    selected_attribute=None\n",
    "    max_gini_gain=None\n",
    "    selected_threshold=None\n",
    "    threshold=None\n",
    "    \n",
    "    gini_of_root=gini_index(dataset,target)\n",
    "     \n",
    "    for i in features:\n",
    "        \n",
    "        gini_gain=gini_of_root\n",
    "        \n",
    "        unique_vals=list(dataset[i].unique())\n",
    "        if i=='gender' :\n",
    "            \n",
    "          \n",
    "            for j in unique_vals:\n",
    "                temp_dataset=get_subset(dataset,i,j)\n",
    "                gini_attribute=gini_index(temp_dataset,target)\n",
    "                \n",
    "                gini_gain-=(len(temp_dataset)/len(dataset))*gini_attribute\n",
    "        else :\n",
    "            min_gain=None\n",
    "            threshold=None\n",
    "            \n",
    "            \n",
    "            j=dataset[i].median()   \n",
    "            j=round(j,2)\n",
    "            set1=get_subset_numerical_feature(dataset,i,j,0)\n",
    "            set2=get_subset_numerical_feature(dataset,i,j,1)\n",
    "            e1=0\n",
    "            e2=0\n",
    "            if len(set1)!=0:\n",
    "                e1=(len(set1)/len(dataset))*gini_index(set1,target)\n",
    "            if len(set2)!=0:\n",
    "                e2=(len(set2)/len(dataset))*gini_index(set2,target)\n",
    "            if min_gain is None:\n",
    "                min_gain=e1+e2\n",
    "                threshold=j\n",
    "            elif min_gain>e1+e2:\n",
    "                min_gain=e1+e2\n",
    "                threshold=j\n",
    "              \n",
    "            gini_gain-=min_gain\n",
    "\n",
    "        if max_gini_gain == None:\n",
    "            max_gini_gain=gini_gain \n",
    "            selected_attribute=i\n",
    "            selected_threshold=threshold         \n",
    "        elif gini_gain>max_gini_gain:\n",
    "            max_gini_gain=gini_gain \n",
    "            selected_attribute=i\n",
    "            selected_threshold=threshold\n",
    "    \n",
    "    return selected_attribute,selected_threshold"
   ]
  },
  {
   "cell_type": "markdown",
   "metadata": {},
   "source": [
    "#### Build Tree for Gini Gain"
   ]
  },
  {
   "cell_type": "code",
   "execution_count": 32,
   "metadata": {
    "id": "z4EM_8ozHRMh"
   },
   "outputs": [],
   "source": [
    "def build_tree_gini(dataset,features,target,max_depth=math.inf,cur_depth=1,tree=None):\n",
    "     \n",
    "    selected_attribute,threshold=max_gini_gain(dataset,features,target)\n",
    "    attr_values=[0,1]\n",
    "    if tree is None:                    \n",
    "        tree={}\n",
    "        tree[selected_attribute] = {}\n",
    "    if selected_attribute=='gender':\n",
    "        attr_values=list(dataset[selected_attribute].unique())\n",
    "    for i in attr_values:\n",
    "        key=None\n",
    "        if selected_attribute=='gender':\n",
    "            subset=get_subset(dataset,selected_attribute,i)\n",
    "            key=i\n",
    "        else:\n",
    "            subset=get_subset_numerical_feature(dataset,selected_attribute,threshold,i)\n",
    "            key= notation[i]+str(threshold)\n",
    "        classval,counts = np.unique(subset[target],return_counts=True)     \n",
    "         \n",
    "        \n",
    "        if len(counts)==1:\n",
    "           tree[selected_attribute][key] = classval[0]\n",
    "                                                           \n",
    "        elif cur_depth==max_depth:\n",
    "            tree[selected_attribute][key]= classval[1] if counts[1]>counts[0] else classval[0]\n",
    "        else:\n",
    "            updated_features=features\n",
    "            tree[selected_attribute][key] = build_tree_gini(subset,updated_features,target,max_depth,cur_depth+1) \n",
    "\n",
    "    return tree"
   ]
  },
  {
   "cell_type": "code",
   "execution_count": 33,
   "metadata": {
    "id": "8uNFq95Va9RM"
   },
   "outputs": [],
   "source": [
    "training_data,test_data=train_test_split(df,test_size=.20,seed=42)\n",
    "tree=build_tree_gini(training_data,features,target)"
   ]
  },
  {
   "cell_type": "code",
   "execution_count": 34,
   "metadata": {
    "colab": {
     "base_uri": "https://localhost:8080/"
    },
    "id": "SfiJjmG8F9Sq",
    "outputId": "1a6b8b56-21f1-4199-bd8e-0ef7b789efbd",
    "scrolled": true
   },
   "outputs": [
    {
     "name": "stdout",
     "output_type": "stream",
     "text": [
      "tot_proteins < 208.0\n",
      "|    |----ag_ratio < 31.0\n",
      "|    |    |----gender Male\n",
      "|    |    |    |----direct_bilirubin < 0.2\n",
      "|    |    |    |    |----sgpt < 5.85\n",
      "|    |    |    |    |    |----age < 47.0\n",
      "|    |    |    |    |    |    |----class:  1\n",
      "|    |    |    |    |    |----age > 47.0\n",
      "|    |    |    |    |    |    |----age < 63.0\n",
      "|    |    |    |    |    |    |    |----class:  2\n",
      "|    |    |    |    |    |    |----age > 63.0\n",
      "|    |    |    |    |    |    |    |----class:  1\n",
      "|    |    |    |    |----sgpt > 5.85\n",
      "|    |    |    |    |    |----age < 52.0\n",
      "|    |    |    |    |    |    |----age < 39.5\n",
      "|    |    |    |    |    |    |    |----class:  2\n",
      "|    |    |    |    |    |    |----age > 39.5\n",
      "|    |    |    |    |    |    |    |----class:  1\n",
      "|    |    |    |    |    |----age > 52.0\n",
      "|    |    |    |    |    |    |----age < 56.0\n",
      "|    |    |    |    |    |    |    |----tot_proteins < 174.5\n",
      "|    |    |    |    |    |    |    |    |----class:  1\n",
      "|    |    |    |    |    |    |    |----tot_proteins > 174.5\n",
      "|    |    |    |    |    |    |    |    |----class:  2\n",
      "|    |    |    |    |    |    |----age > 56.0\n",
      "|    |    |    |    |    |    |    |----class:  2\n",
      "|    |    |    |----direct_bilirubin > 0.2\n",
      "|    |    |    |    |----age < 44.0\n",
      "|    |    |    |    |    |----alkphos < 1.0\n",
      "|    |    |    |    |    |    |----tot_bilirubin < 0.8\n",
      "|    |    |    |    |    |    |    |----age < 35.0\n",
      "|    |    |    |    |    |    |    |    |----class:  2\n",
      "|    |    |    |    |    |    |    |----age > 35.0\n",
      "|    |    |    |    |    |    |    |    |----class:  1\n",
      "|    |    |    |    |    |    |----tot_bilirubin > 0.8\n",
      "|    |    |    |    |    |    |    |----class:  2\n",
      "|    |    |    |    |    |----alkphos > 1.0\n",
      "|    |    |    |    |    |    |----ag_ratio < 23.0\n",
      "|    |    |    |    |    |    |    |----tot_proteins < 155.5\n",
      "|    |    |    |    |    |    |    |    |----class:  2\n",
      "|    |    |    |    |    |    |    |----tot_proteins > 155.5\n",
      "|    |    |    |    |    |    |    |    |----tot_proteins < 185.0\n",
      "|    |    |    |    |    |    |    |    |    |----class:  2\n",
      "|    |    |    |    |    |    |    |    |----tot_proteins > 185.0\n",
      "|    |    |    |    |    |    |    |    |    |----class:  1\n",
      "|    |    |    |    |    |    |----ag_ratio > 23.0\n",
      "|    |    |    |    |    |    |    |----ag_ratio < 26.0\n",
      "|    |    |    |    |    |    |    |    |----class:  2\n",
      "|    |    |    |    |    |    |    |----ag_ratio > 26.0\n",
      "|    |    |    |    |    |    |    |    |----age < 25.5\n",
      "|    |    |    |    |    |    |    |    |    |----age < 21.0\n",
      "|    |    |    |    |    |    |    |    |    |    |----class:  2\n",
      "|    |    |    |    |    |    |    |    |    |----age > 21.0\n",
      "|    |    |    |    |    |    |    |    |    |    |----tot_bilirubin < 0.8\n",
      "|    |    |    |    |    |    |    |    |    |    |    |----class:  2\n",
      "|    |    |    |    |    |    |    |    |    |    |----tot_bilirubin > 0.8\n",
      "|    |    |    |    |    |    |    |    |    |    |    |----class:  1\n",
      "|    |    |    |    |    |    |    |    |----age > 25.5\n",
      "|    |    |    |    |    |    |    |    |    |----age < 34.0\n",
      "|    |    |    |    |    |    |    |    |    |    |----age < 31.0\n",
      "|    |    |    |    |    |    |    |    |    |    |    |----class:  1\n",
      "|    |    |    |    |    |    |    |    |    |    |----age > 31.0\n",
      "|    |    |    |    |    |    |    |    |    |    |    |----class:  2\n",
      "|    |    |    |    |    |    |    |    |    |----age > 34.0\n",
      "|    |    |    |    |    |    |    |    |    |    |----class:  1\n",
      "|    |    |    |    |----age > 44.0\n",
      "|    |    |    |    |    |----sgpt < 6.7\n",
      "|    |    |    |    |    |    |----age < 60.0\n",
      "|    |    |    |    |    |    |    |----age < 52.0\n",
      "|    |    |    |    |    |    |    |    |----tot_bilirubin < 0.8\n",
      "|    |    |    |    |    |    |    |    |    |----class:  1\n",
      "|    |    |    |    |    |    |    |    |----tot_bilirubin > 0.8\n",
      "|    |    |    |    |    |    |    |    |    |----class:  2\n",
      "|    |    |    |    |    |    |    |----age > 52.0\n",
      "|    |    |    |    |    |    |    |    |----albumin < 25.0\n",
      "|    |    |    |    |    |    |    |    |    |----class:  2\n",
      "|    |    |    |    |    |    |    |    |----albumin > 25.0\n",
      "|    |    |    |    |    |    |    |    |    |----class:  1\n",
      "|    |    |    |    |    |    |----age > 60.0\n",
      "|    |    |    |    |    |    |    |----tot_proteins < 163.0\n",
      "|    |    |    |    |    |    |    |    |----ag_ratio < 24.0\n",
      "|    |    |    |    |    |    |    |    |    |----class:  1\n",
      "|    |    |    |    |    |    |    |    |----ag_ratio > 24.0\n",
      "|    |    |    |    |    |    |    |    |    |----class:  2\n",
      "|    |    |    |    |    |    |    |----tot_proteins > 163.0\n",
      "|    |    |    |    |    |    |    |    |----class:  2\n",
      "|    |    |    |    |    |----sgpt > 6.7\n",
      "|    |    |    |    |    |    |----tot_bilirubin < 0.75\n",
      "|    |    |    |    |    |    |    |----albumin < 18.0\n",
      "|    |    |    |    |    |    |    |    |----class:  1\n",
      "|    |    |    |    |    |    |    |----albumin > 18.0\n",
      "|    |    |    |    |    |    |    |    |----class:  2\n",
      "|    |    |    |    |    |    |----tot_bilirubin > 0.75\n",
      "|    |    |    |    |    |    |    |----age < 51.0\n",
      "|    |    |    |    |    |    |    |    |----tot_proteins < 192.0\n",
      "|    |    |    |    |    |    |    |    |    |----class:  2\n",
      "|    |    |    |    |    |    |    |    |----tot_proteins > 192.0\n",
      "|    |    |    |    |    |    |    |    |    |----class:  1\n",
      "|    |    |    |    |    |    |    |----age > 51.0\n",
      "|    |    |    |    |    |    |    |    |----class:  1\n",
      "|    |    |----gender Female\n",
      "|    |    |    |----tot_bilirubin < 0.8\n",
      "|    |    |    |    |----direct_bilirubin < 0.2\n",
      "|    |    |    |    |    |----sgpt < 6.9\n",
      "|    |    |    |    |    |    |----class:  1\n",
      "|    |    |    |    |    |----sgpt > 6.9\n",
      "|    |    |    |    |    |    |----age < 38.0\n",
      "|    |    |    |    |    |    |    |----age < 19.0\n",
      "|    |    |    |    |    |    |    |    |----class:  1\n",
      "|    |    |    |    |    |    |    |----age > 19.0\n",
      "|    |    |    |    |    |    |    |    |----class:  2\n",
      "|    |    |    |    |    |    |----age > 38.0\n",
      "|    |    |    |    |    |    |    |----class:  2\n",
      "|    |    |    |    |----direct_bilirubin > 0.2\n",
      "|    |    |    |    |    |----tot_bilirubin < 0.7\n",
      "|    |    |    |    |    |    |----class:  2\n",
      "|    |    |    |    |    |----tot_bilirubin > 0.7\n",
      "|    |    |    |    |    |    |----age < 55.0\n",
      "|    |    |    |    |    |    |    |----albumin < 21.0\n",
      "|    |    |    |    |    |    |    |    |----class:  2\n",
      "|    |    |    |    |    |    |    |----albumin > 21.0\n",
      "|    |    |    |    |    |    |    |    |----age < 36.0\n",
      "|    |    |    |    |    |    |    |    |    |----class:  1\n",
      "|    |    |    |    |    |    |    |    |----age > 36.0\n",
      "|    |    |    |    |    |    |    |    |    |----age < 40.5\n",
      "|    |    |    |    |    |    |    |    |    |    |----class:  2\n",
      "|    |    |    |    |    |    |    |    |    |----age > 40.5\n",
      "|    |    |    |    |    |    |    |    |    |    |----class:  1\n",
      "|    |    |    |    |    |    |----age > 55.0\n",
      "|    |    |    |    |    |    |    |----age < 67.0\n",
      "|    |    |    |    |    |    |    |    |----class:  2\n",
      "|    |    |    |    |    |    |    |----age > 67.0\n",
      "|    |    |    |    |    |    |    |    |----age < 76.0\n",
      "|    |    |    |    |    |    |    |    |    |----class:  1\n",
      "|    |    |    |    |    |    |    |    |----age > 76.0\n",
      "|    |    |    |    |    |    |    |    |    |----class:  2\n",
      "|    |    |    |----tot_bilirubin > 0.8\n",
      "|    |    |    |    |----sgpt < 7.0\n",
      "|    |    |    |    |    |----tot_proteins < 168.0\n",
      "|    |    |    |    |    |    |----albumin < 20.0\n",
      "|    |    |    |    |    |    |    |----class:  2\n",
      "|    |    |    |    |    |    |----albumin > 20.0\n",
      "|    |    |    |    |    |    |    |----age < 31.0\n",
      "|    |    |    |    |    |    |    |    |----class:  2\n",
      "|    |    |    |    |    |    |    |----age > 31.0\n",
      "|    |    |    |    |    |    |    |    |----class:  1\n",
      "|    |    |    |    |    |----tot_proteins > 168.0\n",
      "|    |    |    |    |    |    |----sgpt < 6.2\n",
      "|    |    |    |    |    |    |    |----age < 70.0\n",
      "|    |    |    |    |    |    |    |    |----class:  2\n",
      "|    |    |    |    |    |    |    |----age > 70.0\n",
      "|    |    |    |    |    |    |    |    |----class:  1\n",
      "|    |    |    |    |    |    |----sgpt > 6.2\n",
      "|    |    |    |    |    |    |    |----class:  1\n",
      "|    |    |    |    |----sgpt > 7.0\n",
      "|    |    |    |    |    |----tot_bilirubin < 0.85\n",
      "|    |    |    |    |    |    |----class:  1\n",
      "|    |    |    |    |    |----tot_bilirubin > 0.85\n",
      "|    |    |    |    |    |    |----tot_proteins < 162.0\n",
      "|    |    |    |    |    |    |    |----class:  1\n",
      "|    |    |    |    |    |    |----tot_proteins > 162.0\n",
      "|    |    |    |    |    |    |    |----age < 41.5\n",
      "|    |    |    |    |    |    |    |    |----age < 36.0\n",
      "|    |    |    |    |    |    |    |    |    |----class:  1\n",
      "|    |    |    |    |    |    |    |    |----age > 36.0\n",
      "|    |    |    |    |    |    |    |    |    |----class:  2\n",
      "|    |    |    |    |    |    |    |----age > 41.5\n",
      "|    |    |    |    |    |    |    |    |----class:  2\n",
      "|    |----ag_ratio > 31.0\n",
      "|    |    |----gender Female\n",
      "|    |    |    |----age < 38.0\n",
      "|    |    |    |    |----sgpt < 6.8\n",
      "|    |    |    |    |    |----albumin < 34.0\n",
      "|    |    |    |    |    |    |----class:  1\n",
      "|    |    |    |    |    |----albumin > 34.0\n",
      "|    |    |    |    |    |    |----age < 19.0\n",
      "|    |    |    |    |    |    |    |----class:  2\n",
      "|    |    |    |    |    |    |----age > 19.0\n",
      "|    |    |    |    |    |    |    |----age < 24.0\n",
      "|    |    |    |    |    |    |    |    |----class:  1\n",
      "|    |    |    |    |    |    |    |----age > 24.0\n",
      "|    |    |    |    |    |    |    |    |----class:  2\n",
      "|    |    |    |    |----sgpt > 6.8\n",
      "|    |    |    |    |    |----age < 27.0\n",
      "|    |    |    |    |    |    |----tot_proteins < 145.0\n",
      "|    |    |    |    |    |    |    |----class:  1\n",
      "|    |    |    |    |    |    |----tot_proteins > 145.0\n",
      "|    |    |    |    |    |    |    |----class:  2\n",
      "|    |    |    |    |    |----age > 27.0\n",
      "|    |    |    |    |    |    |----class:  2\n",
      "|    |    |    |----age > 38.0\n",
      "|    |    |    |    |----sgot < 2.9\n",
      "|    |    |    |    |    |----ag_ratio < 42.0\n",
      "|    |    |    |    |    |    |----class:  1\n",
      "|    |    |    |    |    |----ag_ratio > 42.0\n",
      "|    |    |    |    |    |    |----class:  2\n",
      "|    |    |    |    |----sgot > 2.9\n",
      "|    |    |    |    |    |----direct_bilirubin < 0.2\n",
      "|    |    |    |    |    |    |----age < 40.0\n",
      "|    |    |    |    |    |    |    |----class:  2\n",
      "|    |    |    |    |    |    |----age > 40.0\n",
      "|    |    |    |    |    |    |    |----class:  1\n",
      "|    |    |    |    |    |----direct_bilirubin > 0.2\n",
      "|    |    |    |    |    |    |----class:  1\n",
      "|    |    |----gender Male\n",
      "|    |    |    |----direct_bilirubin < 0.3\n",
      "|    |    |    |    |----tot_proteins < 175.0\n",
      "|    |    |    |    |    |----tot_proteins < 158.0\n",
      "|    |    |    |    |    |    |----class:  1\n",
      "|    |    |    |    |    |----tot_proteins > 158.0\n",
      "|    |    |    |    |    |    |----tot_proteins < 163.5\n",
      "|    |    |    |    |    |    |    |----age < 46.0\n",
      "|    |    |    |    |    |    |    |    |----class:  2\n",
      "|    |    |    |    |    |    |    |----age > 46.0\n",
      "|    |    |    |    |    |    |    |    |----tot_bilirubin < 0.8\n",
      "|    |    |    |    |    |    |    |    |    |----class:  2\n",
      "|    |    |    |    |    |    |    |    |----tot_bilirubin > 0.8\n",
      "|    |    |    |    |    |    |    |    |    |----class:  1\n",
      "|    |    |    |    |    |    |----tot_proteins > 163.5\n",
      "|    |    |    |    |    |    |    |----age < 33.0\n",
      "|    |    |    |    |    |    |    |    |----class:  1\n",
      "|    |    |    |    |    |    |    |----age > 33.0\n",
      "|    |    |    |    |    |    |    |    |----age < 62.0\n",
      "|    |    |    |    |    |    |    |    |    |----class:  1\n",
      "|    |    |    |    |    |    |    |    |----age > 62.0\n",
      "|    |    |    |    |    |    |    |    |    |----age < 64.0\n",
      "|    |    |    |    |    |    |    |    |    |    |----class:  2\n",
      "|    |    |    |    |    |    |    |    |    |----age > 64.0\n",
      "|    |    |    |    |    |    |    |    |    |    |----class:  1\n",
      "|    |    |    |    |----tot_proteins > 175.0\n",
      "|    |    |    |    |    |----direct_bilirubin < 0.2\n",
      "|    |    |    |    |    |    |----age < 31.0\n",
      "|    |    |    |    |    |    |    |----class:  2\n",
      "|    |    |    |    |    |    |----age > 31.0\n",
      "|    |    |    |    |    |    |    |----class:  1\n",
      "|    |    |    |    |    |----direct_bilirubin > 0.2\n",
      "|    |    |    |    |    |    |----albumin < 36.0\n",
      "|    |    |    |    |    |    |    |----tot_bilirubin < 0.75\n",
      "|    |    |    |    |    |    |    |    |----tot_bilirubin < 0.7\n",
      "|    |    |    |    |    |    |    |    |    |----class:  1\n",
      "|    |    |    |    |    |    |    |    |----tot_bilirubin > 0.7\n",
      "|    |    |    |    |    |    |    |    |    |----ag_ratio < 43.0\n",
      "|    |    |    |    |    |    |    |    |    |    |----class:  1\n",
      "|    |    |    |    |    |    |    |    |    |----ag_ratio > 43.0\n",
      "|    |    |    |    |    |    |    |    |    |    |----class:  2\n",
      "|    |    |    |    |    |    |    |----tot_bilirubin > 0.75\n",
      "|    |    |    |    |    |    |    |    |----class:  2\n",
      "|    |    |    |    |    |    |----albumin > 36.0\n",
      "|    |    |    |    |    |    |    |----age < 31.0\n",
      "|    |    |    |    |    |    |    |    |----age < 26.0\n",
      "|    |    |    |    |    |    |    |    |    |----class:  1\n",
      "|    |    |    |    |    |    |    |    |----age > 26.0\n",
      "|    |    |    |    |    |    |    |    |    |----age < 28.5\n",
      "|    |    |    |    |    |    |    |    |    |    |----class:  1\n",
      "|    |    |    |    |    |    |    |    |    |----age > 28.5\n",
      "|    |    |    |    |    |    |    |    |    |    |----class:  2\n",
      "|    |    |    |    |    |    |    |----age > 31.0\n",
      "|    |    |    |    |    |    |    |    |----tot_proteins < 198.0\n",
      "|    |    |    |    |    |    |    |    |    |----class:  2\n",
      "|    |    |    |    |    |    |    |    |----tot_proteins > 198.0\n",
      "|    |    |    |    |    |    |    |    |    |----albumin < 43.0\n",
      "|    |    |    |    |    |    |    |    |    |    |----class:  2\n",
      "|    |    |    |    |    |    |    |    |    |----albumin > 43.0\n",
      "|    |    |    |    |    |    |    |    |    |    |----class:  1\n",
      "|    |    |    |----direct_bilirubin > 0.3\n",
      "|    |    |    |    |----tot_bilirubin < 1.9\n",
      "|    |    |    |    |    |----sgot < 3.5\n",
      "|    |    |    |    |    |    |----albumin < 35.5\n",
      "|    |    |    |    |    |    |    |----class:  1\n",
      "|    |    |    |    |    |    |----albumin > 35.5\n",
      "|    |    |    |    |    |    |    |----ag_ratio < 45.0\n",
      "|    |    |    |    |    |    |    |    |----albumin < 49.0\n",
      "|    |    |    |    |    |    |    |    |    |----class:  1\n",
      "|    |    |    |    |    |    |    |    |----albumin > 49.0\n",
      "|    |    |    |    |    |    |    |    |    |----class:  2\n",
      "|    |    |    |    |    |    |    |----ag_ratio > 45.0\n",
      "|    |    |    |    |    |    |    |    |----class:  1\n",
      "|    |    |    |    |    |----sgot > 3.5\n",
      "|    |    |    |    |    |    |----direct_bilirubin < 0.5\n",
      "|    |    |    |    |    |    |    |----age < 45.0\n",
      "|    |    |    |    |    |    |    |    |----age < 32.0\n",
      "|    |    |    |    |    |    |    |    |    |----class:  2\n",
      "|    |    |    |    |    |    |    |    |----age > 32.0\n",
      "|    |    |    |    |    |    |    |    |    |----class:  1\n",
      "|    |    |    |    |    |    |    |----age > 45.0\n",
      "|    |    |    |    |    |    |    |    |----class:  1\n",
      "|    |    |    |    |    |    |----direct_bilirubin > 0.5\n",
      "|    |    |    |    |    |    |    |----age < 51.0\n",
      "|    |    |    |    |    |    |    |    |----age < 31.5\n",
      "|    |    |    |    |    |    |    |    |    |----class:  2\n",
      "|    |    |    |    |    |    |    |    |----age > 31.5\n",
      "|    |    |    |    |    |    |    |    |    |----class:  1\n",
      "|    |    |    |    |    |    |    |----age > 51.0\n",
      "|    |    |    |    |    |    |    |    |----age < 57.0\n",
      "|    |    |    |    |    |    |    |    |    |----class:  2\n",
      "|    |    |    |    |    |    |    |    |----age > 57.0\n",
      "|    |    |    |    |    |    |    |    |    |----age < 62.0\n",
      "|    |    |    |    |    |    |    |    |    |    |----class:  2\n",
      "|    |    |    |    |    |    |    |    |    |----age > 62.0\n",
      "|    |    |    |    |    |    |    |    |    |    |----class:  1\n",
      "|    |    |    |    |----tot_bilirubin > 1.9\n",
      "|    |    |    |    |    |----direct_bilirubin < 1.6\n",
      "|    |    |    |    |    |    |----tot_proteins < 184.5\n",
      "|    |    |    |    |    |    |    |----tot_proteins < 171.5\n",
      "|    |    |    |    |    |    |    |    |----ag_ratio < 43.0\n",
      "|    |    |    |    |    |    |    |    |    |----class:  1\n",
      "|    |    |    |    |    |    |    |    |----ag_ratio > 43.0\n",
      "|    |    |    |    |    |    |    |    |    |----class:  2\n",
      "|    |    |    |    |    |    |    |----tot_proteins > 171.5\n",
      "|    |    |    |    |    |    |    |    |----class:  1\n",
      "|    |    |    |    |    |    |----tot_proteins > 184.5\n",
      "|    |    |    |    |    |    |    |----class:  1\n",
      "|    |    |    |    |    |----direct_bilirubin > 1.6\n",
      "|    |    |    |    |    |    |----class:  1\n",
      "tot_proteins > 208.0\n",
      "|    |----direct_bilirubin < 0.8\n",
      "|    |    |----albumin < 36.0\n",
      "|    |    |    |----tot_proteins < 279.0\n",
      "|    |    |    |    |----gender Male\n",
      "|    |    |    |    |    |----ag_ratio < 24.0\n",
      "|    |    |    |    |    |    |----tot_bilirubin < 0.8\n",
      "|    |    |    |    |    |    |    |----class:  2\n",
      "|    |    |    |    |    |    |----tot_bilirubin > 0.8\n",
      "|    |    |    |    |    |    |    |----age < 54.0\n",
      "|    |    |    |    |    |    |    |    |----class:  1\n",
      "|    |    |    |    |    |    |    |----age > 54.0\n",
      "|    |    |    |    |    |    |    |    |----age < 55.0\n",
      "|    |    |    |    |    |    |    |    |    |----class:  1\n",
      "|    |    |    |    |    |    |    |    |----age > 55.0\n",
      "|    |    |    |    |    |    |    |    |    |----class:  2\n",
      "|    |    |    |    |    |----ag_ratio > 24.0\n",
      "|    |    |    |    |    |    |----ag_ratio < 30.0\n",
      "|    |    |    |    |    |    |    |----sgpt < 6.3\n",
      "|    |    |    |    |    |    |    |    |----class:  2\n",
      "|    |    |    |    |    |    |    |----sgpt > 6.3\n",
      "|    |    |    |    |    |    |    |    |----age < 66.0\n",
      "|    |    |    |    |    |    |    |    |    |----class:  2\n",
      "|    |    |    |    |    |    |    |    |----age > 66.0\n",
      "|    |    |    |    |    |    |    |    |    |----class:  1\n",
      "|    |    |    |    |    |    |----ag_ratio > 30.0\n",
      "|    |    |    |    |    |    |    |----class:  1\n",
      "|    |    |    |    |----gender Female\n",
      "|    |    |    |    |    |----sgpt < 7.0\n",
      "|    |    |    |    |    |    |----class:  2\n",
      "|    |    |    |    |    |----sgpt > 7.0\n",
      "|    |    |    |    |    |    |----tot_proteins < 215.0\n",
      "|    |    |    |    |    |    |    |----class:  2\n",
      "|    |    |    |    |    |    |----tot_proteins > 215.0\n",
      "|    |    |    |    |    |    |    |----class:  1\n",
      "|    |    |    |----tot_proteins > 279.0\n",
      "|    |    |    |    |----direct_bilirubin < 0.2\n",
      "|    |    |    |    |    |----tot_bilirubin < 0.65\n",
      "|    |    |    |    |    |    |----class:  2\n",
      "|    |    |    |    |    |----tot_bilirubin > 0.65\n",
      "|    |    |    |    |    |    |----age < 36.0\n",
      "|    |    |    |    |    |    |    |----class:  1\n",
      "|    |    |    |    |    |    |----age > 36.0\n",
      "|    |    |    |    |    |    |    |----age < 50.5\n",
      "|    |    |    |    |    |    |    |    |----class:  2\n",
      "|    |    |    |    |    |    |    |----age > 50.5\n",
      "|    |    |    |    |    |    |    |    |----class:  1\n",
      "|    |    |    |    |----direct_bilirubin > 0.2\n",
      "|    |    |    |    |    |----albumin < 25.0\n",
      "|    |    |    |    |    |    |----age < 50.5\n",
      "|    |    |    |    |    |    |    |----tot_bilirubin < 0.9\n",
      "|    |    |    |    |    |    |    |    |----class:  1\n",
      "|    |    |    |    |    |    |    |----tot_bilirubin > 0.9\n",
      "|    |    |    |    |    |    |    |    |----age < 18.0\n",
      "|    |    |    |    |    |    |    |    |    |----class:  2\n",
      "|    |    |    |    |    |    |    |    |----age > 18.0\n",
      "|    |    |    |    |    |    |    |    |    |----age < 34.0\n",
      "|    |    |    |    |    |    |    |    |    |    |----class:  2\n",
      "|    |    |    |    |    |    |    |    |    |----age > 34.0\n",
      "|    |    |    |    |    |    |    |    |    |    |----class:  1\n",
      "|    |    |    |    |    |    |----age > 50.5\n",
      "|    |    |    |    |    |    |    |----gender Female\n",
      "|    |    |    |    |    |    |    |    |----age < 58.0\n",
      "|    |    |    |    |    |    |    |    |    |----class:  1\n",
      "|    |    |    |    |    |    |    |    |----age > 58.0\n",
      "|    |    |    |    |    |    |    |    |    |----class:  2\n",
      "|    |    |    |    |    |    |    |----gender Male\n",
      "|    |    |    |    |    |    |    |    |----class:  1\n",
      "|    |    |    |    |    |----albumin > 25.0\n",
      "|    |    |    |    |    |    |----age < 36.5\n",
      "|    |    |    |    |    |    |    |----age < 16.5\n",
      "|    |    |    |    |    |    |    |    |----age < 13.0\n",
      "|    |    |    |    |    |    |    |    |    |----class:  2\n",
      "|    |    |    |    |    |    |    |    |----age > 13.0\n",
      "|    |    |    |    |    |    |    |    |    |----class:  1\n",
      "|    |    |    |    |    |    |    |----age > 16.5\n",
      "|    |    |    |    |    |    |    |    |----class:  1\n",
      "|    |    |    |    |    |    |----age > 36.5\n",
      "|    |    |    |    |    |    |    |----class:  1\n",
      "|    |    |----albumin > 36.0\n",
      "|    |    |    |----albumin < 62.0\n",
      "|    |    |    |    |----age < 45.0\n",
      "|    |    |    |    |    |----tot_proteins < 269.0\n",
      "|    |    |    |    |    |    |----age < 26.0\n",
      "|    |    |    |    |    |    |    |----class:  1\n",
      "|    |    |    |    |    |    |----age > 26.0\n",
      "|    |    |    |    |    |    |    |----sgpt < 7.5\n",
      "|    |    |    |    |    |    |    |    |----class:  2\n",
      "|    |    |    |    |    |    |    |----sgpt > 7.5\n",
      "|    |    |    |    |    |    |    |    |----class:  1\n",
      "|    |    |    |    |    |----tot_proteins > 269.0\n",
      "|    |    |    |    |    |    |----age < 17.0\n",
      "|    |    |    |    |    |    |    |----tot_proteins < 289.0\n",
      "|    |    |    |    |    |    |    |    |----class:  1\n",
      "|    |    |    |    |    |    |    |----tot_proteins > 289.0\n",
      "|    |    |    |    |    |    |    |    |----class:  2\n",
      "|    |    |    |    |    |    |----age > 17.0\n",
      "|    |    |    |    |    |    |    |----class:  2\n",
      "|    |    |    |    |----age > 45.0\n",
      "|    |    |    |    |    |----albumin < 48.0\n",
      "|    |    |    |    |    |    |----class:  1\n",
      "|    |    |    |    |    |----albumin > 48.0\n",
      "|    |    |    |    |    |    |----gender Female\n",
      "|    |    |    |    |    |    |    |----class:  1\n",
      "|    |    |    |    |    |    |----gender Male\n",
      "|    |    |    |    |    |    |    |----direct_bilirubin < 0.3\n",
      "|    |    |    |    |    |    |    |    |----class:  1\n",
      "|    |    |    |    |    |    |    |----direct_bilirubin > 0.3\n",
      "|    |    |    |    |    |    |    |    |----age < 56.5\n",
      "|    |    |    |    |    |    |    |    |    |----tot_bilirubin < 1.5\n",
      "|    |    |    |    |    |    |    |    |    |    |----class:  1\n",
      "|    |    |    |    |    |    |    |    |    |----tot_bilirubin > 1.5\n",
      "|    |    |    |    |    |    |    |    |    |    |----class:  2\n",
      "|    |    |    |    |    |    |    |    |----age > 56.5\n",
      "|    |    |    |    |    |    |    |    |    |----age < 67.0\n",
      "|    |    |    |    |    |    |    |    |    |    |----class:  2\n",
      "|    |    |    |    |    |    |    |    |    |----age > 67.0\n",
      "|    |    |    |    |    |    |    |    |    |    |----class:  1\n",
      "|    |    |    |----albumin > 62.0\n",
      "|    |    |    |    |----tot_bilirubin < 0.9\n",
      "|    |    |    |    |    |----age < 46.0\n",
      "|    |    |    |    |    |    |----age < 34.0\n",
      "|    |    |    |    |    |    |    |----age < 18.0\n",
      "|    |    |    |    |    |    |    |    |----class:  2\n",
      "|    |    |    |    |    |    |    |----age > 18.0\n",
      "|    |    |    |    |    |    |    |    |----class:  1\n",
      "|    |    |    |    |    |    |----age > 34.0\n",
      "|    |    |    |    |    |    |    |----class:  1\n",
      "|    |    |    |    |    |----age > 46.0\n",
      "|    |    |    |    |    |    |----class:  1\n",
      "|    |    |    |    |----tot_bilirubin > 0.9\n",
      "|    |    |    |    |    |----class:  1\n",
      "|    |----direct_bilirubin > 0.8\n",
      "|    |    |----ag_ratio < 88.0\n",
      "|    |    |    |----age < 50.0\n",
      "|    |    |    |    |----gender Male\n",
      "|    |    |    |    |    |----age < 42.0\n",
      "|    |    |    |    |    |    |----direct_bilirubin < 1.3\n",
      "|    |    |    |    |    |    |    |----age < 38.0\n",
      "|    |    |    |    |    |    |    |    |----class:  1\n",
      "|    |    |    |    |    |    |    |----age > 38.0\n",
      "|    |    |    |    |    |    |    |    |----age < 39.5\n",
      "|    |    |    |    |    |    |    |    |    |----class:  2\n",
      "|    |    |    |    |    |    |    |    |----age > 39.5\n",
      "|    |    |    |    |    |    |    |    |    |----class:  1\n",
      "|    |    |    |    |    |    |----direct_bilirubin > 1.3\n",
      "|    |    |    |    |    |    |    |----class:  1\n",
      "|    |    |    |    |    |----age > 42.0\n",
      "|    |    |    |    |    |    |----age < 45.0\n",
      "|    |    |    |    |    |    |    |----tot_bilirubin < 8.9\n",
      "|    |    |    |    |    |    |    |    |----class:  2\n",
      "|    |    |    |    |    |    |    |----tot_bilirubin > 8.9\n",
      "|    |    |    |    |    |    |    |    |----class:  1\n",
      "|    |    |    |    |    |    |----age > 45.0\n",
      "|    |    |    |    |    |    |    |----class:  1\n",
      "|    |    |    |    |----gender Female\n",
      "|    |    |    |    |    |----age < 40.0\n",
      "|    |    |    |    |    |    |----age < 23.0\n",
      "|    |    |    |    |    |    |    |----class:  1\n",
      "|    |    |    |    |    |    |----age > 23.0\n",
      "|    |    |    |    |    |    |    |----class:  2\n",
      "|    |    |    |    |    |----age > 40.0\n",
      "|    |    |    |    |    |    |----class:  1\n",
      "|    |    |    |----age > 50.0\n",
      "|    |    |    |    |----albumin < 42.0\n",
      "|    |    |    |    |    |----class:  1\n",
      "|    |    |    |    |----albumin > 42.0\n",
      "|    |    |    |    |    |----ag_ratio < 52.0\n",
      "|    |    |    |    |    |    |----class:  1\n",
      "|    |    |    |    |    |----ag_ratio > 52.0\n",
      "|    |    |    |    |    |    |----direct_bilirubin < 3.75\n",
      "|    |    |    |    |    |    |    |----gender Female\n",
      "|    |    |    |    |    |    |    |    |----class:  1\n",
      "|    |    |    |    |    |    |    |----gender Male\n",
      "|    |    |    |    |    |    |    |    |----age < 61.0\n",
      "|    |    |    |    |    |    |    |    |    |----class:  2\n",
      "|    |    |    |    |    |    |    |    |----age > 61.0\n",
      "|    |    |    |    |    |    |    |    |    |----class:  1\n",
      "|    |    |    |    |    |    |----direct_bilirubin > 3.75\n",
      "|    |    |    |    |    |    |    |----class:  1\n",
      "|    |    |----ag_ratio > 88.0\n",
      "|    |    |    |----alkphos < 0.8\n",
      "|    |    |    |    |----direct_bilirubin < 4.0\n",
      "|    |    |    |    |    |----direct_bilirubin < 1.95\n",
      "|    |    |    |    |    |    |----class:  1\n",
      "|    |    |    |    |    |----direct_bilirubin > 1.95\n",
      "|    |    |    |    |    |    |----alkphos < 0.7\n",
      "|    |    |    |    |    |    |    |----age < 48.0\n",
      "|    |    |    |    |    |    |    |    |----class:  1\n",
      "|    |    |    |    |    |    |    |----age > 48.0\n",
      "|    |    |    |    |    |    |    |    |----class:  2\n",
      "|    |    |    |    |    |    |----alkphos > 0.7\n",
      "|    |    |    |    |    |    |    |----class:  1\n",
      "|    |    |    |    |----direct_bilirubin > 4.0\n",
      "|    |    |    |    |    |----class:  1\n",
      "|    |    |    |----alkphos > 0.8\n",
      "|    |    |    |    |----class:  1\n"
     ]
    }
   ],
   "source": [
    "printtree(tree)"
   ]
  },
  {
   "cell_type": "markdown",
   "metadata": {},
   "source": [
    "## Accuracy by averaging over 10 random 80/20 splits "
   ]
  },
  {
   "cell_type": "markdown",
   "metadata": {},
   "source": [
    "#### For the tree of Information gain "
   ]
  },
  {
   "cell_type": "code",
   "execution_count": 35,
   "metadata": {
    "colab": {
     "base_uri": "https://localhost:8080/"
    },
    "id": "H0AVtgXQldaY",
    "outputId": "682107f4-789b-4ae8-c404-339c77296f6a"
   },
   "outputs": [
    {
     "name": "stdout",
     "output_type": "stream",
     "text": [
      "True Positve: 55  True Negative:  17  False Positive:  22  False Negative  23\n",
      "Precision:  0.71  Recall:  0.71  F1 Score:  0.71  Accuracy:  0.62\n",
      "True Positve: 71  True Negative:  12  False Positive:  14  False Negative  20\n",
      "Precision:  0.84  Recall:  0.78  F1 Score:  0.81  Accuracy:  0.71\n",
      "True Positve: 65  True Negative:  13  False Positive:  21  False Negative  18\n",
      "Precision:  0.76  Recall:  0.78  F1 Score:  0.77  Accuracy:  0.67\n",
      "True Positve: 59  True Negative:  19  False Positive:  20  False Negative  19\n",
      "Precision:  0.75  Recall:  0.76  F1 Score:  0.75  Accuracy:  0.67\n",
      "True Positve: 70  True Negative:  10  False Positive:  18  False Negative  19\n",
      "Precision:  0.8  Recall:  0.79  F1 Score:  0.79  Accuracy:  0.68\n",
      "True Positve: 64  True Negative:  10  False Positive:  22  False Negative  21\n",
      "Precision:  0.74  Recall:  0.75  F1 Score:  0.75  Accuracy:  0.63\n",
      "True Positve: 59  True Negative:  13  False Positive:  27  False Negative  18\n",
      "Precision:  0.69  Recall:  0.77  F1 Score:  0.72  Accuracy:  0.62\n",
      "True Positve: 64  True Negative:  14  False Positive:  22  False Negative  17\n",
      "Precision:  0.74  Recall:  0.79  F1 Score:  0.77  Accuracy:  0.67\n",
      "True Positve: 61  True Negative:  21  False Positive:  19  False Negative  16\n",
      "Precision:  0.76  Recall:  0.79  F1 Score:  0.78  Accuracy:  0.7\n",
      "True Positve: 67  True Negative:  9  False Positive:  22  False Negative  19\n",
      "Precision:  0.75  Recall:  0.78  F1 Score:  0.77  Accuracy:  0.65\n",
      "Average accuracy of Tree(Info Gain):  0.66\n"
     ]
    }
   ],
   "source": [
    "acc=0\n",
    "max_accuracy=None\n",
    "best_tree=None\n",
    "final_train_data,final_test_data=None,None\n",
    "for i in range(1,11):\n",
    "    training_data,test_data=train_test_split(df,test_size=0.20,seed=2*i*i)\n",
    "     \n",
    "    temp_tree=build_tree_info_gain(training_data,features,target)\n",
    "    cur_acc=accuracy(test_data,temp_tree)\n",
    "    acc=acc+cur_acc\n",
    "    if best_tree==None:\n",
    "        best_tree=temp_tree\n",
    "        max_accuracy=cur_acc\n",
    "        \n",
    "        final_train_data,final_test_data=training_data,test_data\n",
    "    elif cur_acc>max_accuracy:\n",
    "        best_tree=temp_tree\n",
    "        max_accuracy=cur_acc\n",
    "       \n",
    "        final_train_data,final_test_data=training_data,test_data\n",
    "     \n",
    "print(\"Average accuracy of Tree(Info Gain): \",round(acc/10,2))"
   ]
  },
  {
   "cell_type": "markdown",
   "metadata": {},
   "source": [
    "#### For the tree of Gini gain"
   ]
  },
  {
   "cell_type": "code",
   "execution_count": 36,
   "metadata": {
    "colab": {
     "base_uri": "https://localhost:8080/"
    },
    "id": "jasmBkLYlhPD",
    "outputId": "857b5565-b11a-487d-d931-0990e3abca0b",
    "scrolled": false
   },
   "outputs": [
    {
     "name": "stdout",
     "output_type": "stream",
     "text": [
      "True Positve: 57  True Negative:  16  False Positive:  23  False Negative  21\n",
      "Precision:  0.71  Recall:  0.73  F1 Score:  0.72  Accuracy:  0.62\n",
      "True Positve: 67  True Negative:  15  False Positive:  11  False Negative  24\n",
      "Precision:  0.86  Recall:  0.74  F1 Score:  0.79  Accuracy:  0.7\n",
      "True Positve: 67  True Negative:  11  False Positive:  23  False Negative  16\n",
      "Precision:  0.74  Recall:  0.81  F1 Score:  0.77  Accuracy:  0.67\n",
      "True Positve: 62  True Negative:  18  False Positive:  21  False Negative  16\n",
      "Precision:  0.75  Recall:  0.79  F1 Score:  0.77  Accuracy:  0.68\n",
      "True Positve: 65  True Negative:  10  False Positive:  18  False Negative  24\n",
      "Precision:  0.78  Recall:  0.73  F1 Score:  0.76  Accuracy:  0.64\n",
      "True Positve: 61  True Negative:  10  False Positive:  22  False Negative  24\n",
      "Precision:  0.73  Recall:  0.72  F1 Score:  0.73  Accuracy:  0.61\n",
      "True Positve: 59  True Negative:  18  False Positive:  22  False Negative  18\n",
      "Precision:  0.73  Recall:  0.77  F1 Score:  0.75  Accuracy:  0.66\n",
      "True Positve: 60  True Negative:  11  False Positive:  25  False Negative  21\n",
      "Precision:  0.71  Recall:  0.74  F1 Score:  0.72  Accuracy:  0.61\n",
      "True Positve: 58  True Negative:  19  False Positive:  21  False Negative  19\n",
      "Precision:  0.73  Recall:  0.75  F1 Score:  0.74  Accuracy:  0.66\n",
      "True Positve: 65  True Negative:  11  False Positive:  20  False Negative  21\n",
      "Precision:  0.76  Recall:  0.76  F1 Score:  0.76  Accuracy:  0.65\n",
      "Average accuracy of Tree(Gini Gain):  0.65\n"
     ]
    }
   ],
   "source": [
    "acc=0\n",
    "\n",
    "for i in range(1,11):\n",
    "    training_data,test_data=train_test_split(df,test_size=0.20,seed=2*i*i)\n",
    "    \n",
    "    temp_tree=build_tree_gini(training_data,features,target)\n",
    "    cur_acc=accuracy(test_data,temp_tree)\n",
    "    acc=acc+cur_acc\n",
    "    if best_tree==None:\n",
    "        best_tree=temp_tree\n",
    "        max_accuracy=cur_acc\n",
    "        \n",
    "        final_train_data,final_test_data=training_data,test_data\n",
    "    elif cur_acc>max_accuracy:\n",
    "        best_tree=temp_tree\n",
    "        max_accuracy=cur_acc\n",
    "        \n",
    "        final_train_data,final_test_data=training_data,test_data\n",
    "\n",
    "print(\"Average accuracy of Tree(Gini Gain): \",round(acc/10,2))"
   ]
  },
  {
   "cell_type": "markdown",
   "metadata": {},
   "source": [
    "#### Calculate Number of Nodes, and Depth of tree"
   ]
  },
  {
   "cell_type": "code",
   "execution_count": 37,
   "metadata": {
    "id": "Gpg4mDyyPGhd",
    "scrolled": true
   },
   "outputs": [],
   "source": [
    "def depth_nodes(tree):\n",
    "    if isinstance(tree,dict):\n",
    "        max_depth=None\n",
    "        total_nodes=0\n",
    "        attribute=list(tree.keys())[0]\n",
    "        if isinstance(tree[attribute],dict):\n",
    "          for k in tree[attribute]:\n",
    "            cur_depth,nodes=depth_nodes(tree[attribute][k])\n",
    "            total_nodes+=nodes\n",
    "            if max_depth==None:\n",
    "                max_depth=cur_depth\n",
    "            elif cur_depth>max_depth:\n",
    "                max_depth=cur_depth\n",
    "          return 1+max_depth,total_nodes+1\n",
    "        \n",
    "        else:\n",
    "          return 1,2\n",
    "    return 0,1"
   ]
  },
  {
   "cell_type": "markdown",
   "metadata": {},
   "source": [
    "#### Function to calculate Depth and Number of Nodes till that Depth"
   ]
  },
  {
   "cell_type": "code",
   "execution_count": 38,
   "metadata": {
    "colab": {
     "base_uri": "https://localhost:8080/"
    },
    "id": "2jtRTltY4z_m",
    "outputId": "a6be23dd-0daf-4180-8f88-e8f37a27521c"
   },
   "outputs": [
    {
     "name": "stdout",
     "output_type": "stream",
     "text": [
      "maximum depth of a best tree 11\n",
      "Iteration:  1  Depth:  1  Nodes:  3\n",
      "True Positve: 91  True Negative:  0  False Positive:  26  False Negative  0\n",
      "Precision:  0.78  Recall:  1.0  F1 Score:  0.88  Accuracy:  0.78\n",
      "Iteration:  2  Depth:  2  Nodes:  7\n",
      "True Positve: 74  True Negative:  6  False Positive:  20  False Negative  17\n",
      "Precision:  0.79  Recall:  0.81  F1 Score:  0.8  Accuracy:  0.68\n",
      "Iteration:  3  Depth:  3  Nodes:  15\n",
      "True Positve: 75  True Negative:  6  False Positive:  20  False Negative  16\n",
      "Precision:  0.79  Recall:  0.82  F1 Score:  0.81  Accuracy:  0.69\n",
      "Iteration:  4  Depth:  4  Nodes:  31\n",
      "True Positve: 80  True Negative:  8  False Positive:  18  False Negative  11\n",
      "Precision:  0.82  Recall:  0.88  F1 Score:  0.85  Accuracy:  0.75\n",
      "Iteration:  5  Depth:  5  Nodes:  61\n",
      "True Positve: 78  True Negative:  8  False Positive:  18  False Negative  13\n",
      "Precision:  0.81  Recall:  0.86  F1 Score:  0.83  Accuracy:  0.74\n",
      "Iteration:  6  Depth:  6  Nodes:  115\n",
      "True Positve: 77  True Negative:  9  False Positive:  17  False Negative  14\n",
      "Precision:  0.82  Recall:  0.85  F1 Score:  0.83  Accuracy:  0.74\n",
      "Iteration:  7  Depth:  7  Nodes:  191\n",
      "True Positve: 76  True Negative:  11  False Positive:  15  False Negative  15\n",
      "Precision:  0.84  Recall:  0.84  F1 Score:  0.84  Accuracy:  0.74\n",
      "Iteration:  8  Depth:  8  Nodes:  271\n",
      "True Positve: 72  True Negative:  11  False Positive:  15  False Negative  19\n",
      "Precision:  0.83  Recall:  0.79  F1 Score:  0.81  Accuracy:  0.71\n",
      "Iteration:  9  Depth:  9  Nodes:  317\n",
      "True Positve: 73  True Negative:  12  False Positive:  14  False Negative  18\n",
      "Precision:  0.84  Recall:  0.8  F1 Score:  0.82  Accuracy:  0.73\n",
      "Iteration:  10  Depth:  10  Nodes:  327\n",
      "True Positve: 71  True Negative:  12  False Positive:  14  False Negative  20\n",
      "Precision:  0.84  Recall:  0.78  F1 Score:  0.81  Accuracy:  0.71\n",
      "Iteration:  11  Depth:  11  Nodes:  329\n",
      "True Positve: 71  True Negative:  12  False Positive:  14  False Negative  20\n",
      "Precision:  0.84  Recall:  0.78  F1 Score:  0.81  Accuracy:  0.71\n"
     ]
    }
   ],
   "source": [
    "depth,no_of_nodes=depth_nodes(best_tree)\n",
    "print(\"maximum depth of a best tree\",depth)\n",
    "accuracy_list = []\n",
    "depth_list = []\n",
    "nodes_list = []\n",
    "most_acc_depth_tree = None\n",
    "max_acc = 0\n",
    "for i in range (1,depth+1):\n",
    "    tree1=build_tree_info_gain(final_train_data,features,target,i,1)\n",
    "    d,n=depth_nodes(tree1)\n",
    "    print(\"Iteration: \",i,\" Depth: \",d,\" Nodes: \",n)\n",
    "    a = accuracy(final_test_data,tree1)\n",
    "    accuracy_list.append(round(a,2))\n",
    "    depth_list.append(d)\n",
    "    nodes_list.append(n)\n",
    "    if i>1:\n",
    "        if(max_acc < a):\n",
    "            most_acc_depth_tree = tree1\n",
    "            max_acc = a"
   ]
  },
  {
   "cell_type": "markdown",
   "metadata": {},
   "source": [
    "#### Final Decision Tree till best depth limit"
   ]
  },
  {
   "cell_type": "code",
   "execution_count": 39,
   "metadata": {
    "scrolled": false
   },
   "outputs": [
    {
     "name": "stdout",
     "output_type": "stream",
     "text": [
      "ag_ratio < 41.0\n",
      "|    |----ag_ratio < 25.0\n",
      "|    |    |----sgpt < 6.8\n",
      "|    |    |    |----ag_ratio < 19.0\n",
      "|    |    |    |    |----class:  1\n",
      "|    |    |    |----ag_ratio > 19.0\n",
      "|    |    |    |    |----class:  2\n",
      "|    |    |----sgpt > 6.8\n",
      "|    |    |    |----albumin < 22.0\n",
      "|    |    |    |    |----class:  2\n",
      "|    |    |    |----albumin > 22.0\n",
      "|    |    |    |    |----class:  1\n",
      "|    |----ag_ratio > 25.0\n",
      "|    |    |----tot_bilirubin < 0.8\n",
      "|    |    |    |----ag_ratio < 30.0\n",
      "|    |    |    |    |----class:  2\n",
      "|    |    |    |----ag_ratio > 30.0\n",
      "|    |    |    |    |----class:  1\n",
      "|    |    |----tot_bilirubin > 0.8\n",
      "|    |    |    |----direct_bilirubin < 0.3\n",
      "|    |    |    |    |----class:  1\n",
      "|    |    |    |----direct_bilirubin > 0.3\n",
      "|    |    |    |    |----class:  1\n",
      "ag_ratio > 41.0\n",
      "|    |----direct_bilirubin < 1.0\n",
      "|    |    |----albumin < 48.0\n",
      "|    |    |    |----tot_bilirubin < 0.8\n",
      "|    |    |    |    |----class:  2\n",
      "|    |    |    |----tot_bilirubin > 0.8\n",
      "|    |    |    |    |----class:  1\n",
      "|    |    |----albumin > 48.0\n",
      "|    |    |    |----sgot < 3.2\n",
      "|    |    |    |    |----class:  1\n",
      "|    |    |    |----sgot > 3.2\n",
      "|    |    |    |    |----class:  1\n",
      "|    |----direct_bilirubin > 1.0\n",
      "|    |    |----sgpt < 6.4\n",
      "|    |    |    |----sgot < 2.5\n",
      "|    |    |    |    |----class:  1\n",
      "|    |    |    |----sgot > 2.5\n",
      "|    |    |    |    |----class:  1\n",
      "|    |    |----sgpt > 6.4\n",
      "|    |    |    |----age < 48.0\n",
      "|    |    |    |    |----class:  1\n",
      "|    |    |    |----age > 48.0\n",
      "|    |    |    |    |----class:  1\n"
     ]
    }
   ],
   "source": [
    "# Tree asked in Q5\n",
    "printtree(most_acc_depth_tree)"
   ]
  },
  {
   "cell_type": "markdown",
   "metadata": {},
   "source": [
    "#### Printing the Accuracy along with Depth and Number of Nodes"
   ]
  },
  {
   "cell_type": "code",
   "execution_count": 40,
   "metadata": {
    "colab": {
     "base_uri": "https://localhost:8080/"
    },
    "id": "1VkaphGw4z_n",
    "outputId": "7dff4b6e-ea00-4804-a40b-08f73c58e06d"
   },
   "outputs": [
    {
     "name": "stdout",
     "output_type": "stream",
     "text": [
      "Accuracy:  0.78  Depth:  1  Nodes:  3\n",
      "Accuracy:  0.68  Depth:  2  Nodes:  7\n",
      "Accuracy:  0.69  Depth:  3  Nodes:  15\n",
      "Accuracy:  0.75  Depth:  4  Nodes:  31\n",
      "Accuracy:  0.74  Depth:  5  Nodes:  61\n",
      "Accuracy:  0.74  Depth:  6  Nodes:  115\n",
      "Accuracy:  0.74  Depth:  7  Nodes:  191\n",
      "Accuracy:  0.71  Depth:  8  Nodes:  271\n",
      "Accuracy:  0.73  Depth:  9  Nodes:  317\n",
      "Accuracy:  0.71  Depth:  10  Nodes:  327\n",
      "Accuracy:  0.71  Depth:  11  Nodes:  329\n"
     ]
    }
   ],
   "source": [
    "for i in range(depth):\n",
    "    print(\"Accuracy: \",accuracy_list[i],\" Depth: \",depth_list[i],\" Nodes: \",nodes_list[i])"
   ]
  },
  {
   "cell_type": "markdown",
   "metadata": {},
   "source": [
    "#### Graph of Depth vs Accuracy"
   ]
  },
  {
   "cell_type": "code",
   "execution_count": 41,
   "metadata": {
    "colab": {
     "base_uri": "https://localhost:8080/",
     "height": 282
    },
    "id": "shdAHuNx4z_n",
    "outputId": "f28337bd-cd4a-4ce7-fa9b-281a86612006"
   },
   "outputs": [
    {
     "data": {
      "image/png": "[encoded data removed]",
      "text/plain": [
       "<Figure size 432x288 with 1 Axes>"
      ]
     },
     "metadata": {
      "needs_background": "light"
     },
     "output_type": "display_data"
    }
   ],
   "source": [
    "plt.plot(depth_list,accuracy_list)\n",
    "plt.xlabel('Depth')\n",
    "plt.ylabel('Accuracy')\n",
    "plt.title('Graph of Depth vs Accuracy')\n",
    "plt.show()"
   ]
  },
  {
   "cell_type": "markdown",
   "metadata": {},
   "source": [
    "#### Graph of Number of Nodes vs Accuracy"
   ]
  },
  {
   "cell_type": "code",
   "execution_count": 42,
   "metadata": {
    "colab": {
     "base_uri": "https://localhost:8080/",
     "height": 282
    },
    "id": "aNtkP4ol4z_n",
    "outputId": "9cccd1d7-89f1-444b-a9e5-ece7fe4ba60e"
   },
   "outputs": [
    {
     "data": {
      "image/png": "[encoded data removed]",
      "text/plain": [
       "<Figure size 432x288 with 1 Axes>"
      ]
     },
     "metadata": {
      "needs_background": "light"
     },
     "output_type": "display_data"
    }
   ],
   "source": [
    "plt.plot(nodes_list,accuracy_list)\n",
    "plt.xlabel('Number of Nodes')\n",
    "plt.ylabel('Accuracy')\n",
    "plt.title('Graph of Number of Nodes vs Accuracy')\n",
    "plt.show()"
   ]
  },
  {
   "cell_type": "markdown",
   "metadata": {},
   "source": [
    "#### Final Tree Before Pruning "
   ]
  },
  {
   "cell_type": "code",
   "execution_count": 43,
   "metadata": {
    "scrolled": false
   },
   "outputs": [
    {
     "name": "stdout",
     "output_type": "stream",
     "text": [
      "ag_ratio < 41.0\n",
      "|    |----ag_ratio < 25.0\n",
      "|    |    |----sgpt < 6.8\n",
      "|    |    |    |----ag_ratio < 19.0\n",
      "|    |    |    |    |----ag_ratio < 15.0\n",
      "|    |    |    |    |    |----albumin < 14.0\n",
      "|    |    |    |    |    |    |----class:  2\n",
      "|    |    |    |    |    |----albumin > 14.0\n",
      "|    |    |    |    |    |    |----ag_ratio < 14.0\n",
      "|    |    |    |    |    |    |    |----class:  2\n",
      "|    |    |    |    |    |    |----ag_ratio > 14.0\n",
      "|    |    |    |    |    |    |    |----class:  1\n",
      "|    |    |    |    |----ag_ratio > 15.0\n",
      "|    |    |    |    |    |----direct_bilirubin < 0.2\n",
      "|    |    |    |    |    |    |----class:  1\n",
      "|    |    |    |    |    |----direct_bilirubin > 0.2\n",
      "|    |    |    |    |    |    |----albumin < 21.0\n",
      "|    |    |    |    |    |    |    |----albumin < 15.0\n",
      "|    |    |    |    |    |    |    |    |----class:  2\n",
      "|    |    |    |    |    |    |    |----albumin > 15.0\n",
      "|    |    |    |    |    |    |    |    |----class:  1\n",
      "|    |    |    |    |    |    |----albumin > 21.0\n",
      "|    |    |    |    |    |    |    |----age < 45.5\n",
      "|    |    |    |    |    |    |    |    |----age < 34.5\n",
      "|    |    |    |    |    |    |    |    |    |----class:  1\n",
      "|    |    |    |    |    |    |    |    |----age > 34.5\n",
      "|    |    |    |    |    |    |    |    |    |----age < 39.5\n",
      "|    |    |    |    |    |    |    |    |    |    |----class:  1\n",
      "|    |    |    |    |    |    |    |    |    |----age > 39.5\n",
      "|    |    |    |    |    |    |    |    |    |    |----class:  2\n",
      "|    |    |    |    |    |    |    |----age > 45.5\n",
      "|    |    |    |    |    |    |    |    |----age < 55.0\n",
      "|    |    |    |    |    |    |    |    |    |----class:  1\n",
      "|    |    |    |    |    |    |    |    |----age > 55.0\n",
      "|    |    |    |    |    |    |    |    |    |----class:  2\n",
      "|    |    |    |----ag_ratio > 19.0\n",
      "|    |    |    |    |----alkphos < 1.0\n",
      "|    |    |    |    |    |----age < 46.5\n",
      "|    |    |    |    |    |    |----age < 33.0\n",
      "|    |    |    |    |    |    |    |----class:  2\n",
      "|    |    |    |    |    |    |----age > 33.0\n",
      "|    |    |    |    |    |    |    |----age < 42.0\n",
      "|    |    |    |    |    |    |    |    |----class:  1\n",
      "|    |    |    |    |    |    |    |----age > 42.0\n",
      "|    |    |    |    |    |    |    |    |----class:  2\n",
      "|    |    |    |    |    |----age > 46.5\n",
      "|    |    |    |    |    |    |----age < 60.0\n",
      "|    |    |    |    |    |    |    |----class:  1\n",
      "|    |    |    |    |    |    |----age > 60.0\n",
      "|    |    |    |    |    |    |    |----ag_ratio < 24.0\n",
      "|    |    |    |    |    |    |    |    |----class:  2\n",
      "|    |    |    |    |    |    |    |----ag_ratio > 24.0\n",
      "|    |    |    |    |    |    |    |    |----alkphos < 0.8\n",
      "|    |    |    |    |    |    |    |    |    |----class:  2\n",
      "|    |    |    |    |    |    |    |    |----alkphos > 0.8\n",
      "|    |    |    |    |    |    |    |    |    |----class:  1\n",
      "|    |    |    |    |----alkphos > 1.0\n",
      "|    |    |    |    |    |----alkphos < 1.1\n",
      "|    |    |    |    |    |    |----direct_bilirubin < 0.2\n",
      "|    |    |    |    |    |    |    |----class:  1\n",
      "|    |    |    |    |    |    |----direct_bilirubin > 0.2\n",
      "|    |    |    |    |    |    |    |----sgpt < 6.1\n",
      "|    |    |    |    |    |    |    |    |----class:  1\n",
      "|    |    |    |    |    |    |    |----sgpt > 6.1\n",
      "|    |    |    |    |    |    |    |    |----class:  2\n",
      "|    |    |    |    |    |----alkphos > 1.1\n",
      "|    |    |    |    |    |    |----tot_proteins < 187.0\n",
      "|    |    |    |    |    |    |    |----albumin < 20.0\n",
      "|    |    |    |    |    |    |    |    |----age < 69.0\n",
      "|    |    |    |    |    |    |    |    |    |----class:  1\n",
      "|    |    |    |    |    |    |    |    |----age > 69.0\n",
      "|    |    |    |    |    |    |    |    |    |----class:  2\n",
      "|    |    |    |    |    |    |    |----albumin > 20.0\n",
      "|    |    |    |    |    |    |    |    |----class:  2\n",
      "|    |    |    |    |    |    |----tot_proteins > 187.0\n",
      "|    |    |    |    |    |    |    |----class:  2\n",
      "|    |    |----sgpt > 6.8\n",
      "|    |    |    |----albumin < 22.0\n",
      "|    |    |    |    |----ag_ratio < 17.0\n",
      "|    |    |    |    |    |----ag_ratio < 14.5\n",
      "|    |    |    |    |    |    |----direct_bilirubin < 0.2\n",
      "|    |    |    |    |    |    |    |----class:  2\n",
      "|    |    |    |    |    |    |----direct_bilirubin > 0.2\n",
      "|    |    |    |    |    |    |    |----class:  1\n",
      "|    |    |    |    |    |----ag_ratio > 14.5\n",
      "|    |    |    |    |    |    |----alkphos < 1.0\n",
      "|    |    |    |    |    |    |    |----class:  1\n",
      "|    |    |    |    |    |    |----alkphos > 1.0\n",
      "|    |    |    |    |    |    |    |----tot_proteins < 192.0\n",
      "|    |    |    |    |    |    |    |    |----age < 32.0\n",
      "|    |    |    |    |    |    |    |    |    |----class:  2\n",
      "|    |    |    |    |    |    |    |    |----age > 32.0\n",
      "|    |    |    |    |    |    |    |    |    |----class:  1\n",
      "|    |    |    |    |    |    |    |----tot_proteins > 192.0\n",
      "|    |    |    |    |    |    |    |    |----class:  2\n",
      "|    |    |    |    |----ag_ratio > 17.0\n",
      "|    |    |    |    |    |----tot_proteins < 187.0\n",
      "|    |    |    |    |    |    |----albumin < 15.0\n",
      "|    |    |    |    |    |    |    |----age < 60.0\n",
      "|    |    |    |    |    |    |    |    |----class:  1\n",
      "|    |    |    |    |    |    |    |----age > 60.0\n",
      "|    |    |    |    |    |    |    |    |----class:  2\n",
      "|    |    |    |    |    |    |----albumin > 15.0\n",
      "|    |    |    |    |    |    |    |----class:  2\n",
      "|    |    |    |    |    |----tot_proteins > 187.0\n",
      "|    |    |    |    |    |    |----sgot < 4.05\n",
      "|    |    |    |    |    |    |    |----class:  1\n",
      "|    |    |    |    |    |    |----sgot > 4.05\n",
      "|    |    |    |    |    |    |    |----age < 34.0\n",
      "|    |    |    |    |    |    |    |    |----age < 25.5\n",
      "|    |    |    |    |    |    |    |    |    |----class:  2\n",
      "|    |    |    |    |    |    |    |    |----age > 25.5\n",
      "|    |    |    |    |    |    |    |    |    |----class:  1\n",
      "|    |    |    |    |    |    |    |----age > 34.0\n",
      "|    |    |    |    |    |    |    |    |----class:  2\n",
      "|    |    |    |----albumin > 22.0\n",
      "|    |    |    |    |----sgot < 4.0\n",
      "|    |    |    |    |    |----tot_proteins < 190.0\n",
      "|    |    |    |    |    |    |----class:  1\n",
      "|    |    |    |    |    |----tot_proteins > 190.0\n",
      "|    |    |    |    |    |    |----tot_proteins < 208.0\n",
      "|    |    |    |    |    |    |    |----age < 41.0\n",
      "|    |    |    |    |    |    |    |    |----class:  1\n",
      "|    |    |    |    |    |    |    |----age > 41.0\n",
      "|    |    |    |    |    |    |    |    |----class:  2\n",
      "|    |    |    |    |    |    |----tot_proteins > 208.0\n",
      "|    |    |    |    |    |    |    |----class:  1\n",
      "|    |    |    |    |----sgot > 4.0\n",
      "|    |    |    |    |    |----sgpt < 7.95\n",
      "|    |    |    |    |    |    |----ag_ratio < 21.5\n",
      "|    |    |    |    |    |    |    |----class:  2\n",
      "|    |    |    |    |    |    |----ag_ratio > 21.5\n",
      "|    |    |    |    |    |    |    |----tot_proteins < 163.0\n",
      "|    |    |    |    |    |    |    |    |----class:  2\n",
      "|    |    |    |    |    |    |    |----tot_proteins > 163.0\n",
      "|    |    |    |    |    |    |    |    |----class:  1\n",
      "|    |    |    |    |    |----sgpt > 7.95\n",
      "|    |    |    |    |    |    |----tot_proteins < 201.5\n",
      "|    |    |    |    |    |    |    |----tot_bilirubin < 0.8\n",
      "|    |    |    |    |    |    |    |    |----class:  1\n",
      "|    |    |    |    |    |    |    |----tot_bilirubin > 0.8\n",
      "|    |    |    |    |    |    |    |    |----age < 33.0\n",
      "|    |    |    |    |    |    |    |    |    |----class:  2\n",
      "|    |    |    |    |    |    |    |    |----age > 33.0\n",
      "|    |    |    |    |    |    |    |    |    |----tot_proteins < 196.0\n",
      "|    |    |    |    |    |    |    |    |    |    |----class:  1\n",
      "|    |    |    |    |    |    |    |    |    |----tot_proteins > 196.0\n",
      "|    |    |    |    |    |    |    |    |    |    |----tot_bilirubin < 1.3\n",
      "|    |    |    |    |    |    |    |    |    |    |    |----class:  2\n",
      "|    |    |    |    |    |    |    |    |    |    |----tot_bilirubin > 1.3\n",
      "|    |    |    |    |    |    |    |    |    |    |    |----class:  1\n",
      "|    |    |    |    |    |    |----tot_proteins > 201.5\n",
      "|    |    |    |    |    |    |    |----class:  1\n",
      "|    |----ag_ratio > 25.0\n",
      "|    |    |----tot_bilirubin < 0.8\n",
      "|    |    |    |----ag_ratio < 30.0\n",
      "|    |    |    |    |----age < 49.0\n",
      "|    |    |    |    |    |----tot_proteins < 161.0\n",
      "|    |    |    |    |    |    |----tot_proteins < 140.0\n",
      "|    |    |    |    |    |    |    |----class:  1\n",
      "|    |    |    |    |    |    |----tot_proteins > 140.0\n",
      "|    |    |    |    |    |    |    |----class:  2\n",
      "|    |    |    |    |    |----tot_proteins > 161.0\n",
      "|    |    |    |    |    |    |----class:  2\n",
      "|    |    |    |    |----age > 49.0\n",
      "|    |    |    |    |    |----age < 61.5\n",
      "|    |    |    |    |    |    |----age < 51.5\n",
      "|    |    |    |    |    |    |    |----age < 50.0\n",
      "|    |    |    |    |    |    |    |    |----class:  2\n",
      "|    |    |    |    |    |    |    |----age > 50.0\n",
      "|    |    |    |    |    |    |    |    |----class:  1\n",
      "|    |    |    |    |    |    |----age > 51.5\n",
      "|    |    |    |    |    |    |    |----class:  2\n",
      "|    |    |    |    |    |----age > 61.5\n",
      "|    |    |    |    |    |    |----alkphos < 0.78\n",
      "|    |    |    |    |    |    |    |----class:  2\n",
      "|    |    |    |    |    |    |----alkphos > 0.78\n",
      "|    |    |    |    |    |    |    |----class:  1\n",
      "|    |    |    |----ag_ratio > 30.0\n",
      "|    |    |    |    |----tot_bilirubin < 0.7\n",
      "|    |    |    |    |    |----tot_bilirubin < 0.6\n",
      "|    |    |    |    |    |    |----class:  2\n",
      "|    |    |    |    |    |----tot_bilirubin > 0.6\n",
      "|    |    |    |    |    |    |----sgpt < 5.95\n",
      "|    |    |    |    |    |    |    |----sgot < 2.4\n",
      "|    |    |    |    |    |    |    |    |----class:  2\n",
      "|    |    |    |    |    |    |    |----sgot > 2.4\n",
      "|    |    |    |    |    |    |    |    |----age < 41.5\n",
      "|    |    |    |    |    |    |    |    |    |----age < 32.0\n",
      "|    |    |    |    |    |    |    |    |    |    |----class:  1\n",
      "|    |    |    |    |    |    |    |    |    |----age > 32.0\n",
      "|    |    |    |    |    |    |    |    |    |    |----class:  2\n",
      "|    |    |    |    |    |    |    |    |----age > 41.5\n",
      "|    |    |    |    |    |    |    |    |    |----class:  1\n",
      "|    |    |    |    |    |    |----sgpt > 5.95\n",
      "|    |    |    |    |    |    |    |----class:  1\n",
      "|    |    |    |    |----tot_bilirubin > 0.7\n",
      "|    |    |    |    |    |----direct_bilirubin < 0.2\n",
      "|    |    |    |    |    |    |----class:  1\n",
      "|    |    |    |    |    |----direct_bilirubin > 0.2\n",
      "|    |    |    |    |    |    |----ag_ratio < 33.0\n",
      "|    |    |    |    |    |    |    |----age < 41.5\n",
      "|    |    |    |    |    |    |    |    |----class:  1\n",
      "|    |    |    |    |    |    |    |----age > 41.5\n",
      "|    |    |    |    |    |    |    |    |----class:  2\n",
      "|    |    |    |    |    |    |----ag_ratio > 33.0\n",
      "|    |    |    |    |    |    |    |----tot_proteins < 185.0\n",
      "|    |    |    |    |    |    |    |    |----age < 26.0\n",
      "|    |    |    |    |    |    |    |    |    |----class:  2\n",
      "|    |    |    |    |    |    |    |    |----age > 26.0\n",
      "|    |    |    |    |    |    |    |    |    |----class:  1\n",
      "|    |    |    |    |    |    |    |----tot_proteins > 185.0\n",
      "|    |    |    |    |    |    |    |    |----class:  2\n",
      "|    |    |----tot_bilirubin > 0.8\n",
      "|    |    |    |----direct_bilirubin < 0.3\n",
      "|    |    |    |    |----albumin < 29.0\n",
      "|    |    |    |    |    |----direct_bilirubin < 0.2\n",
      "|    |    |    |    |    |    |----class:  2\n",
      "|    |    |    |    |    |----direct_bilirubin > 0.2\n",
      "|    |    |    |    |    |    |----age < 56.5\n",
      "|    |    |    |    |    |    |    |----class:  1\n",
      "|    |    |    |    |    |    |----age > 56.5\n",
      "|    |    |    |    |    |    |    |----age < 61.0\n",
      "|    |    |    |    |    |    |    |    |----class:  1\n",
      "|    |    |    |    |    |    |    |----age > 61.0\n",
      "|    |    |    |    |    |    |    |    |----age < 69.0\n",
      "|    |    |    |    |    |    |    |    |    |----age < 63.5\n",
      "|    |    |    |    |    |    |    |    |    |    |----class:  2\n",
      "|    |    |    |    |    |    |    |    |    |----age > 63.5\n",
      "|    |    |    |    |    |    |    |    |    |    |----class:  1\n",
      "|    |    |    |    |    |    |    |    |----age > 69.0\n",
      "|    |    |    |    |    |    |    |    |    |----class:  1\n",
      "|    |    |    |    |----albumin > 29.0\n",
      "|    |    |    |    |    |----ag_ratio < 32.0\n",
      "|    |    |    |    |    |    |----sgpt < 7.4\n",
      "|    |    |    |    |    |    |    |----ag_ratio < 30.0\n",
      "|    |    |    |    |    |    |    |    |----class:  2\n",
      "|    |    |    |    |    |    |    |----ag_ratio > 30.0\n",
      "|    |    |    |    |    |    |    |    |----age < 31.0\n",
      "|    |    |    |    |    |    |    |    |    |----class:  2\n",
      "|    |    |    |    |    |    |    |    |----age > 31.0\n",
      "|    |    |    |    |    |    |    |    |    |----class:  1\n",
      "|    |    |    |    |    |    |----sgpt > 7.4\n",
      "|    |    |    |    |    |    |    |----tot_bilirubin < 0.9\n",
      "|    |    |    |    |    |    |    |    |----age < 54.0\n",
      "|    |    |    |    |    |    |    |    |    |----class:  1\n",
      "|    |    |    |    |    |    |    |    |----age > 54.0\n",
      "|    |    |    |    |    |    |    |    |    |----class:  2\n",
      "|    |    |    |    |    |    |    |----tot_bilirubin > 0.9\n",
      "|    |    |    |    |    |    |    |    |----class:  1\n",
      "|    |    |    |    |    |----ag_ratio > 32.0\n",
      "|    |    |    |    |    |    |----tot_proteins < 192.5\n",
      "|    |    |    |    |    |    |    |----albumin < 31.0\n",
      "|    |    |    |    |    |    |    |    |----class:  2\n",
      "|    |    |    |    |    |    |    |----albumin > 31.0\n",
      "|    |    |    |    |    |    |    |    |----age < 36.5\n",
      "|    |    |    |    |    |    |    |    |    |----class:  2\n",
      "|    |    |    |    |    |    |    |    |----age > 36.5\n",
      "|    |    |    |    |    |    |    |    |    |----class:  1\n",
      "|    |    |    |    |    |    |----tot_proteins > 192.5\n",
      "|    |    |    |    |    |    |    |----class:  2\n",
      "|    |    |    |----direct_bilirubin > 0.3\n",
      "|    |    |    |    |----direct_bilirubin < 0.8\n",
      "|    |    |    |    |    |----ag_ratio < 32.0\n",
      "|    |    |    |    |    |    |----tot_proteins < 204.0\n",
      "|    |    |    |    |    |    |    |----class:  2\n",
      "|    |    |    |    |    |    |----tot_proteins > 204.0\n",
      "|    |    |    |    |    |    |    |----age < 44.5\n",
      "|    |    |    |    |    |    |    |    |----class:  1\n",
      "|    |    |    |    |    |    |    |----age > 44.5\n",
      "|    |    |    |    |    |    |    |    |----age < 61.5\n",
      "|    |    |    |    |    |    |    |    |    |----class:  2\n",
      "|    |    |    |    |    |    |    |    |----age > 61.5\n",
      "|    |    |    |    |    |    |    |    |    |----class:  1\n",
      "|    |    |    |    |    |----ag_ratio > 32.0\n",
      "|    |    |    |    |    |    |----tot_proteins < 209.0\n",
      "|    |    |    |    |    |    |    |----class:  1\n",
      "|    |    |    |    |    |    |----tot_proteins > 209.0\n",
      "|    |    |    |    |    |    |    |----tot_proteins < 270.0\n",
      "|    |    |    |    |    |    |    |    |----tot_bilirubin < 1.1\n",
      "|    |    |    |    |    |    |    |    |    |----class:  1\n",
      "|    |    |    |    |    |    |    |    |----tot_bilirubin > 1.1\n",
      "|    |    |    |    |    |    |    |    |    |----class:  2\n",
      "|    |    |    |    |    |    |    |----tot_proteins > 270.0\n",
      "|    |    |    |    |    |    |    |    |----class:  1\n",
      "|    |    |    |    |----direct_bilirubin > 0.8\n",
      "|    |    |    |    |    |----age < 60.0\n",
      "|    |    |    |    |    |    |----ag_ratio < 34.0\n",
      "|    |    |    |    |    |    |    |----age < 34.5\n",
      "|    |    |    |    |    |    |    |    |----class:  2\n",
      "|    |    |    |    |    |    |    |----age > 34.5\n",
      "|    |    |    |    |    |    |    |    |----class:  1\n",
      "|    |    |    |    |    |    |----ag_ratio > 34.0\n",
      "|    |    |    |    |    |    |    |----class:  1\n",
      "|    |    |    |    |    |----age > 60.0\n",
      "|    |    |    |    |    |    |----class:  1\n",
      "ag_ratio > 41.0\n",
      "|    |----direct_bilirubin < 1.0\n",
      "|    |    |----albumin < 48.0\n",
      "|    |    |    |----tot_bilirubin < 0.8\n",
      "|    |    |    |    |----ag_ratio < 51.0\n",
      "|    |    |    |    |    |----direct_bilirubin < 0.2\n",
      "|    |    |    |    |    |    |----age < 47.5\n",
      "|    |    |    |    |    |    |    |----class:  2\n",
      "|    |    |    |    |    |    |----age > 47.5\n",
      "|    |    |    |    |    |    |    |----class:  1\n",
      "|    |    |    |    |    |----direct_bilirubin > 0.2\n",
      "|    |    |    |    |    |    |----class:  2\n",
      "|    |    |    |    |----ag_ratio > 51.0\n",
      "|    |    |    |    |    |----tot_bilirubin < 0.6\n",
      "|    |    |    |    |    |    |----class:  2\n",
      "|    |    |    |    |    |----tot_bilirubin > 0.6\n",
      "|    |    |    |    |    |    |----albumin < 31.5\n",
      "|    |    |    |    |    |    |    |----tot_bilirubin < 0.65\n",
      "|    |    |    |    |    |    |    |    |----age < 43.5\n",
      "|    |    |    |    |    |    |    |    |    |----class:  2\n",
      "|    |    |    |    |    |    |    |    |----age > 43.5\n",
      "|    |    |    |    |    |    |    |    |    |----class:  1\n",
      "|    |    |    |    |    |    |    |----tot_bilirubin > 0.65\n",
      "|    |    |    |    |    |    |    |    |----class:  2\n",
      "|    |    |    |    |    |    |----albumin > 31.5\n",
      "|    |    |    |    |    |    |    |----direct_bilirubin < 0.2\n",
      "|    |    |    |    |    |    |    |    |----class:  2\n",
      "|    |    |    |    |    |    |    |----direct_bilirubin > 0.2\n",
      "|    |    |    |    |    |    |    |    |----class:  1\n",
      "|    |    |    |----tot_bilirubin > 0.8\n",
      "|    |    |    |    |----tot_proteins < 192.5\n",
      "|    |    |    |    |    |----tot_bilirubin < 1.0\n",
      "|    |    |    |    |    |    |----tot_proteins < 172.0\n",
      "|    |    |    |    |    |    |    |----tot_proteins < 154.0\n",
      "|    |    |    |    |    |    |    |    |----age < 47.0\n",
      "|    |    |    |    |    |    |    |    |    |----class:  1\n",
      "|    |    |    |    |    |    |    |    |----age > 47.0\n",
      "|    |    |    |    |    |    |    |    |    |----class:  2\n",
      "|    |    |    |    |    |    |    |----tot_proteins > 154.0\n",
      "|    |    |    |    |    |    |    |    |----class:  1\n",
      "|    |    |    |    |    |    |----tot_proteins > 172.0\n",
      "|    |    |    |    |    |    |    |----age < 37.0\n",
      "|    |    |    |    |    |    |    |    |----age < 25.5\n",
      "|    |    |    |    |    |    |    |    |    |----class:  2\n",
      "|    |    |    |    |    |    |    |    |----age > 25.5\n",
      "|    |    |    |    |    |    |    |    |    |----class:  1\n",
      "|    |    |    |    |    |    |    |----age > 37.0\n",
      "|    |    |    |    |    |    |    |    |----class:  2\n",
      "|    |    |    |    |    |----tot_bilirubin > 1.0\n",
      "|    |    |    |    |    |    |----age < 48.5\n",
      "|    |    |    |    |    |    |    |----age < 35.0\n",
      "|    |    |    |    |    |    |    |    |----class:  2\n",
      "|    |    |    |    |    |    |    |----age > 35.0\n",
      "|    |    |    |    |    |    |    |    |----class:  1\n",
      "|    |    |    |    |    |    |----age > 48.5\n",
      "|    |    |    |    |    |    |    |----age < 66.0\n",
      "|    |    |    |    |    |    |    |    |----age < 61.5\n",
      "|    |    |    |    |    |    |    |    |    |----class:  1\n",
      "|    |    |    |    |    |    |    |    |----age > 61.5\n",
      "|    |    |    |    |    |    |    |    |    |----class:  2\n",
      "|    |    |    |    |    |    |    |----age > 66.0\n",
      "|    |    |    |    |    |    |    |    |----class:  1\n",
      "|    |    |    |    |----tot_proteins > 192.5\n",
      "|    |    |    |    |    |----age < 28.0\n",
      "|    |    |    |    |    |    |----albumin < 28.0\n",
      "|    |    |    |    |    |    |    |----class:  1\n",
      "|    |    |    |    |    |    |----albumin > 28.0\n",
      "|    |    |    |    |    |    |    |----age < 18.0\n",
      "|    |    |    |    |    |    |    |    |----class:  2\n",
      "|    |    |    |    |    |    |    |----age > 18.0\n",
      "|    |    |    |    |    |    |    |    |----albumin < 30.0\n",
      "|    |    |    |    |    |    |    |    |    |----class:  2\n",
      "|    |    |    |    |    |    |    |    |----albumin > 30.0\n",
      "|    |    |    |    |    |    |    |    |    |----class:  1\n",
      "|    |    |    |    |    |----age > 28.0\n",
      "|    |    |    |    |    |    |----class:  1\n",
      "|    |    |----albumin > 48.0\n",
      "|    |    |    |----sgot < 3.2\n",
      "|    |    |    |    |----age < 48.0\n",
      "|    |    |    |    |    |----albumin < 72.0\n",
      "|    |    |    |    |    |    |----albumin < 62.0\n",
      "|    |    |    |    |    |    |    |----age < 32.0\n",
      "|    |    |    |    |    |    |    |    |----class:  1\n",
      "|    |    |    |    |    |    |    |----age > 32.0\n",
      "|    |    |    |    |    |    |    |    |----class:  2\n",
      "|    |    |    |    |    |    |----albumin > 62.0\n",
      "|    |    |    |    |    |    |    |----class:  1\n",
      "|    |    |    |    |    |----albumin > 72.0\n",
      "|    |    |    |    |    |    |----class:  1\n",
      "|    |    |    |    |----age > 48.0\n",
      "|    |    |    |    |    |----class:  1\n",
      "|    |    |    |----sgot > 3.2\n",
      "|    |    |    |    |----sgpt < 7.2\n",
      "|    |    |    |    |    |----direct_bilirubin < 0.3\n",
      "|    |    |    |    |    |    |----age < 52.0\n",
      "|    |    |    |    |    |    |    |----age < 11.0\n",
      "|    |    |    |    |    |    |    |    |----class:  2\n",
      "|    |    |    |    |    |    |    |----age > 11.0\n",
      "|    |    |    |    |    |    |    |    |----class:  1\n",
      "|    |    |    |    |    |    |----age > 52.0\n",
      "|    |    |    |    |    |    |    |----ag_ratio < 49.0\n",
      "|    |    |    |    |    |    |    |    |----class:  2\n",
      "|    |    |    |    |    |    |    |----ag_ratio > 49.0\n",
      "|    |    |    |    |    |    |    |    |----class:  1\n",
      "|    |    |    |    |    |----direct_bilirubin > 0.3\n",
      "|    |    |    |    |    |    |----tot_proteins < 215.0\n",
      "|    |    |    |    |    |    |    |----age < 48.0\n",
      "|    |    |    |    |    |    |    |    |----age < 32.0\n",
      "|    |    |    |    |    |    |    |    |    |----class:  2\n",
      "|    |    |    |    |    |    |    |    |----age > 32.0\n",
      "|    |    |    |    |    |    |    |    |    |----class:  1\n",
      "|    |    |    |    |    |    |    |----age > 48.0\n",
      "|    |    |    |    |    |    |    |    |----class:  2\n",
      "|    |    |    |    |    |    |----tot_proteins > 215.0\n",
      "|    |    |    |    |    |    |    |----sgot < 3.3\n",
      "|    |    |    |    |    |    |    |    |----class:  2\n",
      "|    |    |    |    |    |    |    |----sgot > 3.3\n",
      "|    |    |    |    |    |    |    |    |----age < 40.5\n",
      "|    |    |    |    |    |    |    |    |    |----class:  1\n",
      "|    |    |    |    |    |    |    |    |----age > 40.5\n",
      "|    |    |    |    |    |    |    |    |    |----age < 54.0\n",
      "|    |    |    |    |    |    |    |    |    |    |----class:  1\n",
      "|    |    |    |    |    |    |    |    |    |----age > 54.0\n",
      "|    |    |    |    |    |    |    |    |    |    |----class:  2\n",
      "|    |    |    |    |----sgpt > 7.2\n",
      "|    |    |    |    |    |----age < 45.0\n",
      "|    |    |    |    |    |    |----age < 35.5\n",
      "|    |    |    |    |    |    |    |----class:  1\n",
      "|    |    |    |    |    |    |----age > 35.5\n",
      "|    |    |    |    |    |    |    |----ag_ratio < 99.0\n",
      "|    |    |    |    |    |    |    |    |----class:  2\n",
      "|    |    |    |    |    |    |    |----ag_ratio > 99.0\n",
      "|    |    |    |    |    |    |    |    |----class:  1\n",
      "|    |    |    |    |    |----age > 45.0\n",
      "|    |    |    |    |    |    |----class:  1\n",
      "|    |----direct_bilirubin > 1.0\n",
      "|    |    |----sgpt < 6.4\n",
      "|    |    |    |----sgot < 2.5\n",
      "|    |    |    |    |----direct_bilirubin < 2.85\n",
      "|    |    |    |    |    |----class:  1\n",
      "|    |    |    |    |----direct_bilirubin > 2.85\n",
      "|    |    |    |    |    |----tot_bilirubin < 14.1\n",
      "|    |    |    |    |    |    |----tot_bilirubin < 7.4\n",
      "|    |    |    |    |    |    |    |----age < 42.0\n",
      "|    |    |    |    |    |    |    |    |----class:  1\n",
      "|    |    |    |    |    |    |    |----age > 42.0\n",
      "|    |    |    |    |    |    |    |    |----class:  2\n",
      "|    |    |    |    |    |    |----tot_bilirubin > 7.4\n",
      "|    |    |    |    |    |    |    |----class:  1\n",
      "|    |    |    |    |    |----tot_bilirubin > 14.1\n",
      "|    |    |    |    |    |    |----class:  1\n",
      "|    |    |    |----sgot > 2.5\n",
      "|    |    |    |    |----direct_bilirubin < 2.0\n",
      "|    |    |    |    |    |----direct_bilirubin < 1.2\n",
      "|    |    |    |    |    |    |----sgpt < 5.5\n",
      "|    |    |    |    |    |    |    |----class:  1\n",
      "|    |    |    |    |    |    |----sgpt > 5.5\n",
      "|    |    |    |    |    |    |    |----age < 28.5\n",
      "|    |    |    |    |    |    |    |    |----tot_bilirubin < 2.45\n",
      "|    |    |    |    |    |    |    |    |    |----class:  1\n",
      "|    |    |    |    |    |    |    |    |----tot_bilirubin > 2.45\n",
      "|    |    |    |    |    |    |    |    |    |----class:  2\n",
      "|    |    |    |    |    |    |    |----age > 28.5\n",
      "|    |    |    |    |    |    |    |    |----class:  2\n",
      "|    |    |    |    |    |----direct_bilirubin > 1.2\n",
      "|    |    |    |    |    |    |----direct_bilirubin < 1.25\n",
      "|    |    |    |    |    |    |    |----tot_proteins < 323.0\n",
      "|    |    |    |    |    |    |    |    |----class:  1\n",
      "|    |    |    |    |    |    |    |----tot_proteins > 323.0\n",
      "|    |    |    |    |    |    |    |    |----class:  2\n",
      "|    |    |    |    |    |    |----direct_bilirubin > 1.25\n",
      "|    |    |    |    |    |    |    |----class:  1\n",
      "|    |    |    |    |----direct_bilirubin > 2.0\n",
      "|    |    |    |    |    |----direct_bilirubin < 3.6\n",
      "|    |    |    |    |    |    |----sgot < 2.7\n",
      "|    |    |    |    |    |    |    |----class:  2\n",
      "|    |    |    |    |    |    |----sgot > 2.7\n",
      "|    |    |    |    |    |    |    |----class:  1\n",
      "|    |    |    |    |    |----direct_bilirubin > 3.6\n",
      "|    |    |    |    |    |    |----class:  1\n",
      "|    |    |----sgpt > 6.4\n",
      "|    |    |    |----age < 48.0\n",
      "|    |    |    |    |----tot_bilirubin < 6.65\n",
      "|    |    |    |    |    |----direct_bilirubin < 1.6\n",
      "|    |    |    |    |    |    |----direct_bilirubin < 1.3\n",
      "|    |    |    |    |    |    |    |----age < 39.0\n",
      "|    |    |    |    |    |    |    |    |----class:  2\n",
      "|    |    |    |    |    |    |    |----age > 39.0\n",
      "|    |    |    |    |    |    |    |    |----class:  1\n",
      "|    |    |    |    |    |    |----direct_bilirubin > 1.3\n",
      "|    |    |    |    |    |    |    |----class:  1\n",
      "|    |    |    |    |    |----direct_bilirubin > 1.6\n",
      "|    |    |    |    |    |    |----class:  1\n",
      "|    |    |    |    |----tot_bilirubin > 6.65\n",
      "|    |    |    |    |    |----class:  1\n",
      "|    |    |    |----age > 48.0\n",
      "|    |    |    |    |----class:  1\n"
     ]
    }
   ],
   "source": [
    "printtree(best_tree)"
   ]
  },
  {
   "cell_type": "markdown",
   "metadata": {},
   "source": [
    "#### Accuracy of Final Tree before pruning"
   ]
  },
  {
   "cell_type": "code",
   "execution_count": 44,
   "metadata": {},
   "outputs": [
    {
     "name": "stdout",
     "output_type": "stream",
     "text": [
      "True Positve: 71  True Negative:  12  False Positive:  14  False Negative  20\n",
      "Precision:  0.84  Recall:  0.78  F1 Score:  0.81  Accuracy:  0.71\n",
      "0.71\n"
     ]
    }
   ],
   "source": [
    "acc_bp=accuracy(final_test_data,best_tree)\n",
    "print(round(acc_bp,2))"
   ]
  },
  {
   "cell_type": "markdown",
   "metadata": {},
   "source": [
    "#### Depth and Number of Nodes before Pruning"
   ]
  },
  {
   "cell_type": "code",
   "execution_count": 45,
   "metadata": {},
   "outputs": [
    {
     "name": "stdout",
     "output_type": "stream",
     "text": [
      "Depth of Tree before pruning: 11\n",
      "Number of Nodes in Tree before pruning: 329\n"
     ]
    }
   ],
   "source": [
    "depth, nodes = depth_nodes(best_tree)\n",
    "print('Depth of Tree before pruning:',depth)\n",
    "print('Number of Nodes in Tree before pruning:',nodes)"
   ]
  },
  {
   "cell_type": "markdown",
   "metadata": {},
   "source": [
    "## Pruning of Final Tree"
   ]
  },
  {
   "cell_type": "markdown",
   "metadata": {},
   "source": [
    "#### Creating a copy of Best Tree"
   ]
  },
  {
   "cell_type": "code",
   "execution_count": 46,
   "metadata": {},
   "outputs": [],
   "source": [
    "fix_tree = copy.deepcopy(best_tree)"
   ]
  },
  {
   "cell_type": "markdown",
   "metadata": {},
   "source": [
    "#### Function for Pruning"
   ]
  },
  {
   "cell_type": "code",
   "execution_count": 47,
   "metadata": {
    "colab": {
     "base_uri": "https://localhost:8080/"
    },
    "id": "zqMDW9o-h9M-",
    "outputId": "5ee4cb87-c149-46ba-f1f9-c9d896e76045",
    "scrolled": true
   },
   "outputs": [],
   "source": [
    "def pruning_tree(dataset,tree,alpha,parent=None,ax=None,bx=None):\n",
    "   \n",
    "    na1=len(dataset[dataset[target]==1])\n",
    "    na2=len(dataset[dataset[target]==2])\n",
    "     \n",
    "    if na1+na2>0 and isinstance(tree,dict):\n",
    "        attribute=list(tree.keys())[0]\n",
    "        ans=0\n",
    "        if isinstance(tree[attribute],dict):\n",
    "            for k in tree[attribute].keys():\n",
    "                subset=None\n",
    "                if attribute=='gender':\n",
    "                    subset=dataset[dataset[attribute]==k]\n",
    "                elif k[0]=='<':\n",
    "                    subset=dataset[dataset[attribute]<Decimal(k[2:])]\n",
    "                else:\n",
    "                    subset=dataset[dataset[attribute]>=Decimal(k[2:])]\n",
    "                na,nb=pruning_tree(subset,tree[attribute][k],alpha,tree,attribute,k)\n",
    "                nn=(na+nb)/(na1+na2)\n",
    "                nna=nn*na\n",
    "                nnb=nn*nb\n",
    "                if (nna>0):\n",
    "                    ans+=(na-nna)**2/nna\n",
    "                if nnb>0:\n",
    "                    ans+=(nb-nnb)**2/nnb\n",
    "             \n",
    "            if ans<alpha:\n",
    "                print('pruned',' ',attribute)\n",
    "                parent[ax][bx]=2 if na2>na1 else 1\n",
    "            \n",
    "        return na1,na2\n",
    "    \n",
    "    else:\n",
    "        return na1,na2"
   ]
  },
  {
   "cell_type": "markdown",
   "metadata": {},
   "source": [
    "#### Checking Range of Values, to compute the Threshold of Chi-Square Distribution"
   ]
  },
  {
   "cell_type": "code",
   "execution_count": 48,
   "metadata": {
    "colab": {
     "base_uri": "https://localhost:8080/"
    },
    "id": "2FvbPm4M78ZE",
    "outputId": "5f372492-8817-47dc-95e7-d54fcb4875d7",
    "scrolled": true
   },
   "outputs": [
    {
     "name": "stdout",
     "output_type": "stream",
     "text": [
      "pruned   age\n",
      "pruned   age\n",
      "pruned   age\n",
      "pruned   age\n",
      "pruned   tot_bilirubin\n",
      "pruned   tot_bilirubin\n",
      "pruned   direct_bilirubin\n",
      "pruned   age\n",
      "pruned   age\n",
      "pruned   direct_bilirubin\n",
      "True Positve: 74  True Negative:  12  False Positive:  14  False Negative  17\n",
      "Precision:  0.84  Recall:  0.81  F1 Score:  0.83  Accuracy:  0.74\n",
      "pruned   age\n",
      "pruned   age\n",
      "pruned   age\n",
      "pruned   tot_bilirubin\n",
      "pruned   age\n",
      "pruned   age\n",
      "pruned   age\n",
      "pruned   age\n",
      "pruned   tot_bilirubin\n",
      "pruned   age\n",
      "pruned   age\n",
      "pruned   age\n",
      "pruned   age\n",
      "pruned   age\n",
      "pruned   tot_bilirubin\n",
      "pruned   age\n",
      "True Positve: 75  True Negative:  11  False Positive:  15  False Negative  16\n",
      "Precision:  0.83  Recall:  0.82  F1 Score:  0.83  Accuracy:  0.74\n",
      "True Positve: 75  True Negative:  11  False Positive:  15  False Negative  16\n",
      "Precision:  0.83  Recall:  0.82  F1 Score:  0.83  Accuracy:  0.74\n",
      "True Positve: 75  True Negative:  11  False Positive:  15  False Negative  16\n",
      "Precision:  0.83  Recall:  0.82  F1 Score:  0.83  Accuracy:  0.74\n",
      "True Positve: 75  True Negative:  11  False Positive:  15  False Negative  16\n",
      "Precision:  0.83  Recall:  0.82  F1 Score:  0.83  Accuracy:  0.74\n",
      "True Positve: 75  True Negative:  11  False Positive:  15  False Negative  16\n",
      "Precision:  0.83  Recall:  0.82  F1 Score:  0.83  Accuracy:  0.74\n",
      "True Positve: 75  True Negative:  11  False Positive:  15  False Negative  16\n",
      "Precision:  0.83  Recall:  0.82  F1 Score:  0.83  Accuracy:  0.74\n",
      "pruned   alkphos\n",
      "pruned   age\n",
      "pruned   tot_proteins\n",
      "pruned   tot_proteins\n",
      "pruned   age\n",
      "pruned   age\n",
      "pruned   albumin\n",
      "pruned   age\n",
      "True Positve: 75  True Negative:  12  False Positive:  14  False Negative  16\n",
      "Precision:  0.84  Recall:  0.82  F1 Score:  0.83  Accuracy:  0.74\n",
      "True Positve: 75  True Negative:  12  False Positive:  14  False Negative  16\n",
      "Precision:  0.84  Recall:  0.82  F1 Score:  0.83  Accuracy:  0.74\n",
      "True Positve: 75  True Negative:  12  False Positive:  14  False Negative  16\n",
      "Precision:  0.84  Recall:  0.82  F1 Score:  0.83  Accuracy:  0.74\n",
      "pruned   age\n",
      "pruned   age\n",
      "pruned   tot_proteins\n",
      "pruned   age\n",
      "pruned   alkphos\n",
      "pruned   age\n",
      "pruned   age\n",
      "pruned   tot_proteins\n",
      "pruned   age\n",
      "pruned   albumin\n",
      "pruned   tot_proteins\n",
      "pruned   age\n",
      "pruned   ag_ratio\n",
      "True Positve: 77  True Negative:  11  False Positive:  15  False Negative  14\n",
      "Precision:  0.84  Recall:  0.85  F1 Score:  0.84  Accuracy:  0.75\n",
      "True Positve: 77  True Negative:  11  False Positive:  15  False Negative  14\n",
      "Precision:  0.84  Recall:  0.85  F1 Score:  0.84  Accuracy:  0.75\n",
      "True Positve: 77  True Negative:  11  False Positive:  15  False Negative  14\n",
      "Precision:  0.84  Recall:  0.85  F1 Score:  0.84  Accuracy:  0.75\n",
      "True Positve: 77  True Negative:  11  False Positive:  15  False Negative  14\n",
      "Precision:  0.84  Recall:  0.85  F1 Score:  0.84  Accuracy:  0.75\n",
      "True Positve: 77  True Negative:  11  False Positive:  15  False Negative  14\n",
      "Precision:  0.84  Recall:  0.85  F1 Score:  0.84  Accuracy:  0.75\n",
      "pruned   age\n",
      "pruned   age\n",
      "pruned   ag_ratio\n",
      "pruned   tot_proteins\n",
      "pruned   age\n",
      "pruned   tot_proteins\n",
      "pruned   age\n",
      "pruned   ag_ratio\n",
      "pruned   sgot\n",
      "True Positve: 77  True Negative:  11  False Positive:  15  False Negative  14\n",
      "Precision:  0.84  Recall:  0.85  F1 Score:  0.84  Accuracy:  0.75\n",
      "pruned   ag_ratio\n",
      "pruned   albumin\n",
      "pruned   ag_ratio\n",
      "pruned   age\n",
      "pruned   age\n",
      "pruned   age\n",
      "True Positve: 78  True Negative:  11  False Positive:  15  False Negative  13\n",
      "Precision:  0.84  Recall:  0.86  F1 Score:  0.85  Accuracy:  0.76\n",
      "True Positve: 78  True Negative:  11  False Positive:  15  False Negative  13\n",
      "Precision:  0.84  Recall:  0.86  F1 Score:  0.85  Accuracy:  0.76\n",
      "True Positve: 78  True Negative:  11  False Positive:  15  False Negative  13\n",
      "Precision:  0.84  Recall:  0.86  F1 Score:  0.85  Accuracy:  0.76\n",
      "True Positve: 78  True Negative:  11  False Positive:  15  False Negative  13\n",
      "Precision:  0.84  Recall:  0.86  F1 Score:  0.85  Accuracy:  0.76\n",
      "pruned   sgpt\n",
      "pruned   tot_proteins\n",
      "True Positve: 78  True Negative:  11  False Positive:  15  False Negative  13\n",
      "Precision:  0.84  Recall:  0.86  F1 Score:  0.85  Accuracy:  0.76\n",
      "True Positve: 78  True Negative:  11  False Positive:  15  False Negative  13\n",
      "Precision:  0.84  Recall:  0.86  F1 Score:  0.85  Accuracy:  0.76\n",
      "True Positve: 78  True Negative:  11  False Positive:  15  False Negative  13\n",
      "Precision:  0.84  Recall:  0.86  F1 Score:  0.85  Accuracy:  0.76\n",
      "True Positve: 78  True Negative:  11  False Positive:  15  False Negative  13\n",
      "Precision:  0.84  Recall:  0.86  F1 Score:  0.85  Accuracy:  0.76\n",
      "pruned   albumin\n",
      "pruned   alkphos\n",
      "pruned   tot_bilirubin\n",
      "pruned   tot_bilirubin\n",
      "pruned   direct_bilirubin\n",
      "pruned   albumin\n",
      "pruned   tot_proteins\n",
      "pruned   direct_bilirubin\n",
      "True Positve: 78  True Negative:  11  False Positive:  15  False Negative  13\n",
      "Precision:  0.84  Recall:  0.86  F1 Score:  0.85  Accuracy:  0.76\n",
      "True Positve: 78  True Negative:  11  False Positive:  15  False Negative  13\n",
      "Precision:  0.84  Recall:  0.86  F1 Score:  0.85  Accuracy:  0.76\n",
      "pruned   age\n",
      "pruned   age\n",
      "pruned   sgot\n",
      "pruned   tot_proteins\n",
      "pruned   age\n",
      "pruned   albumin\n",
      "pruned   tot_proteins\n",
      "True Positve: 79  True Negative:  11  False Positive:  15  False Negative  12\n",
      "Precision:  0.84  Recall:  0.87  F1 Score:  0.85  Accuracy:  0.77\n",
      "True Positve: 79  True Negative:  11  False Positive:  15  False Negative  12\n",
      "Precision:  0.84  Recall:  0.87  F1 Score:  0.85  Accuracy:  0.77\n",
      "True Positve: 79  True Negative:  11  False Positive:  15  False Negative  12\n",
      "Precision:  0.84  Recall:  0.87  F1 Score:  0.85  Accuracy:  0.77\n",
      "True Positve: 79  True Negative:  11  False Positive:  15  False Negative  12\n",
      "Precision:  0.84  Recall:  0.87  F1 Score:  0.85  Accuracy:  0.77\n",
      "pruned   age\n",
      "pruned   age\n",
      "pruned   tot_proteins\n",
      "pruned   age\n",
      "pruned   age\n",
      "True Positve: 80  True Negative:  11  False Positive:  15  False Negative  11\n",
      "Precision:  0.84  Recall:  0.88  F1 Score:  0.86  Accuracy:  0.78\n",
      "True Positve: 80  True Negative:  11  False Positive:  15  False Negative  11\n",
      "Precision:  0.84  Recall:  0.88  F1 Score:  0.86  Accuracy:  0.78\n",
      "pruned   age\n",
      "True Positve: 80  True Negative:  11  False Positive:  15  False Negative  11\n",
      "Precision:  0.84  Recall:  0.88  F1 Score:  0.86  Accuracy:  0.78\n",
      "pruned   tot_bilirubin\n",
      "True Positve: 80  True Negative:  10  False Positive:  16  False Negative  11\n",
      "Precision:  0.83  Recall:  0.88  F1 Score:  0.86  Accuracy:  0.77\n",
      "pruned   direct_bilirubin\n",
      "pruned   albumin\n",
      "True Positve: 80  True Negative:  10  False Positive:  16  False Negative  11\n",
      "Precision:  0.83  Recall:  0.88  F1 Score:  0.86  Accuracy:  0.77\n",
      "True Positve: 80  True Negative:  10  False Positive:  16  False Negative  11\n",
      "Precision:  0.83  Recall:  0.88  F1 Score:  0.86  Accuracy:  0.77\n",
      "pruned   albumin\n",
      "pruned   ag_ratio\n",
      "pruned   tot_bilirubin\n",
      "pruned   albumin\n",
      "True Positve: 79  True Negative:  10  False Positive:  16  False Negative  12\n",
      "Precision:  0.83  Recall:  0.87  F1 Score:  0.85  Accuracy:  0.76\n",
      "True Positve: 79  True Negative:  10  False Positive:  16  False Negative  12\n",
      "Precision:  0.83  Recall:  0.87  F1 Score:  0.85  Accuracy:  0.76\n",
      "True Positve: 79  True Negative:  10  False Positive:  16  False Negative  12\n",
      "Precision:  0.83  Recall:  0.87  F1 Score:  0.85  Accuracy:  0.76\n",
      "True Positve: 79  True Negative:  10  False Positive:  16  False Negative  12\n",
      "Precision:  0.83  Recall:  0.87  F1 Score:  0.85  Accuracy:  0.76\n",
      "True Positve: 79  True Negative:  10  False Positive:  16  False Negative  12\n",
      "Precision:  0.83  Recall:  0.87  F1 Score:  0.85  Accuracy:  0.76\n",
      "pruned   direct_bilirubin\n",
      "pruned   tot_proteins\n",
      "pruned   age\n",
      "True Positve: 79  True Negative:  10  False Positive:  16  False Negative  12\n",
      "Precision:  0.83  Recall:  0.87  F1 Score:  0.85  Accuracy:  0.76\n",
      "True Positve: 79  True Negative:  10  False Positive:  16  False Negative  12\n",
      "Precision:  0.83  Recall:  0.87  F1 Score:  0.85  Accuracy:  0.76\n",
      "pruned   tot_proteins\n",
      "pruned   sgot\n",
      "True Positve: 79  True Negative:  9  False Positive:  17  False Negative  12\n",
      "Precision:  0.82  Recall:  0.87  F1 Score:  0.84  Accuracy:  0.75\n",
      "True Positve: 79  True Negative:  9  False Positive:  17  False Negative  12\n",
      "Precision:  0.82  Recall:  0.87  F1 Score:  0.84  Accuracy:  0.75\n",
      "True Positve: 79  True Negative:  9  False Positive:  17  False Negative  12\n",
      "Precision:  0.82  Recall:  0.87  F1 Score:  0.84  Accuracy:  0.75\n",
      "pruned   ag_ratio\n",
      "pruned   sgpt\n",
      "True Positve: 79  True Negative:  8  False Positive:  18  False Negative  12\n",
      "Precision:  0.81  Recall:  0.87  F1 Score:  0.84  Accuracy:  0.74\n",
      "True Positve: 79  True Negative:  8  False Positive:  18  False Negative  12\n",
      "Precision:  0.81  Recall:  0.87  F1 Score:  0.84  Accuracy:  0.74\n",
      "True Positve: 79  True Negative:  8  False Positive:  18  False Negative  12\n",
      "Precision:  0.81  Recall:  0.87  F1 Score:  0.84  Accuracy:  0.74\n",
      "pruned   sgpt\n",
      "True Positve: 80  True Negative:  8  False Positive:  18  False Negative  11\n",
      "Precision:  0.82  Recall:  0.88  F1 Score:  0.85  Accuracy:  0.75\n",
      "pruned   ag_ratio\n",
      "pruned   ag_ratio\n",
      "True Positve: 80  True Negative:  8  False Positive:  18  False Negative  11\n",
      "Precision:  0.82  Recall:  0.88  F1 Score:  0.85  Accuracy:  0.75\n",
      "True Positve: 80  True Negative:  8  False Positive:  18  False Negative  11\n",
      "Precision:  0.82  Recall:  0.88  F1 Score:  0.85  Accuracy:  0.75\n",
      "pruned   tot_proteins\n",
      "True Positve: 80  True Negative:  8  False Positive:  18  False Negative  11\n",
      "Precision:  0.82  Recall:  0.88  F1 Score:  0.85  Accuracy:  0.75\n",
      "True Positve: 80  True Negative:  8  False Positive:  18  False Negative  11\n",
      "Precision:  0.82  Recall:  0.88  F1 Score:  0.85  Accuracy:  0.75\n",
      "True Positve: 80  True Negative:  8  False Positive:  18  False Negative  11\n",
      "Precision:  0.82  Recall:  0.88  F1 Score:  0.85  Accuracy:  0.75\n",
      "True Positve: 80  True Negative:  8  False Positive:  18  False Negative  11\n",
      "Precision:  0.82  Recall:  0.88  F1 Score:  0.85  Accuracy:  0.75\n",
      "pruned   tot_proteins\n",
      "True Positve: 79  True Negative:  8  False Positive:  18  False Negative  12\n",
      "Precision:  0.81  Recall:  0.87  F1 Score:  0.84  Accuracy:  0.74\n",
      "True Positve: 79  True Negative:  8  False Positive:  18  False Negative  12\n",
      "Precision:  0.81  Recall:  0.87  F1 Score:  0.84  Accuracy:  0.74\n",
      "True Positve: 79  True Negative:  8  False Positive:  18  False Negative  12\n",
      "Precision:  0.81  Recall:  0.87  F1 Score:  0.84  Accuracy:  0.74\n",
      "True Positve: 79  True Negative:  8  False Positive:  18  False Negative  12\n",
      "Precision:  0.81  Recall:  0.87  F1 Score:  0.84  Accuracy:  0.74\n",
      "True Positve: 79  True Negative:  8  False Positive:  18  False Negative  12\n",
      "Precision:  0.81  Recall:  0.87  F1 Score:  0.84  Accuracy:  0.74\n",
      "pruned   age\n",
      "True Positve: 78  True Negative:  8  False Positive:  18  False Negative  13\n",
      "Precision:  0.81  Recall:  0.86  F1 Score:  0.83  Accuracy:  0.74\n",
      "pruned   albumin\n",
      "pruned   albumin\n",
      "pruned   direct_bilirubin\n",
      "True Positve: 78  True Negative:  8  False Positive:  18  False Negative  13\n",
      "Precision:  0.81  Recall:  0.86  F1 Score:  0.83  Accuracy:  0.74\n",
      "True Positve: 78  True Negative:  8  False Positive:  18  False Negative  13\n",
      "Precision:  0.81  Recall:  0.86  F1 Score:  0.83  Accuracy:  0.74\n",
      "True Positve: 78  True Negative:  8  False Positive:  18  False Negative  13\n",
      "Precision:  0.81  Recall:  0.86  F1 Score:  0.83  Accuracy:  0.74\n",
      "True Positve: 78  True Negative:  8  False Positive:  18  False Negative  13\n",
      "Precision:  0.81  Recall:  0.86  F1 Score:  0.83  Accuracy:  0.74\n",
      "pruned   age\n",
      "pruned   tot_proteins\n",
      "pruned   tot_bilirubin\n",
      "True Positve: 78  True Negative:  8  False Positive:  18  False Negative  13\n",
      "Precision:  0.81  Recall:  0.86  F1 Score:  0.83  Accuracy:  0.74\n",
      "True Positve: 78  True Negative:  8  False Positive:  18  False Negative  13\n",
      "Precision:  0.81  Recall:  0.86  F1 Score:  0.83  Accuracy:  0.74\n",
      "True Positve: 78  True Negative:  8  False Positive:  18  False Negative  13\n",
      "Precision:  0.81  Recall:  0.86  F1 Score:  0.83  Accuracy:  0.74\n",
      "pruned   ag_ratio\n",
      "pruned   direct_bilirubin\n",
      "True Positve: 78  True Negative:  8  False Positive:  18  False Negative  13\n",
      "Precision:  0.81  Recall:  0.86  F1 Score:  0.83  Accuracy:  0.74\n",
      "True Positve: 78  True Negative:  8  False Positive:  18  False Negative  13\n",
      "Precision:  0.81  Recall:  0.86  F1 Score:  0.83  Accuracy:  0.74\n",
      "True Positve: 78  True Negative:  8  False Positive:  18  False Negative  13\n",
      "Precision:  0.81  Recall:  0.86  F1 Score:  0.83  Accuracy:  0.74\n",
      "True Positve: 78  True Negative:  8  False Positive:  18  False Negative  13\n",
      "Precision:  0.81  Recall:  0.86  F1 Score:  0.83  Accuracy:  0.74\n",
      "pruned   direct_bilirubin\n",
      "True Positve: 78  True Negative:  8  False Positive:  18  False Negative  13\n",
      "Precision:  0.81  Recall:  0.86  F1 Score:  0.83  Accuracy:  0.74\n",
      "True Positve: 78  True Negative:  8  False Positive:  18  False Negative  13\n",
      "Precision:  0.81  Recall:  0.86  F1 Score:  0.83  Accuracy:  0.74\n",
      "True Positve: 78  True Negative:  8  False Positive:  18  False Negative  13\n",
      "Precision:  0.81  Recall:  0.86  F1 Score:  0.83  Accuracy:  0.74\n",
      "pruned   age\n",
      "True Positve: 78  True Negative:  8  False Positive:  18  False Negative  13\n",
      "Precision:  0.81  Recall:  0.86  F1 Score:  0.83  Accuracy:  0.74\n",
      "True Positve: 78  True Negative:  8  False Positive:  18  False Negative  13\n",
      "Precision:  0.81  Recall:  0.86  F1 Score:  0.83  Accuracy:  0.74\n",
      "pruned   direct_bilirubin\n",
      "True Positve: 78  True Negative:  8  False Positive:  18  False Negative  13\n",
      "Precision:  0.81  Recall:  0.86  F1 Score:  0.83  Accuracy:  0.74\n",
      "True Positve: 78  True Negative:  8  False Positive:  18  False Negative  13\n",
      "Precision:  0.81  Recall:  0.86  F1 Score:  0.83  Accuracy:  0.74\n",
      "True Positve: 78  True Negative:  8  False Positive:  18  False Negative  13\n",
      "Precision:  0.81  Recall:  0.86  F1 Score:  0.83  Accuracy:  0.74\n",
      "pruned   age\n",
      "True Positve: 78  True Negative:  8  False Positive:  18  False Negative  13\n",
      "Precision:  0.81  Recall:  0.86  F1 Score:  0.83  Accuracy:  0.74\n",
      "pruned   tot_bilirubin\n",
      "True Positve: 78  True Negative:  8  False Positive:  18  False Negative  13\n",
      "Precision:  0.81  Recall:  0.86  F1 Score:  0.83  Accuracy:  0.74\n",
      "True Positve: 78  True Negative:  8  False Positive:  18  False Negative  13\n",
      "Precision:  0.81  Recall:  0.86  F1 Score:  0.83  Accuracy:  0.74\n",
      "True Positve: 78  True Negative:  8  False Positive:  18  False Negative  13\n",
      "Precision:  0.81  Recall:  0.86  F1 Score:  0.83  Accuracy:  0.74\n",
      "pruned   age\n",
      "True Positve: 78  True Negative:  8  False Positive:  18  False Negative  13\n",
      "Precision:  0.81  Recall:  0.86  F1 Score:  0.83  Accuracy:  0.74\n",
      "pruned   sgpt\n",
      "True Positve: 79  True Negative:  8  False Positive:  18  False Negative  12\n",
      "Precision:  0.81  Recall:  0.87  F1 Score:  0.84  Accuracy:  0.74\n",
      "True Positve: 79  True Negative:  8  False Positive:  18  False Negative  12\n",
      "Precision:  0.81  Recall:  0.87  F1 Score:  0.84  Accuracy:  0.74\n",
      "True Positve: 79  True Negative:  8  False Positive:  18  False Negative  12\n",
      "Precision:  0.81  Recall:  0.87  F1 Score:  0.84  Accuracy:  0.74\n",
      "True Positve: 79  True Negative:  8  False Positive:  18  False Negative  12\n",
      "Precision:  0.81  Recall:  0.87  F1 Score:  0.84  Accuracy:  0.74\n",
      "True Positve: 79  True Negative:  8  False Positive:  18  False Negative  12\n",
      "Precision:  0.81  Recall:  0.87  F1 Score:  0.84  Accuracy:  0.74\n",
      "True Positve: 79  True Negative:  8  False Positive:  18  False Negative  12\n",
      "Precision:  0.81  Recall:  0.87  F1 Score:  0.84  Accuracy:  0.74\n"
     ]
    }
   ],
   "source": [
    "n = 1.0\n",
    "temp1 = []\n",
    "temp2 = []\n",
    "while(n<10.1):\n",
    "    pruning_tree(final_train_data,fix_tree,n)\n",
    "    accc=accuracy(final_test_data,fix_tree)\n",
    "    temp1.append(n)\n",
    "    temp2.append(accc)\n",
    "    n = n + 0.1"
   ]
  },
  {
   "cell_type": "markdown",
   "metadata": {},
   "source": [
    "#### Graph of Thresholdvs Accuracy"
   ]
  },
  {
   "cell_type": "code",
   "execution_count": 49,
   "metadata": {},
   "outputs": [
    {
     "data": {
      "image/png": "[encoded data removed]",
      "text/plain": [
       "<Figure size 432x288 with 1 Axes>"
      ]
     },
     "metadata": {
      "needs_background": "light"
     },
     "output_type": "display_data"
    }
   ],
   "source": [
    "plt.plot(temp1,temp2)\n",
    "plt.xlabel('Value of Threshold')\n",
    "plt.ylabel('Accuracy')\n",
    "plt.title('Graph of Threshold vs Accuracy')\n",
    "plt.show()"
   ]
  },
  {
   "cell_type": "markdown",
   "metadata": {},
   "source": [
    "#### Value of Threshold having maximum Accuracy"
   ]
  },
  {
   "cell_type": "code",
   "execution_count": 50,
   "metadata": {},
   "outputs": [],
   "source": [
    "x = max(temp2)\n",
    "for i in range(len(temp2)):\n",
    "    if(temp2[i] == x):\n",
    "        x = temp1[i]\n",
    "        break"
   ]
  },
  {
   "cell_type": "markdown",
   "metadata": {},
   "source": [
    "#### Pruning is done here, showing all the pruned attributes"
   ]
  },
  {
   "cell_type": "code",
   "execution_count": 51,
   "metadata": {
    "scrolled": true
   },
   "outputs": [
    {
     "name": "stdout",
     "output_type": "stream",
     "text": [
      "pruned   ag_ratio\n",
      "pruned   albumin\n",
      "pruned   age\n",
      "pruned   age\n",
      "pruned   age\n",
      "pruned   age\n",
      "pruned   age\n",
      "pruned   age\n",
      "pruned   alkphos\n",
      "pruned   ag_ratio\n",
      "pruned   age\n",
      "pruned   sgpt\n",
      "pruned   age\n",
      "pruned   albumin\n",
      "pruned   age\n",
      "pruned   tot_proteins\n",
      "pruned   alkphos\n",
      "pruned   age\n",
      "pruned   age\n",
      "pruned   age\n",
      "pruned   sgot\n",
      "pruned   age\n",
      "pruned   tot_proteins\n",
      "pruned   tot_proteins\n",
      "pruned   tot_bilirubin\n",
      "pruned   tot_proteins\n",
      "pruned   age\n",
      "pruned   tot_bilirubin\n",
      "pruned   tot_proteins\n",
      "pruned   tot_proteins\n",
      "pruned   age\n",
      "pruned   age\n",
      "pruned   alkphos\n",
      "pruned   age\n",
      "pruned   age\n",
      "pruned   age\n",
      "pruned   sgot\n",
      "pruned   tot_bilirubin\n",
      "pruned   age\n",
      "pruned   age\n",
      "pruned   age\n",
      "pruned   age\n",
      "pruned   ag_ratio\n",
      "pruned   age\n",
      "pruned   tot_bilirubin\n",
      "pruned   age\n",
      "pruned   albumin\n",
      "pruned   age\n",
      "pruned   age\n",
      "pruned   tot_proteins\n",
      "pruned   tot_bilirubin\n",
      "pruned   tot_proteins\n",
      "pruned   tot_proteins\n",
      "pruned   age\n",
      "pruned   age\n",
      "pruned   direct_bilirubin\n",
      "pruned   tot_bilirubin\n",
      "pruned   direct_bilirubin\n",
      "pruned   albumin\n",
      "pruned   age\n",
      "pruned   tot_proteins\n",
      "pruned   age\n",
      "pruned   age\n",
      "pruned   tot_proteins\n",
      "pruned   age\n",
      "pruned   age\n",
      "pruned   age\n",
      "pruned   albumin\n",
      "pruned   age\n",
      "pruned   age\n",
      "pruned   albumin\n",
      "pruned   age\n",
      "pruned   ag_ratio\n",
      "pruned   age\n",
      "pruned   age\n",
      "pruned   age\n",
      "pruned   sgot\n",
      "pruned   tot_proteins\n",
      "pruned   ag_ratio\n",
      "pruned   age\n",
      "pruned   age\n",
      "pruned   tot_bilirubin\n",
      "pruned   direct_bilirubin\n",
      "pruned   age\n",
      "pruned   direct_bilirubin\n"
     ]
    },
    {
     "data": {
      "text/plain": [
       "(325, 141)"
      ]
     },
     "execution_count": 51,
     "metadata": {},
     "output_type": "execute_result"
    }
   ],
   "source": [
    "pruning_tree(final_train_data,best_tree,x)"
   ]
  },
  {
   "cell_type": "markdown",
   "metadata": {},
   "source": [
    "#### Final Complete Tree, after Pruning"
   ]
  },
  {
   "cell_type": "code",
   "execution_count": 52,
   "metadata": {
    "scrolled": false
   },
   "outputs": [
    {
     "name": "stdout",
     "output_type": "stream",
     "text": [
      "ag_ratio < 41.0\n",
      "|    |----ag_ratio < 25.0\n",
      "|    |    |----sgpt < 6.8\n",
      "|    |    |    |----ag_ratio < 19.0\n",
      "|    |    |    |    |----ag_ratio < 15.0\n",
      "|    |    |    |    |    |----albumin < 14.0\n",
      "|    |    |    |    |    |    |----class:  2\n",
      "|    |    |    |    |    |----albumin > 14.0\n",
      "|    |    |    |    |    |    |----class:  1\n",
      "|    |    |    |    |----ag_ratio > 15.0\n",
      "|    |    |    |    |    |----direct_bilirubin < 0.2\n",
      "|    |    |    |    |    |    |----class:  1\n",
      "|    |    |    |    |    |----direct_bilirubin > 0.2\n",
      "|    |    |    |    |    |    |----albumin < 21.0\n",
      "|    |    |    |    |    |    |    |----class:  1\n",
      "|    |    |    |    |    |    |----albumin > 21.0\n",
      "|    |    |    |    |    |    |    |----class:  1\n",
      "|    |    |    |----ag_ratio > 19.0\n",
      "|    |    |    |    |----alkphos < 1.0\n",
      "|    |    |    |    |    |----age < 46.5\n",
      "|    |    |    |    |    |    |----class:  2\n",
      "|    |    |    |    |    |----age > 46.5\n",
      "|    |    |    |    |    |    |----class:  1\n",
      "|    |    |    |    |----alkphos > 1.0\n",
      "|    |    |    |    |    |----alkphos < 1.1\n",
      "|    |    |    |    |    |    |----direct_bilirubin < 0.2\n",
      "|    |    |    |    |    |    |    |----class:  1\n",
      "|    |    |    |    |    |    |----direct_bilirubin > 0.2\n",
      "|    |    |    |    |    |    |    |----class:  1\n",
      "|    |    |    |    |    |----alkphos > 1.1\n",
      "|    |    |    |    |    |    |----tot_proteins < 187.0\n",
      "|    |    |    |    |    |    |    |----class:  2\n",
      "|    |    |    |    |    |    |----tot_proteins > 187.0\n",
      "|    |    |    |    |    |    |    |----class:  2\n",
      "|    |    |----sgpt > 6.8\n",
      "|    |    |    |----albumin < 22.0\n",
      "|    |    |    |    |----ag_ratio < 17.0\n",
      "|    |    |    |    |    |----ag_ratio < 14.5\n",
      "|    |    |    |    |    |    |----direct_bilirubin < 0.2\n",
      "|    |    |    |    |    |    |    |----class:  2\n",
      "|    |    |    |    |    |    |----direct_bilirubin > 0.2\n",
      "|    |    |    |    |    |    |    |----class:  1\n",
      "|    |    |    |    |    |----ag_ratio > 14.5\n",
      "|    |    |    |    |    |    |----class:  2\n",
      "|    |    |    |    |----ag_ratio > 17.0\n",
      "|    |    |    |    |    |----tot_proteins < 187.0\n",
      "|    |    |    |    |    |    |----albumin < 15.0\n",
      "|    |    |    |    |    |    |    |----class:  2\n",
      "|    |    |    |    |    |    |----albumin > 15.0\n",
      "|    |    |    |    |    |    |    |----class:  2\n",
      "|    |    |    |    |    |----tot_proteins > 187.0\n",
      "|    |    |    |    |    |    |----class:  1\n",
      "|    |    |    |----albumin > 22.0\n",
      "|    |    |    |    |----sgot < 4.0\n",
      "|    |    |    |    |    |----tot_proteins < 190.0\n",
      "|    |    |    |    |    |    |----class:  1\n",
      "|    |    |    |    |    |----tot_proteins > 190.0\n",
      "|    |    |    |    |    |    |----class:  1\n",
      "|    |    |    |    |----sgot > 4.0\n",
      "|    |    |    |    |    |----sgpt < 7.95\n",
      "|    |    |    |    |    |    |----ag_ratio < 21.5\n",
      "|    |    |    |    |    |    |    |----class:  2\n",
      "|    |    |    |    |    |    |----ag_ratio > 21.5\n",
      "|    |    |    |    |    |    |    |----class:  1\n",
      "|    |    |    |    |    |----sgpt > 7.95\n",
      "|    |    |    |    |    |    |----tot_proteins < 201.5\n",
      "|    |    |    |    |    |    |    |----class:  1\n",
      "|    |    |    |    |    |    |----tot_proteins > 201.5\n",
      "|    |    |    |    |    |    |    |----class:  1\n",
      "|    |----ag_ratio > 25.0\n",
      "|    |    |----tot_bilirubin < 0.8\n",
      "|    |    |    |----ag_ratio < 30.0\n",
      "|    |    |    |    |----age < 49.0\n",
      "|    |    |    |    |    |----class:  2\n",
      "|    |    |    |    |----age > 49.0\n",
      "|    |    |    |    |    |----class:  2\n",
      "|    |    |    |----ag_ratio > 30.0\n",
      "|    |    |    |    |----class:  1\n",
      "|    |    |----tot_bilirubin > 0.8\n",
      "|    |    |    |----direct_bilirubin < 0.3\n",
      "|    |    |    |    |----albumin < 29.0\n",
      "|    |    |    |    |    |----direct_bilirubin < 0.2\n",
      "|    |    |    |    |    |    |----class:  2\n",
      "|    |    |    |    |    |----direct_bilirubin > 0.2\n",
      "|    |    |    |    |    |    |----age < 56.5\n",
      "|    |    |    |    |    |    |    |----class:  1\n",
      "|    |    |    |    |    |    |----age > 56.5\n",
      "|    |    |    |    |    |    |    |----class:  1\n",
      "|    |    |    |    |----albumin > 29.0\n",
      "|    |    |    |    |    |----ag_ratio < 32.0\n",
      "|    |    |    |    |    |    |----sgpt < 7.4\n",
      "|    |    |    |    |    |    |    |----class:  2\n",
      "|    |    |    |    |    |    |----sgpt > 7.4\n",
      "|    |    |    |    |    |    |    |----class:  1\n",
      "|    |    |    |    |    |----ag_ratio > 32.0\n",
      "|    |    |    |    |    |    |----tot_proteins < 192.5\n",
      "|    |    |    |    |    |    |    |----class:  2\n",
      "|    |    |    |    |    |    |----tot_proteins > 192.5\n",
      "|    |    |    |    |    |    |    |----class:  2\n",
      "|    |    |    |----direct_bilirubin > 0.3\n",
      "|    |    |    |    |----direct_bilirubin < 0.8\n",
      "|    |    |    |    |    |----ag_ratio < 32.0\n",
      "|    |    |    |    |    |    |----class:  1\n",
      "|    |    |    |    |    |----ag_ratio > 32.0\n",
      "|    |    |    |    |    |    |----class:  1\n",
      "|    |    |    |    |----direct_bilirubin > 0.8\n",
      "|    |    |    |    |    |----age < 60.0\n",
      "|    |    |    |    |    |    |----ag_ratio < 34.0\n",
      "|    |    |    |    |    |    |    |----class:  1\n",
      "|    |    |    |    |    |    |----ag_ratio > 34.0\n",
      "|    |    |    |    |    |    |    |----class:  1\n",
      "|    |    |    |    |    |----age > 60.0\n",
      "|    |    |    |    |    |    |----class:  1\n",
      "ag_ratio > 41.0\n",
      "|    |----direct_bilirubin < 1.0\n",
      "|    |    |----albumin < 48.0\n",
      "|    |    |    |----tot_bilirubin < 0.8\n",
      "|    |    |    |    |----ag_ratio < 51.0\n",
      "|    |    |    |    |    |----class:  2\n",
      "|    |    |    |    |----ag_ratio > 51.0\n",
      "|    |    |    |    |    |----tot_bilirubin < 0.6\n",
      "|    |    |    |    |    |    |----class:  2\n",
      "|    |    |    |    |    |----tot_bilirubin > 0.6\n",
      "|    |    |    |    |    |    |----class:  1\n",
      "|    |    |    |----tot_bilirubin > 0.8\n",
      "|    |    |    |    |----tot_proteins < 192.5\n",
      "|    |    |    |    |    |----tot_bilirubin < 1.0\n",
      "|    |    |    |    |    |    |----class:  1\n",
      "|    |    |    |    |    |----tot_bilirubin > 1.0\n",
      "|    |    |    |    |    |    |----age < 48.5\n",
      "|    |    |    |    |    |    |    |----class:  1\n",
      "|    |    |    |    |    |    |----age > 48.5\n",
      "|    |    |    |    |    |    |    |----class:  1\n",
      "|    |    |    |    |----tot_proteins > 192.5\n",
      "|    |    |    |    |    |----age < 28.0\n",
      "|    |    |    |    |    |    |----albumin < 28.0\n",
      "|    |    |    |    |    |    |    |----class:  1\n",
      "|    |    |    |    |    |    |----albumin > 28.0\n",
      "|    |    |    |    |    |    |    |----class:  2\n",
      "|    |    |    |    |    |----age > 28.0\n",
      "|    |    |    |    |    |    |----class:  1\n",
      "|    |    |----albumin > 48.0\n",
      "|    |    |    |----sgot < 3.2\n",
      "|    |    |    |    |----age < 48.0\n",
      "|    |    |    |    |    |----albumin < 72.0\n",
      "|    |    |    |    |    |    |----class:  1\n",
      "|    |    |    |    |    |----albumin > 72.0\n",
      "|    |    |    |    |    |    |----class:  1\n",
      "|    |    |    |    |----age > 48.0\n",
      "|    |    |    |    |    |----class:  1\n",
      "|    |    |    |----sgot > 3.2\n",
      "|    |    |    |    |----sgpt < 7.2\n",
      "|    |    |    |    |    |----direct_bilirubin < 0.3\n",
      "|    |    |    |    |    |    |----class:  1\n",
      "|    |    |    |    |    |----direct_bilirubin > 0.3\n",
      "|    |    |    |    |    |    |----class:  1\n",
      "|    |    |    |    |----sgpt > 7.2\n",
      "|    |    |    |    |    |----age < 45.0\n",
      "|    |    |    |    |    |    |----class:  1\n",
      "|    |    |    |    |    |----age > 45.0\n",
      "|    |    |    |    |    |    |----class:  1\n",
      "|    |----direct_bilirubin > 1.0\n",
      "|    |    |----sgpt < 6.4\n",
      "|    |    |    |----sgot < 2.5\n",
      "|    |    |    |    |----direct_bilirubin < 2.85\n",
      "|    |    |    |    |    |----class:  1\n",
      "|    |    |    |    |----direct_bilirubin > 2.85\n",
      "|    |    |    |    |    |----tot_bilirubin < 14.1\n",
      "|    |    |    |    |    |    |----tot_bilirubin < 7.4\n",
      "|    |    |    |    |    |    |    |----class:  2\n",
      "|    |    |    |    |    |    |----tot_bilirubin > 7.4\n",
      "|    |    |    |    |    |    |    |----class:  1\n",
      "|    |    |    |    |    |----tot_bilirubin > 14.1\n",
      "|    |    |    |    |    |    |----class:  1\n",
      "|    |    |    |----sgot > 2.5\n",
      "|    |    |    |    |----direct_bilirubin < 2.0\n",
      "|    |    |    |    |    |----direct_bilirubin < 1.2\n",
      "|    |    |    |    |    |    |----sgpt < 5.5\n",
      "|    |    |    |    |    |    |    |----class:  1\n",
      "|    |    |    |    |    |    |----sgpt > 5.5\n",
      "|    |    |    |    |    |    |    |----age < 28.5\n",
      "|    |    |    |    |    |    |    |    |----class:  1\n",
      "|    |    |    |    |    |    |    |----age > 28.5\n",
      "|    |    |    |    |    |    |    |    |----class:  2\n",
      "|    |    |    |    |    |----direct_bilirubin > 1.2\n",
      "|    |    |    |    |    |    |----class:  1\n",
      "|    |    |    |    |----direct_bilirubin > 2.0\n",
      "|    |    |    |    |    |----direct_bilirubin < 3.6\n",
      "|    |    |    |    |    |    |----sgot < 2.7\n",
      "|    |    |    |    |    |    |    |----class:  2\n",
      "|    |    |    |    |    |    |----sgot > 2.7\n",
      "|    |    |    |    |    |    |    |----class:  1\n",
      "|    |    |    |    |    |----direct_bilirubin > 3.6\n",
      "|    |    |    |    |    |    |----class:  1\n",
      "|    |    |----sgpt > 6.4\n",
      "|    |    |    |----age < 48.0\n",
      "|    |    |    |    |----tot_bilirubin < 6.65\n",
      "|    |    |    |    |    |----direct_bilirubin < 1.6\n",
      "|    |    |    |    |    |    |----class:  1\n",
      "|    |    |    |    |    |----direct_bilirubin > 1.6\n",
      "|    |    |    |    |    |    |----class:  1\n",
      "|    |    |    |    |----tot_bilirubin > 6.65\n",
      "|    |    |    |    |    |----class:  1\n",
      "|    |    |    |----age > 48.0\n",
      "|    |    |    |    |----class:  1\n"
     ]
    }
   ],
   "source": [
    "printtree(best_tree)"
   ]
  },
  {
   "cell_type": "markdown",
   "metadata": {},
   "source": [
    "#### Accuracy of Tree after pruning"
   ]
  },
  {
   "cell_type": "code",
   "execution_count": 53,
   "metadata": {},
   "outputs": [
    {
     "name": "stdout",
     "output_type": "stream",
     "text": [
      "True Positve: 80  True Negative:  11  False Positive:  15  False Negative  11\n",
      "Precision:  0.84  Recall:  0.88  F1 Score:  0.86  Accuracy:  0.78\n",
      "0.78\n"
     ]
    }
   ],
   "source": [
    "accc=accuracy(final_test_data,best_tree)\n",
    "print(round(accc,2))"
   ]
  },
  {
   "cell_type": "markdown",
   "metadata": {},
   "source": [
    "#### Threshold Value for Chi-Square"
   ]
  },
  {
   "cell_type": "code",
   "execution_count": 54,
   "metadata": {
    "scrolled": true
   },
   "outputs": [
    {
     "name": "stdout",
     "output_type": "stream",
     "text": [
      "4.0\n"
     ]
    }
   ],
   "source": [
    "print(round(x,2))"
   ]
  },
  {
   "cell_type": "markdown",
   "metadata": {},
   "source": [
    "#### Depth and Number of Nodes After Pruning"
   ]
  },
  {
   "cell_type": "code",
   "execution_count": 55,
   "metadata": {},
   "outputs": [
    {
     "name": "stdout",
     "output_type": "stream",
     "text": [
      "Depth of Tree after pruning: 8\n",
      "Number of Nodes in Tree after pruning: 137\n"
     ]
    }
   ],
   "source": [
    "depth, nodes = depth_nodes(best_tree)\n",
    "print('Depth of Tree after pruning:',depth)\n",
    "print('Number of Nodes in Tree after pruning:',nodes)"
   ]
  }
 ],
 "metadata": {
  "colab": {
   "collapsed_sections": [],
   "name": "ML-18sept.ipynb",
   "provenance": []
  },
  "kernelspec": {
   "display_name": "Python 3 (ipykernel)",
   "language": "python",
   "name": "python3"
  },
  "language_info": {
   "codemirror_mode": {
    "name": "ipython",
    "version": 3
   },
   "file_extension": ".py",
   "mimetype": "text/x-python",
   "name": "python",
   "nbconvert_exporter": "python",
   "pygments_lexer": "ipython3",
   "version": "3.9.6"
  }
 },
 "nbformat": 4,
 "nbformat_minor": 1
}
