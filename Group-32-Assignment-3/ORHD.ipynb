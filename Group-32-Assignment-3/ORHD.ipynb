{
 "cells": [
  {
   "cell_type": "markdown",
   "metadata": {
    "id": "HbIaC_dkH7Gt"
   },
   "source": [
    "# Machine Learning (CS60050)<br> Assignment 3 - Multi Layer Perceptron Classifier"
   ]
  },
  {
   "cell_type": "markdown",
   "metadata": {
    "id": "EHoyOU_4H7Gu"
   },
   "source": [
    "## Topic: Optical Recognition of Handwritten Digits"
   ]
  },
  {
   "cell_type": "markdown",
   "metadata": {
    "id": "Qit2-pXSH7Gv"
   },
   "source": [
    "#### By: (Group 32)<br>Krinal Patel (21CS60R39)<br>Sarvesh Gupta (21CS60R53)"
   ]
  },
  {
   "cell_type": "markdown",
   "metadata": {
    "id": "K_VHfxvpH7Gv"
   },
   "source": [
    "## Deatils of Dataset:\n",
    "We used pre-processing programs made available by NIST to extract normalized bitmaps of handwritten digits from a pre-printed form. From a total of 43 people, 30 contributed to the training set and different 13 to the test set. 32x32 bitmaps are divided into nonoverlapping blocks of 4x4 and the number of on pixels are counted in each block. This generates an input matrix of 8x8 where each element is an integer in the range 0..16. This reduces dimensionality and gives invariance to small distortions."
   ]
  },
  {
   "cell_type": "markdown",
   "metadata": {
    "id": "WZry2MKqH7Gv"
   },
   "source": [
    "#### Attributes of Dataset:\n",
    "64 input + 1 class attribute<br><br>\n",
    "All input attributes are integers in the range 0..16.<br>\n",
    "The last attribute is the class code 0..9"
   ]
  },
  {
   "cell_type": "markdown",
   "metadata": {
    "id": "JBUJD26ZH7Gv"
   },
   "source": [
    "#### Link of Dataset:\n",
    "Optical Recognition of Handwritten Digits: https://archive.ics.uci.edu/ml/datasets/optical+recognition+of+handwritten+digits"
   ]
  },
  {
   "cell_type": "markdown",
   "metadata": {
    "id": "PrMNIZdOH7Gw"
   },
   "source": [
    "#### Importing all the required libraries:"
   ]
  },
  {
   "cell_type": "code",
   "execution_count": 1,
   "metadata": {
    "id": "7be8uNXKvHH9"
   },
   "outputs": [],
   "source": [
    "import numpy as np\n",
    "np.random.seed(1) \n",
    "import pandas as pd\n",
    "import torch\n",
    "from torch import nn\n",
    "torch.manual_seed(1)\n",
    "import torch.utils.data as data_utils\n",
    "from sklearn.metrics import confusion_matrix, classification_report\n",
    "from sklearn.preprocessing import StandardScaler\n",
    "from sklearn.decomposition import PCA\n",
    "import matplotlib.pyplot as plt\n",
    "from torch.utils.data import Dataset\n",
    "import torch.optim as optim\n",
    "from pandas import DataFrame\n",
    "import random\n",
    "random.seed(1)"
   ]
  },
  {
   "cell_type": "markdown",
   "metadata": {
    "id": "X2hizhI_H7Gw"
   },
   "source": [
    "#### Reading the Training and Testing dataset:"
   ]
  },
  {
   "cell_type": "code",
   "execution_count": 2,
   "metadata": {
    "id": "fwbIK4iyJPmb"
   },
   "outputs": [],
   "source": [
    "#reading training and test dataset\n",
    "train_df=pd.read_csv(\"optdigits.tra\",header=None)\n",
    "test_df=pd.read_csv(\"optdigits.tes\",header=None)"
   ]
  },
  {
   "cell_type": "markdown",
   "metadata": {},
   "source": [
    "## Data Analysing"
   ]
  },
  {
   "cell_type": "markdown",
   "metadata": {},
   "source": [
    "#### Shape of Training and Testing Dataset"
   ]
  },
  {
   "cell_type": "code",
   "execution_count": 3,
   "metadata": {
    "colab": {
     "base_uri": "https://localhost:8080/"
    },
    "id": "MVe0szoYEpPj",
    "outputId": "62447592-a71d-4651-be62-4fb97ea131d6"
   },
   "outputs": [
    {
     "name": "stdout",
     "output_type": "stream",
     "text": [
      "Training set Shape:  (3823, 65)\n",
      "Test set Shape:  (1797, 65)\n"
     ]
    }
   ],
   "source": [
    "print(\"Training set Shape: \",train_df.shape)\n",
    "print(\"Test set Shape: \",test_df.shape)"
   ]
  },
  {
   "cell_type": "markdown",
   "metadata": {},
   "source": [
    "#### Top 5 Rows of Train Dataset"
   ]
  },
  {
   "cell_type": "code",
   "execution_count": 4,
   "metadata": {
    "colab": {
     "base_uri": "https://localhost:8080/",
     "height": 226
    },
    "id": "3H3f8FclEiwt",
    "outputId": "d5df55df-2016-4894-879d-60a0f6b3ac6f",
    "scrolled": true
   },
   "outputs": [
    {
     "data": {
      "text/html": [
       "<div>\n",
       "<style scoped>\n",
       "    .dataframe tbody tr th:only-of-type {\n",
       "        vertical-align: middle;\n",
       "    }\n",
       "\n",
       "    .dataframe tbody tr th {\n",
       "        vertical-align: top;\n",
       "    }\n",
       "\n",
       "    .dataframe thead th {\n",
       "        text-align: right;\n",
       "    }\n",
       "</style>\n",
       "<table border=\"1\" class=\"dataframe\">\n",
       "  <thead>\n",
       "    <tr style=\"text-align: right;\">\n",
       "      <th></th>\n",
       "      <th>0</th>\n",
       "      <th>1</th>\n",
       "      <th>2</th>\n",
       "      <th>3</th>\n",
       "      <th>4</th>\n",
       "      <th>5</th>\n",
       "      <th>6</th>\n",
       "      <th>7</th>\n",
       "      <th>8</th>\n",
       "      <th>9</th>\n",
       "      <th>...</th>\n",
       "      <th>55</th>\n",
       "      <th>56</th>\n",
       "      <th>57</th>\n",
       "      <th>58</th>\n",
       "      <th>59</th>\n",
       "      <th>60</th>\n",
       "      <th>61</th>\n",
       "      <th>62</th>\n",
       "      <th>63</th>\n",
       "      <th>64</th>\n",
       "    </tr>\n",
       "  </thead>\n",
       "  <tbody>\n",
       "    <tr>\n",
       "      <th>0</th>\n",
       "      <td>0</td>\n",
       "      <td>1</td>\n",
       "      <td>6</td>\n",
       "      <td>15</td>\n",
       "      <td>12</td>\n",
       "      <td>1</td>\n",
       "      <td>0</td>\n",
       "      <td>0</td>\n",
       "      <td>0</td>\n",
       "      <td>7</td>\n",
       "      <td>...</td>\n",
       "      <td>0</td>\n",
       "      <td>0</td>\n",
       "      <td>0</td>\n",
       "      <td>6</td>\n",
       "      <td>14</td>\n",
       "      <td>7</td>\n",
       "      <td>1</td>\n",
       "      <td>0</td>\n",
       "      <td>0</td>\n",
       "      <td>0</td>\n",
       "    </tr>\n",
       "    <tr>\n",
       "      <th>1</th>\n",
       "      <td>0</td>\n",
       "      <td>0</td>\n",
       "      <td>10</td>\n",
       "      <td>16</td>\n",
       "      <td>6</td>\n",
       "      <td>0</td>\n",
       "      <td>0</td>\n",
       "      <td>0</td>\n",
       "      <td>0</td>\n",
       "      <td>7</td>\n",
       "      <td>...</td>\n",
       "      <td>0</td>\n",
       "      <td>0</td>\n",
       "      <td>0</td>\n",
       "      <td>10</td>\n",
       "      <td>16</td>\n",
       "      <td>15</td>\n",
       "      <td>3</td>\n",
       "      <td>0</td>\n",
       "      <td>0</td>\n",
       "      <td>0</td>\n",
       "    </tr>\n",
       "    <tr>\n",
       "      <th>2</th>\n",
       "      <td>0</td>\n",
       "      <td>0</td>\n",
       "      <td>8</td>\n",
       "      <td>15</td>\n",
       "      <td>16</td>\n",
       "      <td>13</td>\n",
       "      <td>0</td>\n",
       "      <td>0</td>\n",
       "      <td>0</td>\n",
       "      <td>1</td>\n",
       "      <td>...</td>\n",
       "      <td>0</td>\n",
       "      <td>0</td>\n",
       "      <td>0</td>\n",
       "      <td>9</td>\n",
       "      <td>14</td>\n",
       "      <td>0</td>\n",
       "      <td>0</td>\n",
       "      <td>0</td>\n",
       "      <td>0</td>\n",
       "      <td>7</td>\n",
       "    </tr>\n",
       "    <tr>\n",
       "      <th>3</th>\n",
       "      <td>0</td>\n",
       "      <td>0</td>\n",
       "      <td>0</td>\n",
       "      <td>3</td>\n",
       "      <td>11</td>\n",
       "      <td>16</td>\n",
       "      <td>0</td>\n",
       "      <td>0</td>\n",
       "      <td>0</td>\n",
       "      <td>0</td>\n",
       "      <td>...</td>\n",
       "      <td>0</td>\n",
       "      <td>0</td>\n",
       "      <td>0</td>\n",
       "      <td>0</td>\n",
       "      <td>1</td>\n",
       "      <td>15</td>\n",
       "      <td>2</td>\n",
       "      <td>0</td>\n",
       "      <td>0</td>\n",
       "      <td>4</td>\n",
       "    </tr>\n",
       "    <tr>\n",
       "      <th>4</th>\n",
       "      <td>0</td>\n",
       "      <td>0</td>\n",
       "      <td>5</td>\n",
       "      <td>14</td>\n",
       "      <td>4</td>\n",
       "      <td>0</td>\n",
       "      <td>0</td>\n",
       "      <td>0</td>\n",
       "      <td>0</td>\n",
       "      <td>0</td>\n",
       "      <td>...</td>\n",
       "      <td>0</td>\n",
       "      <td>0</td>\n",
       "      <td>0</td>\n",
       "      <td>4</td>\n",
       "      <td>12</td>\n",
       "      <td>14</td>\n",
       "      <td>7</td>\n",
       "      <td>0</td>\n",
       "      <td>0</td>\n",
       "      <td>6</td>\n",
       "    </tr>\n",
       "  </tbody>\n",
       "</table>\n",
       "<p>5 rows × 65 columns</p>\n",
       "</div>"
      ],
      "text/plain": [
       "   0   1   2   3   4   5   6   7   8   9   ...  55  56  57  58  59  60  61  \\\n",
       "0   0   1   6  15  12   1   0   0   0   7  ...   0   0   0   6  14   7   1   \n",
       "1   0   0  10  16   6   0   0   0   0   7  ...   0   0   0  10  16  15   3   \n",
       "2   0   0   8  15  16  13   0   0   0   1  ...   0   0   0   9  14   0   0   \n",
       "3   0   0   0   3  11  16   0   0   0   0  ...   0   0   0   0   1  15   2   \n",
       "4   0   0   5  14   4   0   0   0   0   0  ...   0   0   0   4  12  14   7   \n",
       "\n",
       "   62  63  64  \n",
       "0   0   0   0  \n",
       "1   0   0   0  \n",
       "2   0   0   7  \n",
       "3   0   0   4  \n",
       "4   0   0   6  \n",
       "\n",
       "[5 rows x 65 columns]"
      ]
     },
     "execution_count": 4,
     "metadata": {},
     "output_type": "execute_result"
    }
   ],
   "source": [
    "train_df.head()"
   ]
  },
  {
   "cell_type": "markdown",
   "metadata": {},
   "source": [
    "#### Top 5 Rows of Test Dataset"
   ]
  },
  {
   "cell_type": "code",
   "execution_count": 5,
   "metadata": {},
   "outputs": [
    {
     "data": {
      "text/html": [
       "<div>\n",
       "<style scoped>\n",
       "    .dataframe tbody tr th:only-of-type {\n",
       "        vertical-align: middle;\n",
       "    }\n",
       "\n",
       "    .dataframe tbody tr th {\n",
       "        vertical-align: top;\n",
       "    }\n",
       "\n",
       "    .dataframe thead th {\n",
       "        text-align: right;\n",
       "    }\n",
       "</style>\n",
       "<table border=\"1\" class=\"dataframe\">\n",
       "  <thead>\n",
       "    <tr style=\"text-align: right;\">\n",
       "      <th></th>\n",
       "      <th>0</th>\n",
       "      <th>1</th>\n",
       "      <th>2</th>\n",
       "      <th>3</th>\n",
       "      <th>4</th>\n",
       "      <th>5</th>\n",
       "      <th>6</th>\n",
       "      <th>7</th>\n",
       "      <th>8</th>\n",
       "      <th>9</th>\n",
       "      <th>...</th>\n",
       "      <th>55</th>\n",
       "      <th>56</th>\n",
       "      <th>57</th>\n",
       "      <th>58</th>\n",
       "      <th>59</th>\n",
       "      <th>60</th>\n",
       "      <th>61</th>\n",
       "      <th>62</th>\n",
       "      <th>63</th>\n",
       "      <th>64</th>\n",
       "    </tr>\n",
       "  </thead>\n",
       "  <tbody>\n",
       "    <tr>\n",
       "      <th>0</th>\n",
       "      <td>0</td>\n",
       "      <td>0</td>\n",
       "      <td>5</td>\n",
       "      <td>13</td>\n",
       "      <td>9</td>\n",
       "      <td>1</td>\n",
       "      <td>0</td>\n",
       "      <td>0</td>\n",
       "      <td>0</td>\n",
       "      <td>0</td>\n",
       "      <td>...</td>\n",
       "      <td>0</td>\n",
       "      <td>0</td>\n",
       "      <td>0</td>\n",
       "      <td>6</td>\n",
       "      <td>13</td>\n",
       "      <td>10</td>\n",
       "      <td>0</td>\n",
       "      <td>0</td>\n",
       "      <td>0</td>\n",
       "      <td>0</td>\n",
       "    </tr>\n",
       "    <tr>\n",
       "      <th>1</th>\n",
       "      <td>0</td>\n",
       "      <td>0</td>\n",
       "      <td>0</td>\n",
       "      <td>12</td>\n",
       "      <td>13</td>\n",
       "      <td>5</td>\n",
       "      <td>0</td>\n",
       "      <td>0</td>\n",
       "      <td>0</td>\n",
       "      <td>0</td>\n",
       "      <td>...</td>\n",
       "      <td>0</td>\n",
       "      <td>0</td>\n",
       "      <td>0</td>\n",
       "      <td>0</td>\n",
       "      <td>11</td>\n",
       "      <td>16</td>\n",
       "      <td>10</td>\n",
       "      <td>0</td>\n",
       "      <td>0</td>\n",
       "      <td>1</td>\n",
       "    </tr>\n",
       "    <tr>\n",
       "      <th>2</th>\n",
       "      <td>0</td>\n",
       "      <td>0</td>\n",
       "      <td>0</td>\n",
       "      <td>4</td>\n",
       "      <td>15</td>\n",
       "      <td>12</td>\n",
       "      <td>0</td>\n",
       "      <td>0</td>\n",
       "      <td>0</td>\n",
       "      <td>0</td>\n",
       "      <td>...</td>\n",
       "      <td>0</td>\n",
       "      <td>0</td>\n",
       "      <td>0</td>\n",
       "      <td>0</td>\n",
       "      <td>3</td>\n",
       "      <td>11</td>\n",
       "      <td>16</td>\n",
       "      <td>9</td>\n",
       "      <td>0</td>\n",
       "      <td>2</td>\n",
       "    </tr>\n",
       "    <tr>\n",
       "      <th>3</th>\n",
       "      <td>0</td>\n",
       "      <td>0</td>\n",
       "      <td>7</td>\n",
       "      <td>15</td>\n",
       "      <td>13</td>\n",
       "      <td>1</td>\n",
       "      <td>0</td>\n",
       "      <td>0</td>\n",
       "      <td>0</td>\n",
       "      <td>8</td>\n",
       "      <td>...</td>\n",
       "      <td>0</td>\n",
       "      <td>0</td>\n",
       "      <td>0</td>\n",
       "      <td>7</td>\n",
       "      <td>13</td>\n",
       "      <td>13</td>\n",
       "      <td>9</td>\n",
       "      <td>0</td>\n",
       "      <td>0</td>\n",
       "      <td>3</td>\n",
       "    </tr>\n",
       "    <tr>\n",
       "      <th>4</th>\n",
       "      <td>0</td>\n",
       "      <td>0</td>\n",
       "      <td>0</td>\n",
       "      <td>1</td>\n",
       "      <td>11</td>\n",
       "      <td>0</td>\n",
       "      <td>0</td>\n",
       "      <td>0</td>\n",
       "      <td>0</td>\n",
       "      <td>0</td>\n",
       "      <td>...</td>\n",
       "      <td>0</td>\n",
       "      <td>0</td>\n",
       "      <td>0</td>\n",
       "      <td>0</td>\n",
       "      <td>2</td>\n",
       "      <td>16</td>\n",
       "      <td>4</td>\n",
       "      <td>0</td>\n",
       "      <td>0</td>\n",
       "      <td>4</td>\n",
       "    </tr>\n",
       "  </tbody>\n",
       "</table>\n",
       "<p>5 rows × 65 columns</p>\n",
       "</div>"
      ],
      "text/plain": [
       "   0   1   2   3   4   5   6   7   8   9   ...  55  56  57  58  59  60  61  \\\n",
       "0   0   0   5  13   9   1   0   0   0   0  ...   0   0   0   6  13  10   0   \n",
       "1   0   0   0  12  13   5   0   0   0   0  ...   0   0   0   0  11  16  10   \n",
       "2   0   0   0   4  15  12   0   0   0   0  ...   0   0   0   0   3  11  16   \n",
       "3   0   0   7  15  13   1   0   0   0   8  ...   0   0   0   7  13  13   9   \n",
       "4   0   0   0   1  11   0   0   0   0   0  ...   0   0   0   0   2  16   4   \n",
       "\n",
       "   62  63  64  \n",
       "0   0   0   0  \n",
       "1   0   0   1  \n",
       "2   9   0   2  \n",
       "3   0   0   3  \n",
       "4   0   0   4  \n",
       "\n",
       "[5 rows x 65 columns]"
      ]
     },
     "execution_count": 5,
     "metadata": {},
     "output_type": "execute_result"
    }
   ],
   "source": [
    "test_df.head()"
   ]
  },
  {
   "cell_type": "markdown",
   "metadata": {},
   "source": [
    "#### Count of examples in each class of training dataset"
   ]
  },
  {
   "cell_type": "code",
   "execution_count": 6,
   "metadata": {
    "colab": {
     "base_uri": "https://localhost:8080/"
    },
    "id": "dzQgPl5AFxPn",
    "outputId": "b2704234-49dd-4e1e-aefd-8161b10bcbca",
    "scrolled": true
   },
   "outputs": [
    {
     "data": {
      "text/plain": [
       "1    389\n",
       "3    389\n",
       "7    387\n",
       "4    387\n",
       "9    382\n",
       "2    380\n",
       "8    380\n",
       "6    377\n",
       "0    376\n",
       "5    376\n",
       "Name: 64, dtype: int64"
      ]
     },
     "execution_count": 6,
     "metadata": {},
     "output_type": "execute_result"
    }
   ],
   "source": [
    "#last column is target value.\n",
    "train_df.iloc[:,-1].value_counts()"
   ]
  },
  {
   "cell_type": "markdown",
   "metadata": {},
   "source": [
    "#### Count of examples in each class of testing dataset"
   ]
  },
  {
   "cell_type": "code",
   "execution_count": 7,
   "metadata": {},
   "outputs": [
    {
     "data": {
      "text/plain": [
       "3    183\n",
       "1    182\n",
       "5    182\n",
       "4    181\n",
       "6    181\n",
       "9    180\n",
       "7    179\n",
       "0    178\n",
       "2    177\n",
       "8    174\n",
       "Name: 64, dtype: int64"
      ]
     },
     "execution_count": 7,
     "metadata": {},
     "output_type": "execute_result"
    }
   ],
   "source": [
    "#last column is target value.\n",
    "test_df.iloc[:,-1].value_counts()"
   ]
  },
  {
   "cell_type": "markdown",
   "metadata": {},
   "source": [
    "#### Details of Training Dataset"
   ]
  },
  {
   "cell_type": "code",
   "execution_count": 8,
   "metadata": {
    "colab": {
     "base_uri": "https://localhost:8080/"
    },
    "id": "OSNPJrXIGFVY",
    "outputId": "fa58c06d-27bd-42d1-96ab-0b9179c7014a"
   },
   "outputs": [
    {
     "data": {
      "text/plain": [
       "count        64\n",
       "unique        1\n",
       "top       False\n",
       "freq         64\n",
       "dtype: object"
      ]
     },
     "execution_count": 8,
     "metadata": {},
     "output_type": "execute_result"
    }
   ],
   "source": [
    "train_df.iloc[:,:-1].isnull().any().describe()"
   ]
  },
  {
   "cell_type": "markdown",
   "metadata": {},
   "source": [
    "#### Details of Test Dataset"
   ]
  },
  {
   "cell_type": "code",
   "execution_count": 9,
   "metadata": {},
   "outputs": [
    {
     "data": {
      "text/plain": [
       "count        64\n",
       "unique        1\n",
       "top       False\n",
       "freq         64\n",
       "dtype: object"
      ]
     },
     "execution_count": 9,
     "metadata": {},
     "output_type": "execute_result"
    }
   ],
   "source": [
    "test_df.iloc[:,:-1].isnull().any().describe()"
   ]
  },
  {
   "cell_type": "markdown",
   "metadata": {},
   "source": [
    "#### Normalizing the fetures of Training dataset "
   ]
  },
  {
   "cell_type": "code",
   "execution_count": 10,
   "metadata": {
    "id": "TW6xC47rJPmb"
   },
   "outputs": [],
   "source": [
    "scaler=StandardScaler()\n",
    "train_x=train_df.iloc[:,:-1]\n",
    "test_x=test_df.iloc[:,:-1]\n",
    "train_x=scaler.fit_transform(train_x)\n",
    "test_x=scaler.transform(test_x)\n",
    "train_df.iloc[:,:-1]=DataFrame(train_x)\n",
    "test_df.iloc[:,:-1]=DataFrame(test_x)"
   ]
  },
  {
   "cell_type": "markdown",
   "metadata": {},
   "source": [
    "#### Top 5 rows of training dataset after normalizing"
   ]
  },
  {
   "cell_type": "code",
   "execution_count": 11,
   "metadata": {
    "colab": {
     "base_uri": "https://localhost:8080/",
     "height": 226
    },
    "id": "nr4bFO-DE2Cb",
    "outputId": "1181ab9b-7bb6-423b-dc38-00061304ea71"
   },
   "outputs": [
    {
     "data": {
      "text/html": [
       "<div>\n",
       "<style scoped>\n",
       "    .dataframe tbody tr th:only-of-type {\n",
       "        vertical-align: middle;\n",
       "    }\n",
       "\n",
       "    .dataframe tbody tr th {\n",
       "        vertical-align: top;\n",
       "    }\n",
       "\n",
       "    .dataframe thead th {\n",
       "        text-align: right;\n",
       "    }\n",
       "</style>\n",
       "<table border=\"1\" class=\"dataframe\">\n",
       "  <thead>\n",
       "    <tr style=\"text-align: right;\">\n",
       "      <th></th>\n",
       "      <th>0</th>\n",
       "      <th>1</th>\n",
       "      <th>2</th>\n",
       "      <th>3</th>\n",
       "      <th>4</th>\n",
       "      <th>5</th>\n",
       "      <th>6</th>\n",
       "      <th>7</th>\n",
       "      <th>8</th>\n",
       "      <th>9</th>\n",
       "      <th>...</th>\n",
       "      <th>55</th>\n",
       "      <th>56</th>\n",
       "      <th>57</th>\n",
       "      <th>58</th>\n",
       "      <th>59</th>\n",
       "      <th>60</th>\n",
       "      <th>61</th>\n",
       "      <th>62</th>\n",
       "      <th>63</th>\n",
       "      <th>64</th>\n",
       "    </tr>\n",
       "  </thead>\n",
       "  <tbody>\n",
       "    <tr>\n",
       "      <th>0</th>\n",
       "      <td>0.0</td>\n",
       "      <td>0.805961</td>\n",
       "      <td>0.111894</td>\n",
       "      <td>0.749917</td>\n",
       "      <td>0.120901</td>\n",
       "      <td>-0.802762</td>\n",
       "      <td>-0.411567</td>\n",
       "      <td>-0.135332</td>\n",
       "      <td>-0.023629</td>\n",
       "      <td>1.651237</td>\n",
       "      <td>...</td>\n",
       "      <td>-0.193201</td>\n",
       "      <td>-0.016175</td>\n",
       "      <td>-0.305007</td>\n",
       "      <td>0.028945</td>\n",
       "      <td>0.474631</td>\n",
       "      <td>-0.893790</td>\n",
       "      <td>-0.987089</td>\n",
       "      <td>-0.522794</td>\n",
       "      <td>-0.175741</td>\n",
       "      <td>0</td>\n",
       "    </tr>\n",
       "    <tr>\n",
       "      <th>1</th>\n",
       "      <td>0.0</td>\n",
       "      <td>-0.347610</td>\n",
       "      <td>0.975639</td>\n",
       "      <td>0.984700</td>\n",
       "      <td>-1.201570</td>\n",
       "      <td>-0.980941</td>\n",
       "      <td>-0.411567</td>\n",
       "      <td>-0.135332</td>\n",
       "      <td>-0.023629</td>\n",
       "      <td>1.651237</td>\n",
       "      <td>...</td>\n",
       "      <td>-0.193201</td>\n",
       "      <td>-0.016175</td>\n",
       "      <td>-0.305007</td>\n",
       "      <td>0.832261</td>\n",
       "      <td>0.936105</td>\n",
       "      <td>0.709005</td>\n",
       "      <td>-0.640772</td>\n",
       "      <td>-0.522794</td>\n",
       "      <td>-0.175741</td>\n",
       "      <td>0</td>\n",
       "    </tr>\n",
       "    <tr>\n",
       "      <th>2</th>\n",
       "      <td>0.0</td>\n",
       "      <td>-0.347610</td>\n",
       "      <td>0.543766</td>\n",
       "      <td>0.749917</td>\n",
       "      <td>1.002548</td>\n",
       "      <td>1.335389</td>\n",
       "      <td>-0.411567</td>\n",
       "      <td>-0.135332</td>\n",
       "      <td>-0.023629</td>\n",
       "      <td>-0.314717</td>\n",
       "      <td>...</td>\n",
       "      <td>-0.193201</td>\n",
       "      <td>-0.016175</td>\n",
       "      <td>-0.305007</td>\n",
       "      <td>0.631432</td>\n",
       "      <td>0.474631</td>\n",
       "      <td>-2.296235</td>\n",
       "      <td>-1.160247</td>\n",
       "      <td>-0.522794</td>\n",
       "      <td>-0.175741</td>\n",
       "      <td>7</td>\n",
       "    </tr>\n",
       "    <tr>\n",
       "      <th>3</th>\n",
       "      <td>0.0</td>\n",
       "      <td>-0.347610</td>\n",
       "      <td>-1.183724</td>\n",
       "      <td>-2.067477</td>\n",
       "      <td>-0.099511</td>\n",
       "      <td>1.869927</td>\n",
       "      <td>-0.411567</td>\n",
       "      <td>-0.135332</td>\n",
       "      <td>-0.023629</td>\n",
       "      <td>-0.642376</td>\n",
       "      <td>...</td>\n",
       "      <td>-0.193201</td>\n",
       "      <td>-0.016175</td>\n",
       "      <td>-0.305007</td>\n",
       "      <td>-1.176029</td>\n",
       "      <td>-2.524948</td>\n",
       "      <td>0.709005</td>\n",
       "      <td>-0.813930</td>\n",
       "      <td>-0.522794</td>\n",
       "      <td>-0.175741</td>\n",
       "      <td>4</td>\n",
       "    </tr>\n",
       "    <tr>\n",
       "      <th>4</th>\n",
       "      <td>0.0</td>\n",
       "      <td>-0.347610</td>\n",
       "      <td>-0.104043</td>\n",
       "      <td>0.515134</td>\n",
       "      <td>-1.642393</td>\n",
       "      <td>-0.980941</td>\n",
       "      <td>-0.411567</td>\n",
       "      <td>-0.135332</td>\n",
       "      <td>-0.023629</td>\n",
       "      <td>-0.642376</td>\n",
       "      <td>...</td>\n",
       "      <td>-0.193201</td>\n",
       "      <td>-0.016175</td>\n",
       "      <td>-0.305007</td>\n",
       "      <td>-0.372713</td>\n",
       "      <td>0.013157</td>\n",
       "      <td>0.508656</td>\n",
       "      <td>0.051861</td>\n",
       "      <td>-0.522794</td>\n",
       "      <td>-0.175741</td>\n",
       "      <td>6</td>\n",
       "    </tr>\n",
       "  </tbody>\n",
       "</table>\n",
       "<p>5 rows × 65 columns</p>\n",
       "</div>"
      ],
      "text/plain": [
       "    0         1         2         3         4         5         6         7   \\\n",
       "0  0.0  0.805961  0.111894  0.749917  0.120901 -0.802762 -0.411567 -0.135332   \n",
       "1  0.0 -0.347610  0.975639  0.984700 -1.201570 -0.980941 -0.411567 -0.135332   \n",
       "2  0.0 -0.347610  0.543766  0.749917  1.002548  1.335389 -0.411567 -0.135332   \n",
       "3  0.0 -0.347610 -1.183724 -2.067477 -0.099511  1.869927 -0.411567 -0.135332   \n",
       "4  0.0 -0.347610 -0.104043  0.515134 -1.642393 -0.980941 -0.411567 -0.135332   \n",
       "\n",
       "         8         9   ...        55        56        57        58        59  \\\n",
       "0 -0.023629  1.651237  ... -0.193201 -0.016175 -0.305007  0.028945  0.474631   \n",
       "1 -0.023629  1.651237  ... -0.193201 -0.016175 -0.305007  0.832261  0.936105   \n",
       "2 -0.023629 -0.314717  ... -0.193201 -0.016175 -0.305007  0.631432  0.474631   \n",
       "3 -0.023629 -0.642376  ... -0.193201 -0.016175 -0.305007 -1.176029 -2.524948   \n",
       "4 -0.023629 -0.642376  ... -0.193201 -0.016175 -0.305007 -0.372713  0.013157   \n",
       "\n",
       "         60        61        62        63  64  \n",
       "0 -0.893790 -0.987089 -0.522794 -0.175741   0  \n",
       "1  0.709005 -0.640772 -0.522794 -0.175741   0  \n",
       "2 -2.296235 -1.160247 -0.522794 -0.175741   7  \n",
       "3  0.709005 -0.813930 -0.522794 -0.175741   4  \n",
       "4  0.508656  0.051861 -0.522794 -0.175741   6  \n",
       "\n",
       "[5 rows x 65 columns]"
      ]
     },
     "execution_count": 11,
     "metadata": {},
     "output_type": "execute_result"
    }
   ],
   "source": [
    "train_df.head()"
   ]
  },
  {
   "cell_type": "markdown",
   "metadata": {},
   "source": [
    "## MLP Classifier was build using PyTorch"
   ]
  },
  {
   "cell_type": "markdown",
   "metadata": {},
   "source": [
    "#### Convert Pandas DataFrame to TensorDataset"
   ]
  },
  {
   "cell_type": "code",
   "execution_count": 12,
   "metadata": {
    "id": "1-iUVL9-wmB1"
   },
   "outputs": [],
   "source": [
    "train_y = torch.tensor(train_df.iloc[:,-1].values.astype(np.int64))\n",
    "train_x = torch.tensor(train_df.iloc[:,:-1].values.astype(np.float32))\n",
    "test_y = torch.tensor(test_df.iloc[:,-1].values.astype(np.int64))\n",
    "test_x = torch.tensor(test_df.iloc[:,:-1].values.astype(np.float32))\n",
    "\n",
    "train_tensor = data_utils.TensorDataset(train_x, train_y)\n",
    "test_tensor = data_utils.TensorDataset(test_x, test_y)\n",
    "\n",
    "trainloader = torch.utils.data.DataLoader(train_tensor, batch_size=64,shuffle=True)\n",
    "testloader = torch.utils.data.DataLoader(test_tensor, batch_size=1,shuffle=False)"
   ]
  },
  {
   "cell_type": "markdown",
   "metadata": {},
   "source": [
    "#### Training Neurual Network"
   ]
  },
  {
   "cell_type": "code",
   "execution_count": 13,
   "metadata": {
    "id": "l84beDAW9AS_"
   },
   "outputs": [],
   "source": [
    "def train(iterations,dataloader,optimizer,criterion,model):\n",
    "    final_loss=0.0\n",
    "    for epoch in range(iterations): \n",
    "        running_loss = 0.0\n",
    "        for i,data in enumerate(dataloader,0):\n",
    "            features,labels=data\n",
    "            optimizer.zero_grad()\n",
    "\n",
    "            output = model(features)\n",
    "            loss = criterion(output, labels)\n",
    "            loss.backward()\n",
    "            optimizer.step()\n",
    "\n",
    "            running_loss += loss.item()\n",
    "            final_loss=running_loss\n",
    "        if(epoch%100==0):\n",
    "            print(f\"Training loss after {epoch+100} epochs : {running_loss/len(dataloader)}\")\n",
    "    return final_loss/len(dataloader)"
   ]
  },
  {
   "cell_type": "markdown",
   "metadata": {},
   "source": [
    "#### Utility method to get model"
   ]
  },
  {
   "cell_type": "code",
   "execution_count": 14,
   "metadata": {
    "id": "y1Znqn9HJPmd"
   },
   "outputs": [],
   "source": [
    "def get_model(layer_info):\n",
    "    layers = []\n",
    "    if(len(layer_info) == 2):  \n",
    "        layers.append(nn.Linear(layer_info[0],layer_info[1]))\n",
    "        layers.append(nn.LogSoftmax(dim=1))\n",
    "    elif(len(layer_info) == 3):\n",
    "        layers.append(nn.Linear(layer_info[0],layer_info[1]))\n",
    "        layers.append(nn.ReLU())\n",
    "        layers.append(nn.Linear(layer_info[1],layer_info[2]))\n",
    "        layers.append(nn.LogSoftmax(dim=1))\n",
    "    elif(len(layer_info) == 4):\n",
    "        layers.append(nn.Linear(layer_info[0],layer_info[1]))\n",
    "        layers.append(nn.ReLU())\n",
    "        layers.append(nn.Linear(layer_info[1],layer_info[2]))\n",
    "        layers.append(nn.ReLU())\n",
    "        layers.append(nn.Linear(layer_info[2],layer_info[3]))\n",
    "        layers.append(nn.LogSoftmax(dim=1))\n",
    "    model=nn.Sequential(*layers)\n",
    "    return model"
   ]
  },
  {
   "cell_type": "markdown",
   "metadata": {},
   "source": [
    "#### Function to get Accuracy of the Model"
   ]
  },
  {
   "cell_type": "code",
   "execution_count": 15,
   "metadata": {
    "id": "mMY2gYBmJPme"
   },
   "outputs": [],
   "source": [
    "def get_accuracy(model,testloader):\n",
    "    correct = 0\n",
    "    total = 0\n",
    "    with torch.no_grad():\n",
    "        for i,data in enumerate(testloader,0):\n",
    "            inputs,labels=data\n",
    "            outputs = model(inputs)\n",
    "            _, predicted = torch.max(outputs.data, 1)\n",
    "            total += labels.size(0)\n",
    "            correct += (predicted == labels).sum().item()\n",
    "    return 100 * (correct / total)"
   ]
  },
  {
   "cell_type": "markdown",
   "metadata": {},
   "source": [
    "#### Comparision between accuracy and learning rate for all the models"
   ]
  },
  {
   "cell_type": "code",
   "execution_count": 16,
   "metadata": {
    "colab": {
     "background_save": true,
     "base_uri": "https://localhost:8080/"
    },
    "id": "01pi1CiZJPme",
    "outputId": "a622c5fa-5212-4c3f-e58a-846d9fd1056f",
    "scrolled": true
   },
   "outputs": [
    {
     "name": "stdout",
     "output_type": "stream",
     "text": [
      "Training loss after 100 epochs : 2.414972897370656\n",
      "Training loss after 200 epochs : 2.3013177196184795\n",
      "Training loss after 300 epochs : 2.1930283149083456\n",
      "Training loss after 400 epochs : 2.092780739068985\n",
      "Training loss after 500 epochs : 1.9973921378453572\n",
      "Training loss after 600 epochs : 1.908638487259547\n",
      "Training loss after 700 epochs : 1.8260524451732636\n",
      "Training loss after 800 epochs : 1.749120114247004\n",
      "Training loss after 900 epochs : 1.6764255205790202\n",
      "Training loss after 1000 epochs : 1.609882754087448\n",
      "Final Loss(over training dataset):  1.5475383122762045  Test accuracy(over test dataset):  63.216 %\n",
      "--------------------------------------------------------------------------------------------\n",
      "Training loss after 100 epochs : 2.379905947049459\n",
      "Training loss after 200 epochs : 1.5178334693113962\n",
      "Training loss after 300 epochs : 1.0888322710990905\n",
      "Training loss after 400 epochs : 0.8545068740844727\n",
      "Training loss after 500 epochs : 0.7087465584278106\n",
      "Training loss after 600 epochs : 0.6114228044946989\n",
      "Training loss after 700 epochs : 0.5420967146754265\n",
      "Training loss after 800 epochs : 0.49009403387705486\n",
      "Training loss after 900 epochs : 0.4495386352141698\n",
      "Training loss after 1000 epochs : 0.41743264844020206\n",
      "Final Loss(over training dataset):  0.3911042908827464  Test accuracy(over test dataset):  91.708 %\n",
      "--------------------------------------------------------------------------------------------\n",
      "Training loss after 100 epochs : 2.366838979721069\n",
      "Training loss after 200 epochs : 0.3954691822330157\n",
      "Training loss after 300 epochs : 0.2679550049205621\n",
      "Training loss after 400 epochs : 0.21757134074966114\n",
      "Training loss after 500 epochs : 0.18987176194787025\n",
      "Training loss after 600 epochs : 0.1718570277094841\n",
      "Training loss after 700 epochs : 0.1583156742155552\n",
      "Training loss after 800 epochs : 0.14907657727599144\n",
      "Training loss after 900 epochs : 0.14041490846623977\n",
      "Training loss after 1000 epochs : 0.13373882373174031\n",
      "Final Loss(over training dataset):  0.12761028154442708  Test accuracy(over test dataset):  93.879 %\n",
      "--------------------------------------------------------------------------------------------\n",
      "Training loss after 100 epochs : 2.0355144997437793\n",
      "Training loss after 200 epochs : 0.1286331028987964\n",
      "Training loss after 300 epochs : 0.09808442139377196\n",
      "Training loss after 400 epochs : 0.08404070548713208\n",
      "Training loss after 500 epochs : 0.07514867590119441\n",
      "Training loss after 600 epochs : 0.06878554181506237\n",
      "Training loss after 700 epochs : 0.06423363977422317\n",
      "Training loss after 800 epochs : 0.0607240941375494\n",
      "Training loss after 900 epochs : 0.05722909948478142\n",
      "Training loss after 1000 epochs : 0.05469107287935913\n",
      "Final Loss(over training dataset):  0.052424467323968806  Test accuracy(over test dataset):  94.936 %\n",
      "--------------------------------------------------------------------------------------------\n",
      "Training loss after 100 epochs : 0.7913637608289719\n",
      "Training loss after 200 epochs : 0.05261775231920183\n",
      "Training loss after 300 epochs : 0.03937105363390098\n",
      "Training loss after 400 epochs : 0.03306517920767268\n",
      "Training loss after 500 epochs : 0.029162046584921577\n",
      "Training loss after 600 epochs : 0.026012199356531103\n",
      "Training loss after 700 epochs : 0.02377949710159252\n",
      "Training loss after 800 epochs : 0.021903265399547914\n",
      "Training loss after 900 epochs : 0.020381099307754388\n",
      "Training loss after 1000 epochs : 0.019078259472735226\n",
      "Final Loss(over training dataset):  0.018004553186862417  Test accuracy(over test dataset):  94.769 %\n",
      "--------------------------------------------------------------------------------------------\n",
      "Training loss after 100 epochs : 2.374335221449534\n",
      "Training loss after 200 epochs : 2.3597547888755797\n",
      "Training loss after 300 epochs : 2.345991329352061\n",
      "Training loss after 400 epochs : 2.3324283957481384\n",
      "Training loss after 500 epochs : 2.319091745217641\n",
      "Training loss after 600 epochs : 2.3048737049102783\n",
      "Training loss after 700 epochs : 2.291776700814565\n",
      "Training loss after 800 epochs : 2.2782610495885214\n",
      "Training loss after 900 epochs : 2.266322847207387\n",
      "Training loss after 1000 epochs : 2.2539504289627077\n",
      "Final Loss(over training dataset):  2.242451846599579  Test accuracy(over test dataset):  21.592 %\n",
      "--------------------------------------------------------------------------------------------\n",
      "Training loss after 100 epochs : 2.374955475330353\n",
      "Training loss after 200 epochs : 2.2840428789456686\n",
      "Training loss after 300 epochs : 2.201870612303416\n",
      "Training loss after 400 epochs : 2.1277373790740968\n",
      "Training loss after 500 epochs : 2.0588755369186402\n",
      "Training loss after 600 epochs : 1.9953473071257273\n",
      "Training loss after 700 epochs : 1.9404439111550649\n",
      "Training loss after 800 epochs : 1.8928668558597566\n",
      "Training loss after 900 epochs : 1.855193974574407\n",
      "Training loss after 1000 epochs : 1.8252644618352254\n",
      "Final Loss(over training dataset):  1.7990079780419668  Test accuracy(over test dataset):  29.438 %\n",
      "--------------------------------------------------------------------------------------------\n",
      "Training loss after 100 epochs : 2.329818824927012\n",
      "Training loss after 200 epochs : 1.7545011421044667\n",
      "Training loss after 300 epochs : 1.5839375456174214\n",
      "Training loss after 400 epochs : 1.481732686360677\n",
      "Training loss after 500 epochs : 1.4058615207672118\n",
      "Training loss after 600 epochs : 1.3490467250347138\n",
      "Training loss after 700 epochs : 1.307876314719518\n",
      "Training loss after 800 epochs : 1.2728704472382864\n",
      "Training loss after 900 epochs : 1.2432623277107875\n",
      "Training loss after 1000 epochs : 1.2113515009482703\n",
      "Final Loss(over training dataset):  1.1846340596675873  Test accuracy(over test dataset):  51.586 %\n",
      "--------------------------------------------------------------------------------------------\n",
      "Training loss after 100 epochs : 2.3180384675661725\n",
      "Training loss after 200 epochs : 1.1248960842688878\n",
      "Training loss after 300 epochs : 0.902179495493571\n",
      "Training loss after 400 epochs : 0.815787328282992\n",
      "Training loss after 500 epochs : 0.7785262316465378\n",
      "Training loss after 600 epochs : 0.7506920834382375\n",
      "Training loss after 700 epochs : 0.7346054087082545\n",
      "Training loss after 800 epochs : 0.7258266001939774\n",
      "Training loss after 900 epochs : 0.7199969669183095\n",
      "Training loss after 1000 epochs : 0.7125157703955968\n",
      "Final Loss(over training dataset):  0.7021901244918506  Test accuracy(over test dataset):  69.783 %\n",
      "--------------------------------------------------------------------------------------------\n",
      "Training loss after 100 epochs : 2.0275594711303713\n",
      "Training loss after 200 epochs : 0.6927864412466685\n",
      "Training loss after 300 epochs : 0.6642155821124712\n",
      "Training loss after 400 epochs : 0.6558845683932304\n",
      "Training loss after 500 epochs : 0.6541345114509265\n",
      "Training loss after 600 epochs : 0.642071537176768\n",
      "Training loss after 700 epochs : 0.6391825730601947\n",
      "Training loss after 800 epochs : 0.6409437199433644\n",
      "Training loss after 900 epochs : 0.6395349154869715\n",
      "Training loss after 1000 epochs : 0.635618012646834\n",
      "Final Loss(over training dataset):  0.6387521480520566  Test accuracy(over test dataset):  73.066 %\n",
      "--------------------------------------------------------------------------------------------\n",
      "Training loss after 100 epochs : 2.34914261897405\n",
      "Training loss after 200 epochs : 2.338925099372864\n",
      "Training loss after 300 epochs : 2.3292059620221455\n",
      "Training loss after 400 epochs : 2.320083491007487\n",
      "Training loss after 500 epochs : 2.3109209060668947\n",
      "Training loss after 600 epochs : 2.3025650223096212\n",
      "Training loss after 700 epochs : 2.294209825992584\n",
      "Training loss after 800 epochs : 2.2863430857658384\n",
      "Training loss after 900 epochs : 2.278304839134216\n",
      "Training loss after 1000 epochs : 2.270825997988383\n",
      "Final Loss(over training dataset):  2.263698522249858  Test accuracy(over test dataset):  7.902 %\n",
      "--------------------------------------------------------------------------------------------\n",
      "Training loss after 100 epochs : 2.3966610630353293\n",
      "Training loss after 200 epochs : 2.2628669142723083\n",
      "Training loss after 300 epochs : 2.1651241779327393\n",
      "Training loss after 400 epochs : 2.0664271811644235\n",
      "Training loss after 500 epochs : 1.9540335357189178\n",
      "Training loss after 600 epochs : 1.8262144029140472\n",
      "Training loss after 700 epochs : 1.6914955914020537\n"
     ]
    },
    {
     "name": "stdout",
     "output_type": "stream",
     "text": [
      "Training loss after 800 epochs : 1.5668360690275829\n",
      "Training loss after 900 epochs : 1.4658771892388662\n",
      "Training loss after 1000 epochs : 1.3875722487767537\n",
      "Final Loss(over training dataset):  1.3281975905100505  Test accuracy(over test dataset):  53.478 %\n",
      "--------------------------------------------------------------------------------------------\n",
      "Training loss after 100 epochs : 2.3705049912134806\n",
      "Training loss after 200 epochs : 1.136961739261945\n",
      "Training loss after 300 epochs : 0.717879771689574\n",
      "Training loss after 400 epochs : 0.5249794349074364\n",
      "Training loss after 500 epochs : 0.4125906050205231\n",
      "Training loss after 600 epochs : 0.33956513230999313\n",
      "Training loss after 700 epochs : 0.2890802023311456\n",
      "Training loss after 800 epochs : 0.2534840720395247\n",
      "Training loss after 900 epochs : 0.22631893418729304\n",
      "Training loss after 1000 epochs : 0.2062643438577652\n",
      "Final Loss(over training dataset):  0.19011199635763962  Test accuracy(over test dataset):  91.486 %\n",
      "--------------------------------------------------------------------------------------------\n",
      "Training loss after 100 epochs : 2.279384406407674\n",
      "Training loss after 200 epochs : 0.18637336405615013\n",
      "Training loss after 300 epochs : 0.1257508208975196\n",
      "Training loss after 400 epochs : 0.10281101955721776\n",
      "Training loss after 500 epochs : 0.0898473436012864\n",
      "Training loss after 600 epochs : 0.08163423272781074\n",
      "Training loss after 700 epochs : 0.07413780051283539\n",
      "Training loss after 800 epochs : 0.06869559174713989\n",
      "Training loss after 900 epochs : 0.06383274788968266\n",
      "Training loss after 1000 epochs : 0.06003307218973835\n",
      "Final Loss(over training dataset):  0.057273913221433756  Test accuracy(over test dataset):  93.823 %\n",
      "--------------------------------------------------------------------------------------------\n",
      "Training loss after 100 epochs : 1.8009951929251353\n",
      "Training loss after 200 epochs : 0.06737882297796507\n",
      "Training loss after 300 epochs : 0.04991553245733182\n",
      "Training loss after 400 epochs : 0.04131434919933478\n",
      "Training loss after 500 epochs : 0.03408752656929816\n",
      "Training loss after 600 epochs : 0.027651121898088604\n",
      "Training loss after 700 epochs : 0.02383152283146046\n",
      "Training loss after 800 epochs : 0.02022219467132042\n",
      "Training loss after 900 epochs : 0.017561869940254837\n",
      "Training loss after 1000 epochs : 0.01564560933232618\n",
      "Final Loss(over training dataset):  0.01411838891217485  Test accuracy(over test dataset):  92.877 %\n",
      "--------------------------------------------------------------------------------------------\n",
      "Training loss after 100 epochs : 2.3405646165211995\n",
      "Training loss after 200 epochs : 2.33925142288208\n",
      "Training loss after 300 epochs : 2.3385690450668335\n",
      "Training loss after 400 epochs : 2.3377995133399962\n",
      "Training loss after 500 epochs : 2.3375253041585284\n",
      "Training loss after 600 epochs : 2.3370195428530374\n",
      "Training loss after 700 epochs : 2.3363041361172994\n",
      "Training loss after 800 epochs : 2.3352389057477314\n",
      "Training loss after 900 epochs : 2.3350652853647866\n",
      "Training loss after 1000 epochs : 2.334775431950887\n",
      "Final Loss(over training dataset):  2.3336094975471497  Test accuracy(over test dataset):  9.961 %\n",
      "--------------------------------------------------------------------------------------------\n",
      "Training loss after 100 epochs : 2.377489960193634\n",
      "Training loss after 200 epochs : 2.352824155489604\n",
      "Training loss after 300 epochs : 2.3313459753990173\n",
      "Training loss after 400 epochs : 2.310188086827596\n",
      "Training loss after 500 epochs : 2.2865578095118204\n",
      "Training loss after 600 epochs : 2.2557627042134603\n",
      "Training loss after 700 epochs : 2.2173673152923583\n",
      "Training loss after 800 epochs : 2.170230034987132\n",
      "Training loss after 900 epochs : 2.115762726465861\n",
      "Training loss after 1000 epochs : 2.0572954098383587\n",
      "Final Loss(over training dataset):  2.000712102651596  Test accuracy(over test dataset):  29.716 %\n",
      "--------------------------------------------------------------------------------------------\n",
      "Training loss after 100 epochs : 2.3622167627016704\n",
      "Training loss after 200 epochs : 2.314802173773448\n",
      "Training loss after 300 epochs : 2.0869799832503\n",
      "Training loss after 400 epochs : 1.954901683330536\n",
      "Training loss after 500 epochs : 1.8784290572007498\n",
      "Training loss after 600 epochs : 1.8226132492224376\n",
      "Training loss after 700 epochs : 1.690239465236664\n",
      "Training loss after 800 epochs : 1.452267881234487\n",
      "Training loss after 900 epochs : 1.2354844490687051\n",
      "Training loss after 1000 epochs : 1.149628754456838\n",
      "Final Loss(over training dataset):  1.090156552195549  Test accuracy(over test dataset):  57.429 %\n",
      "--------------------------------------------------------------------------------------------\n",
      "Training loss after 100 epochs : 2.385852098464966\n",
      "Training loss after 200 epochs : 0.7929538190364838\n",
      "Training loss after 300 epochs : 0.6429032251238823\n",
      "Training loss after 400 epochs : 0.6193126668532689\n",
      "Training loss after 500 epochs : 0.6053611680865287\n",
      "Training loss after 600 epochs : 0.5989008242885272\n",
      "Training loss after 700 epochs : 0.5966051871577899\n",
      "Training loss after 800 epochs : 0.5949798623720804\n",
      "Training loss after 900 epochs : 0.5959279413024584\n",
      "Training loss after 1000 epochs : 0.594498502711455\n",
      "Final Loss(over training dataset):  0.5949938808878262  Test accuracy(over test dataset):  75.459 %\n",
      "--------------------------------------------------------------------------------------------\n",
      "Training loss after 100 epochs : 2.3074692487716675\n",
      "Training loss after 200 epochs : 0.699863367776076\n",
      "Training loss after 300 epochs : 0.6662594934304555\n",
      "Training loss after 400 epochs : 0.6540292143821717\n",
      "Training loss after 500 epochs : 0.6559062461058299\n",
      "Training loss after 600 epochs : 0.6604232013225555\n",
      "Training loss after 700 epochs : 0.6562290072441102\n",
      "Training loss after 800 epochs : 0.6603081146876018\n",
      "Training loss after 900 epochs : 0.656198595960935\n",
      "Training loss after 1000 epochs : 0.653033173084259\n",
      "Final Loss(over training dataset):  0.660767380396525  Test accuracy(over test dataset):  70.395 %\n",
      "--------------------------------------------------------------------------------------------\n",
      "Training loss after 100 epochs : 2.372658348083496\n",
      "Training loss after 200 epochs : 2.368986936410268\n",
      "Training loss after 300 epochs : 2.3647392988204956\n",
      "Training loss after 400 epochs : 2.3606353799502053\n",
      "Training loss after 500 epochs : 2.3568764448165895\n",
      "Training loss after 600 epochs : 2.3529120206832888\n",
      "Training loss after 700 epochs : 2.349171749750773\n",
      "Training loss after 800 epochs : 2.346287226676941\n",
      "Training loss after 900 epochs : 2.342487116654714\n",
      "Training loss after 1000 epochs : 2.339078787962596\n",
      "Final Loss(over training dataset):  2.3352258960405985  Test accuracy(over test dataset):  14.135 %\n",
      "--------------------------------------------------------------------------------------------\n",
      "Training loss after 100 epochs : 2.370267701148987\n",
      "Training loss after 200 epochs : 2.360673995812734\n",
      "Training loss after 300 epochs : 2.3504898150761924\n",
      "Training loss after 400 epochs : 2.340855042139689\n",
      "Training loss after 500 epochs : 2.331069986025492\n",
      "Training loss after 600 epochs : 2.320429539680481\n",
      "Training loss after 700 epochs : 2.310402814547221\n",
      "Training loss after 800 epochs : 2.299972180525462\n",
      "Training loss after 900 epochs : 2.2899235844612122\n",
      "Training loss after 1000 epochs : 2.2789448857307435\n",
      "Final Loss(over training dataset):  2.2685988545417786  Test accuracy(over test dataset):  17.418 %\n",
      "--------------------------------------------------------------------------------------------\n",
      "Training loss after 100 epochs : 2.3438583493232725\n",
      "Training loss after 200 epochs : 2.0098566095034283\n",
      "Training loss after 300 epochs : 1.8859280427296956\n",
      "Training loss after 400 epochs : 1.783628624677658\n",
      "Training loss after 500 epochs : 1.621547923485438\n",
      "Training loss after 600 epochs : 1.4034403006235758\n",
      "Training loss after 700 epochs : 1.269860448439916\n",
      "Training loss after 800 epochs : 1.1756274004777272\n",
      "Training loss after 900 epochs : 1.1095990459124248\n",
      "Training loss after 1000 epochs : 1.0547309358914694\n",
      "Final Loss(over training dataset):  1.0022759844859441  Test accuracy(over test dataset):  62.994 %\n",
      "--------------------------------------------------------------------------------------------\n",
      "Training loss after 100 epochs : 2.366321361064911\n"
     ]
    },
    {
     "name": "stdout",
     "output_type": "stream",
     "text": [
      "Training loss after 200 epochs : 1.6685592790444692\n",
      "Training loss after 300 epochs : 1.5050586819648744\n",
      "Training loss after 400 epochs : 1.379820748170217\n",
      "Training loss after 500 epochs : 1.319842481613159\n",
      "Training loss after 600 epochs : 1.2849681516488394\n",
      "Training loss after 700 epochs : 1.2543673495451608\n",
      "Training loss after 800 epochs : 1.2304531693458558\n",
      "Training loss after 900 epochs : 1.2101898570855458\n",
      "Training loss after 1000 epochs : 1.1894882798194886\n",
      "Final Loss(over training dataset):  1.169424194097519  Test accuracy(over test dataset):  48.47 %\n",
      "--------------------------------------------------------------------------------------------\n",
      "Training loss after 100 epochs : 2.307416391372681\n",
      "Training loss after 200 epochs : 0.8106786886850993\n",
      "Training loss after 300 epochs : 0.6802849968274435\n",
      "Training loss after 400 epochs : 0.6427071367700895\n",
      "Training loss after 500 epochs : 0.6222422152757645\n",
      "Training loss after 600 epochs : 0.606269297003746\n",
      "Training loss after 700 epochs : 0.6031783282756805\n",
      "Training loss after 800 epochs : 0.5924118941028913\n",
      "Training loss after 900 epochs : 0.5816722477475802\n",
      "Training loss after 1000 epochs : 0.5711353441079458\n",
      "Final Loss(over training dataset):  0.5737702230612437  Test accuracy(over test dataset):  75.459 %\n",
      "--------------------------------------------------------------------------------------------\n"
     ]
    }
   ],
   "source": [
    "learning_rate = [0.00001, 0.0001, 0.001, 0.01, 0.1]\n",
    "model_arr = [[64,10],[64,2,10],[64,6,10],[64,2,3,10],[64,3,2,10]]\n",
    "mat_m = [[0 for i in range(5)] for j in range(5)]\n",
    "mat_l = [[0 for i in range(5)] for j in range(5)]\n",
    "best_model_acc=[0]*5\n",
    "p = 0\n",
    "q = 0\n",
    "epochs=1000\n",
    "for i in model_arr:\n",
    "    for j in learning_rate:\n",
    "        model=get_model(i)\n",
    "        loss=train(epochs,trainloader,optim.SGD(model.parameters(), lr=j),nn.NLLLoss(),model)\n",
    "        accuracy=get_accuracy(model,testloader)\n",
    "        print('Final Loss(over training dataset): ',loss,' Test accuracy(over test dataset): ',round(accuracy,3),'%')\n",
    "        print('--------------------------------------------------------------------------------------------')\n",
    "        mat_m[p][q] = accuracy\n",
    "        mat_l[q][p] = accuracy\n",
    "        best_model_acc[p]=max(best_model_acc[p],accuracy)\n",
    "        q = q + 1\n",
    "    q = 0\n",
    "    p = p + 1"
   ]
  },
  {
   "cell_type": "markdown",
   "metadata": {},
   "source": [
    "#### mat[i][j]=k means ith model with j'th learning rate has accuracy k"
   ]
  },
  {
   "cell_type": "code",
   "execution_count": 17,
   "metadata": {
    "colab": {
     "background_save": true
    },
    "id": "ldBGwPkzJPmg",
    "outputId": "606ecd7c-8cc3-4f3c-db19-72daa4207dfd"
   },
   "outputs": [
    {
     "data": {
      "text/plain": [
       "[[63.21647189760712,\n",
       "  91.70840289371174,\n",
       "  93.87868670005565,\n",
       "  94.93600445186422,\n",
       "  94.76905954368392],\n",
       " [21.59154145798553,\n",
       "  29.437952142459658,\n",
       "  51.58597662771286,\n",
       "  69.78297161936561,\n",
       "  73.06622148024485],\n",
       " [7.90205898720089,\n",
       "  53.47801892042293,\n",
       "  91.48580968280467,\n",
       "  93.82303839732889,\n",
       "  92.87701725097385],\n",
       " [9.961046188091263,\n",
       "  29.716193656093488,\n",
       "  57.42904841402338,\n",
       "  75.45909849749583,\n",
       "  70.39510294936005],\n",
       " [14.134668892598775,\n",
       "  17.417918753478016,\n",
       "  62.99387868670006,\n",
       "  48.46967167501391,\n",
       "  75.45909849749583]]"
      ]
     },
     "execution_count": 17,
     "metadata": {},
     "output_type": "execute_result"
    }
   ],
   "source": [
    "mat_m"
   ]
  },
  {
   "cell_type": "markdown",
   "metadata": {},
   "source": [
    "#### Learning Rate vs Accuracy for different Models"
   ]
  },
  {
   "cell_type": "code",
   "execution_count": 18,
   "metadata": {
    "colab": {
     "background_save": true
    },
    "id": "cbgaA1q4JPmg",
    "outputId": "6602a61e-bbe6-4340-c182-3fed57e1c1f5"
   },
   "outputs": [
    {
     "data": {
      "image/png": "[encoded data removed]",
      "text/plain": [
       "<Figure size 432x288 with 1 Axes>"
      ]
     },
     "metadata": {
      "needs_background": "light"
     },
     "output_type": "display_data"
    }
   ],
   "source": [
    "learning_rate_g = ['0.00001', '0.0001', '0.001', '0.01', '0.1']\n",
    "model_arr_g = ['Model 1', 'Model 2', 'Model 3', 'Model 4', 'Model 5']\n",
    "\n",
    "plt.plot(learning_rate_g, mat_m[0], label = \"Model 1\")\n",
    "plt.plot(learning_rate_g, mat_m[1], label = \"Model 2\")\n",
    "plt.plot(learning_rate_g, mat_m[2], label = \"Model 3\")\n",
    "plt.plot(learning_rate_g, mat_m[3], label = \"Model 4\")\n",
    "plt.plot(learning_rate_g, mat_m[4], label = \"Model 5\")\n",
    "\n",
    "plt.xlabel('Learning Rate')\n",
    "plt.ylabel('Accuarcy')\n",
    "plt.title('Learning Rate vs Accuracy for different Models')\n",
    "plt.legend(loc='lower right')\n",
    "plt.show()"
   ]
  },
  {
   "cell_type": "markdown",
   "metadata": {},
   "source": [
    "#### Models vs Accuracy for different Learning Rates"
   ]
  },
  {
   "cell_type": "code",
   "execution_count": 19,
   "metadata": {
    "colab": {
     "background_save": true
    },
    "id": "ERnTph6rJPmh",
    "outputId": "72353514-f6f0-4125-abf6-0e04948c92a1"
   },
   "outputs": [
    {
     "data": {
      "image/png": "[encoded data removed]",
      "text/plain": [
       "<Figure size 432x288 with 1 Axes>"
      ]
     },
     "metadata": {
      "needs_background": "light"
     },
     "output_type": "display_data"
    }
   ],
   "source": [
    "plt.plot(model_arr_g, mat_l[0], label = \"LR 0.00001\")\n",
    "plt.plot(model_arr_g, mat_l[1], label = \"LR 0.0001\")\n",
    "plt.plot(model_arr_g, mat_l[2], label = \"LR 0.001\")\n",
    "plt.plot(model_arr_g, mat_l[3], label = \"LR 0.01\")\n",
    "plt.plot(model_arr_g, mat_l[4], label = \"LR 0.1\")\n",
    "\n",
    "plt.xlabel('Models')\n",
    "plt.ylabel('Accuarcy')\n",
    "plt.title('Models vs Accuracy for different Learning Rates')\n",
    "plt.legend(loc='lower left')\n",
    "plt.show()"
   ]
  },
  {
   "cell_type": "markdown",
   "metadata": {},
   "source": [
    "## Reduction of feature dimension using PCA"
   ]
  },
  {
   "cell_type": "markdown",
   "metadata": {},
   "source": [
    "#### PCA Implemenatation"
   ]
  },
  {
   "cell_type": "code",
   "execution_count": 20,
   "metadata": {
    "colab": {
     "background_save": true
    },
    "id": "bxC-3oC1JPmh"
   },
   "outputs": [],
   "source": [
    "pca = PCA(n_components=2)\n",
    "train_pca = pca.fit_transform(train_df.iloc[:,:-1])\n",
    "test_pca=pca.transform(test_df.iloc[:,:-1])"
   ]
  },
  {
   "cell_type": "code",
   "execution_count": 21,
   "metadata": {
    "colab": {
     "background_save": true
    },
    "id": "ibxR25ipJPmh",
    "outputId": "22f9e3d3-0c23-45ea-fe6f-92342d51d10b"
   },
   "outputs": [
    {
     "data": {
      "text/plain": [
       "Text(0, 0.5, 'Second principle component')"
      ]
     },
     "execution_count": 21,
     "metadata": {},
     "output_type": "execute_result"
    },
    {
     "data": {
      "image/png": "[encoded data removed]",
      "text/plain": [
       "<Figure size 576x432 with 1 Axes>"
      ]
     },
     "metadata": {
      "needs_background": "light"
     },
     "output_type": "display_data"
    }
   ],
   "source": [
    "plt.figure(figsize=(8,6))\n",
    "sc=plt.scatter(train_pca[:,0],train_pca[:,1],c=train_df.iloc[:,-1])\n",
    "plt.legend(*sc.legend_elements(), loc=\"upper right\", title=\"Classes\")\n",
    "plt.xlabel('First principle component')\n",
    "plt.ylabel('Second principle component')"
   ]
  },
  {
   "cell_type": "markdown",
   "metadata": {},
   "source": [
    "#### Above Implementation after PCA"
   ]
  },
  {
   "cell_type": "code",
   "execution_count": 22,
   "metadata": {
    "colab": {
     "background_save": true
    },
    "id": "S5GEkBBlPkW4"
   },
   "outputs": [],
   "source": [
    "train_y1 = torch.tensor(train_df.iloc[:,-1].values.astype(np.int64))\n",
    "train_x1 = torch.tensor(train_pca.astype(np.float32))\n",
    "test_y1 = torch.tensor(test_df.iloc[:,-1].values.astype(np.int64))\n",
    "test_x1 = torch.tensor(test_pca.astype(np.float32))\n",
    "\n",
    "train_tensor1 = data_utils.TensorDataset(train_x1, train_y1)\n",
    "test_tensor1 = data_utils.TensorDataset(test_x1, test_y1)\n",
    "\n",
    "trainloader1 = torch.utils.data.DataLoader(train_tensor1, batch_size=64,shuffle=True)\n",
    "testloader1 = torch.utils.data.DataLoader(test_tensor1, batch_size=1,shuffle=False)"
   ]
  },
  {
   "cell_type": "markdown",
   "metadata": {},
   "source": [
    "#### Comparision between accuracy and learning rate for all the models"
   ]
  },
  {
   "cell_type": "code",
   "execution_count": 23,
   "metadata": {
    "colab": {
     "background_save": true
    },
    "id": "ocoiHfFyK9_a",
    "outputId": "187ed8be-b355-4ae5-bb11-178f07026c74",
    "scrolled": true
   },
   "outputs": [
    {
     "name": "stdout",
     "output_type": "stream",
     "text": [
      "Training loss after 100 epochs : 3.647972349325816\n",
      "Training loss after 200 epochs : 3.531555183728536\n",
      "Training loss after 300 epochs : 3.4193235437075296\n",
      "Training loss after 400 epochs : 3.3149976332982383\n",
      "Training loss after 500 epochs : 3.2131190220514934\n",
      "Training loss after 600 epochs : 3.11745658715566\n",
      "Training loss after 700 epochs : 3.0268667101860047\n",
      "Training loss after 800 epochs : 2.9379974842071532\n",
      "Training loss after 900 epochs : 2.8545863469441732\n",
      "Training loss after 1000 epochs : 2.7778807202974956\n",
      "Final Loss(over training dataset):  2.7029157638549806  Test accuracy(over test dataset):  3.951 %\n",
      "--------------------------------------------------------------------------------------------\n",
      "Training loss after 100 epochs : 3.108457044760386\n",
      "Training loss after 200 epochs : 2.3264079372088116\n",
      "Training loss after 300 epochs : 1.955261806646983\n",
      "Training loss after 400 epochs : 1.769112131992976\n",
      "Training loss after 500 epochs : 1.663902332385381\n",
      "Training loss after 600 epochs : 1.6031156222025553\n",
      "Training loss after 700 epochs : 1.563436468442281\n",
      "Training loss after 800 epochs : 1.5374907493591308\n",
      "Training loss after 900 epochs : 1.5163328309853872\n",
      "Training loss after 1000 epochs : 1.4995961944262186\n",
      "Final Loss(over training dataset):  1.4866782446702322  Test accuracy(over test dataset):  43.74 %\n",
      "--------------------------------------------------------------------------------------------\n",
      "Training loss after 100 epochs : 2.964940325419108\n",
      "Training loss after 200 epochs : 1.5240390300750732\n",
      "Training loss after 300 epochs : 1.4263114790121714\n",
      "Training loss after 400 epochs : 1.3746286392211915\n",
      "Training loss after 500 epochs : 1.338600864013036\n",
      "Training loss after 600 epochs : 1.3120558043320973\n",
      "Training loss after 700 epochs : 1.2925669888655344\n",
      "Training loss after 800 epochs : 1.276961506406466\n",
      "Training loss after 900 epochs : 1.2667004625002543\n",
      "Training loss after 1000 epochs : 1.2554965098698934\n",
      "Final Loss(over training dataset):  1.2486192444960276  Test accuracy(over test dataset):  52.699 %\n",
      "--------------------------------------------------------------------------------------------\n",
      "Training loss after 100 epochs : 2.70509094397227\n",
      "Training loss after 200 epochs : 1.2472708811362585\n",
      "Training loss after 300 epochs : 1.2123829493920009\n",
      "Training loss after 400 epochs : 1.1987257291873297\n",
      "Training loss after 500 epochs : 1.1915014306704204\n",
      "Training loss after 600 epochs : 1.1877563128868738\n",
      "Training loss after 700 epochs : 1.1847169508536657\n",
      "Training loss after 800 epochs : 1.1830715080102285\n",
      "Training loss after 900 epochs : 1.1834114561478297\n",
      "Training loss after 1000 epochs : 1.1812229365110398\n",
      "Final Loss(over training dataset):  1.1810125877459845  Test accuracy(over test dataset):  53.979 %\n",
      "--------------------------------------------------------------------------------------------\n",
      "Training loss after 100 epochs : 1.9373391032218934\n",
      "Training loss after 200 epochs : 1.1834594974915187\n",
      "Training loss after 300 epochs : 1.1801636238892874\n",
      "Training loss after 400 epochs : 1.1796053280433019\n",
      "Training loss after 500 epochs : 1.1778888960679372\n",
      "Training loss after 600 epochs : 1.1798166185617447\n",
      "Training loss after 700 epochs : 1.181540396809578\n",
      "Training loss after 800 epochs : 1.1780679374933243\n",
      "Training loss after 900 epochs : 1.176984644929568\n",
      "Training loss after 1000 epochs : 1.178471859296163\n",
      "Final Loss(over training dataset):  1.1785011957089107  Test accuracy(over test dataset):  53.812 %\n",
      "--------------------------------------------------------------------------------------------\n",
      "Training loss after 100 epochs : 2.463969910144806\n",
      "Training loss after 200 epochs : 2.4467548727989197\n",
      "Training loss after 300 epochs : 2.432223896185557\n",
      "Training loss after 400 epochs : 2.418284523487091\n",
      "Training loss after 500 epochs : 2.4052239855130515\n",
      "Training loss after 600 epochs : 2.393941819667816\n",
      "Training loss after 700 epochs : 2.3834563851356507\n",
      "Training loss after 800 epochs : 2.3725736419359844\n",
      "Training loss after 900 epochs : 2.363236447175344\n",
      "Training loss after 1000 epochs : 2.355029038588206\n",
      "Final Loss(over training dataset):  2.347425623734792  Test accuracy(over test dataset):  8.848 %\n",
      "--------------------------------------------------------------------------------------------\n",
      "Training loss after 100 epochs : 2.5008059183756512\n",
      "Training loss after 200 epochs : 2.369356119632721\n",
      "Training loss after 300 epochs : 2.312168494860331\n",
      "Training loss after 400 epochs : 2.2762332479159038\n",
      "Training loss after 500 epochs : 2.2474671681722005\n",
      "Training loss after 600 epochs : 2.221261696020762\n",
      "Training loss after 700 epochs : 2.198103868961334\n",
      "Training loss after 800 epochs : 2.1767555356025694\n",
      "Training loss after 900 epochs : 2.1584064841270445\n",
      "Training loss after 1000 epochs : 2.140689907471339\n",
      "Final Loss(over training dataset):  2.124105083942413  Test accuracy(over test dataset):  23.595 %\n",
      "--------------------------------------------------------------------------------------------\n",
      "Training loss after 100 epochs : 2.498378749688466\n",
      "Training loss after 200 epochs : 2.0358799775441487\n",
      "Training loss after 300 epochs : 1.8144017994403838\n",
      "Training loss after 400 epochs : 1.7139853517214456\n",
      "Training loss after 500 epochs : 1.657612148920695\n",
      "Training loss after 600 epochs : 1.617401522397995\n",
      "Training loss after 700 epochs : 1.5875875929991403\n",
      "Training loss after 800 epochs : 1.5617020905017853\n",
      "Training loss after 900 epochs : 1.5423536360263825\n",
      "Training loss after 1000 epochs : 1.524404944976171\n",
      "Final Loss(over training dataset):  1.5111774484316507  Test accuracy(over test dataset):  39.232 %\n",
      "--------------------------------------------------------------------------------------------\n",
      "Training loss after 100 epochs : 2.304697068532308\n",
      "Training loss after 200 epochs : 1.3728186349074045\n",
      "Training loss after 300 epochs : 1.2804729700088502\n",
      "Training loss after 400 epochs : 1.2452826877435048\n",
      "Training loss after 500 epochs : 1.2198994636535645\n",
      "Training loss after 600 epochs : 1.2001343230406443\n",
      "Training loss after 700 epochs : 1.189383249481519\n",
      "Training loss after 800 epochs : 1.1836395541826883\n",
      "Training loss after 900 epochs : 1.1792091757059098\n",
      "Training loss after 1000 epochs : 1.1766026318073273\n",
      "Final Loss(over training dataset):  1.1745575497547784  Test accuracy(over test dataset):  53.756 %\n",
      "--------------------------------------------------------------------------------------------\n",
      "Training loss after 100 epochs : 2.1593780239423115\n",
      "Training loss after 200 epochs : 1.211397056778272\n",
      "Training loss after 300 epochs : 1.190993649760882\n",
      "Training loss after 400 epochs : 1.1878799080848694\n",
      "Training loss after 500 epochs : 1.182960855960846\n",
      "Training loss after 600 epochs : 1.1797424832979837\n",
      "Training loss after 700 epochs : 1.1769797513882319\n",
      "Training loss after 800 epochs : 1.1778072148561478\n",
      "Training loss after 900 epochs : 1.1766585757335026\n",
      "Training loss after 1000 epochs : 1.1763583530982336\n",
      "Final Loss(over training dataset):  1.1741613586743673  Test accuracy(over test dataset):  53.534 %\n",
      "--------------------------------------------------------------------------------------------\n",
      "Training loss after 100 epochs : 2.370185657342275\n",
      "Training loss after 200 epochs : 2.3502882639567058\n",
      "Training loss after 300 epochs : 2.3315176526705423\n",
      "Training loss after 400 epochs : 2.312980302174886\n",
      "Training loss after 500 epochs : 2.296568520863851\n",
      "Training loss after 600 epochs : 2.280019160111745\n",
      "Training loss after 700 epochs : 2.2645838499069213\n",
      "Training loss after 800 epochs : 2.249792766571045\n",
      "Training loss after 900 epochs : 2.234744687875112\n",
      "Training loss after 1000 epochs : 2.221548064549764\n",
      "Final Loss(over training dataset):  2.207816004753113  Test accuracy(over test dataset):  15.526 %\n",
      "--------------------------------------------------------------------------------------------\n",
      "Training loss after 100 epochs : 2.3907933473587035\n",
      "Training loss after 200 epochs : 2.1736270507176716\n",
      "Training loss after 300 epochs : 2.0099355280399323\n",
      "Training loss after 400 epochs : 1.8768213093280792\n",
      "Training loss after 500 epochs : 1.7716015080610912\n",
      "Training loss after 600 epochs : 1.6942418138186137\n",
      "Training loss after 700 epochs : 1.6379012982050578\n",
      "Training loss after 800 epochs : 1.5940098444620767\n"
     ]
    },
    {
     "name": "stdout",
     "output_type": "stream",
     "text": [
      "Training loss after 900 epochs : 1.55836341381073\n",
      "Training loss after 1000 epochs : 1.5294275363286336\n",
      "Final Loss(over training dataset):  1.5048324147860208  Test accuracy(over test dataset):  42.126 %\n",
      "--------------------------------------------------------------------------------------------\n",
      "Training loss after 100 epochs : 2.5159982442855835\n",
      "Training loss after 200 epochs : 1.4967016756534577\n",
      "Training loss after 300 epochs : 1.333153917392095\n",
      "Training loss after 400 epochs : 1.2736452639102935\n",
      "Training loss after 500 epochs : 1.242495886484782\n",
      "Training loss after 600 epochs : 1.2185656209786733\n",
      "Training loss after 700 epochs : 1.2014546364545822\n",
      "Training loss after 800 epochs : 1.1876245756944022\n",
      "Training loss after 900 epochs : 1.1757226516803105\n",
      "Training loss after 1000 epochs : 1.1659318159023921\n",
      "Final Loss(over training dataset):  1.1567227214574813  Test accuracy(over test dataset):  52.476 %\n",
      "--------------------------------------------------------------------------------------------\n",
      "Training loss after 100 epochs : 2.419920627276103\n",
      "Training loss after 200 epochs : 1.1278712570667266\n",
      "Training loss after 300 epochs : 1.0822817534208298\n",
      "Training loss after 400 epochs : 1.0726717700560888\n",
      "Training loss after 500 epochs : 1.0686315377553304\n",
      "Training loss after 600 epochs : 1.064749092857043\n",
      "Training loss after 700 epochs : 1.0648256619771321\n",
      "Training loss after 800 epochs : 1.063074634472529\n",
      "Training loss after 900 epochs : 1.061529431740443\n",
      "Training loss after 1000 epochs : 1.0606812914212544\n",
      "Final Loss(over training dataset):  1.058925978342692  Test accuracy(over test dataset):  55.815 %\n",
      "--------------------------------------------------------------------------------------------\n",
      "Training loss after 100 epochs : 1.930649032195409\n",
      "Training loss after 200 epochs : 1.052871240178744\n",
      "Training loss after 300 epochs : 1.051325763265292\n",
      "Training loss after 400 epochs : 1.050237547357877\n",
      "Training loss after 500 epochs : 1.0533497194449106\n",
      "Training loss after 600 epochs : 1.0499632785717645\n",
      "Training loss after 700 epochs : 1.0462268620729447\n",
      "Training loss after 800 epochs : 1.0481749325990677\n",
      "Training loss after 900 epochs : 1.0486463109652202\n",
      "Training loss after 1000 epochs : 1.0452955106894175\n",
      "Final Loss(over training dataset):  1.047654166817665  Test accuracy(over test dataset):  56.817 %\n",
      "--------------------------------------------------------------------------------------------\n",
      "Training loss after 100 epochs : 2.4574634472529095\n",
      "Training loss after 200 epochs : 2.4447416146596272\n",
      "Training loss after 300 epochs : 2.434985399246216\n",
      "Training loss after 400 epochs : 2.4247558037439982\n",
      "Training loss after 500 epochs : 2.4149664799372355\n",
      "Training loss after 600 epochs : 2.405939201513926\n",
      "Training loss after 700 epochs : 2.39826371272405\n",
      "Training loss after 800 epochs : 2.3908539454142255\n",
      "Training loss after 900 epochs : 2.383510708808899\n",
      "Training loss after 1000 epochs : 2.376564089457194\n",
      "Final Loss(over training dataset):  2.3704801042874655  Test accuracy(over test dataset):  9.683 %\n",
      "--------------------------------------------------------------------------------------------\n",
      "Training loss after 100 epochs : 2.4101072629292806\n",
      "Training loss after 200 epochs : 2.352630050977071\n",
      "Training loss after 300 epochs : 2.3217600107192995\n",
      "Training loss after 400 epochs : 2.2990856846173604\n",
      "Training loss after 500 epochs : 2.2786526997884113\n",
      "Training loss after 600 epochs : 2.2580168644587197\n",
      "Training loss after 700 epochs : 2.235886816183726\n",
      "Training loss after 800 epochs : 2.2122889161109924\n",
      "Training loss after 900 epochs : 2.1861833969751996\n",
      "Training loss after 1000 epochs : 2.1569060961405437\n",
      "Final Loss(over training dataset):  2.1232141395409903  Test accuracy(over test dataset):  18.865 %\n",
      "--------------------------------------------------------------------------------------------\n",
      "Training loss after 100 epochs : 2.386912190914154\n",
      "Training loss after 200 epochs : 1.9767353693644205\n",
      "Training loss after 300 epochs : 1.8635775009791056\n",
      "Training loss after 400 epochs : 1.805662113428116\n",
      "Training loss after 500 epochs : 1.7572620928287506\n",
      "Training loss after 600 epochs : 1.6748080233732858\n",
      "Training loss after 700 epochs : 1.5956525127092998\n",
      "Training loss after 800 epochs : 1.5423524657885233\n",
      "Training loss after 900 epochs : 1.4983978688716888\n",
      "Training loss after 1000 epochs : 1.462028197447459\n",
      "Final Loss(over training dataset):  1.4294025083382924  Test accuracy(over test dataset):  43.851 %\n",
      "--------------------------------------------------------------------------------------------\n",
      "Training loss after 100 epochs : 2.3525254011154173\n",
      "Training loss after 200 epochs : 1.543578859170278\n",
      "Training loss after 300 epochs : 1.3422275880972545\n",
      "Training loss after 400 epochs : 1.2405778328577677\n",
      "Training loss after 500 epochs : 1.2196448534727096\n",
      "Training loss after 600 epochs : 1.2094511727492014\n",
      "Training loss after 700 epochs : 1.2022868076960245\n",
      "Training loss after 800 epochs : 1.1991069575150808\n",
      "Training loss after 900 epochs : 1.1924279928207397\n",
      "Training loss after 1000 epochs : 1.1949002544085185\n",
      "Final Loss(over training dataset):  1.1896082331736884  Test accuracy(over test dataset):  53.979 %\n",
      "--------------------------------------------------------------------------------------------\n",
      "Training loss after 100 epochs : 2.288016227881114\n",
      "Training loss after 200 epochs : 1.166143532594045\n",
      "Training loss after 300 epochs : 1.1574023435513179\n",
      "Training loss after 400 epochs : 1.144307557741801\n",
      "Training loss after 500 epochs : 1.1484098702669143\n",
      "Training loss after 600 epochs : 1.152300331989924\n",
      "Training loss after 700 epochs : 1.143406973282496\n",
      "Training loss after 800 epochs : 1.1433958739042283\n",
      "Training loss after 900 epochs : 1.1380466063817343\n",
      "Training loss after 1000 epochs : 1.143427962064743\n",
      "Final Loss(over training dataset):  1.1368224988381068  Test accuracy(over test dataset):  53.756 %\n",
      "--------------------------------------------------------------------------------------------\n",
      "Training loss after 100 epochs : 2.4028509656588235\n",
      "Training loss after 200 epochs : 2.3946752707163492\n",
      "Training loss after 300 epochs : 2.3885921319325765\n",
      "Training loss after 400 epochs : 2.381800361474355\n",
      "Training loss after 500 epochs : 2.3749173482259116\n",
      "Training loss after 600 epochs : 2.370242512226105\n",
      "Training loss after 700 epochs : 2.3654163042704264\n",
      "Training loss after 800 epochs : 2.3590265115102134\n",
      "Training loss after 900 epochs : 2.354709029197693\n",
      "Training loss after 1000 epochs : 2.3502626260121664\n",
      "Final Loss(over training dataset):  2.345858891805013  Test accuracy(over test dataset):  9.85 %\n",
      "--------------------------------------------------------------------------------------------\n",
      "Training loss after 100 epochs : 2.398895275592804\n",
      "Training loss after 200 epochs : 2.3742196639378865\n",
      "Training loss after 300 epochs : 2.347216025988261\n",
      "Training loss after 400 epochs : 2.317690110206604\n",
      "Training loss after 500 epochs : 2.2854179978370666\n",
      "Training loss after 600 epochs : 2.2540323813756307\n",
      "Training loss after 700 epochs : 2.223113934199015\n",
      "Training loss after 800 epochs : 2.1949902296066286\n",
      "Training loss after 900 epochs : 2.1697412490844727\n",
      "Training loss after 1000 epochs : 2.147246952851613\n",
      "Final Loss(over training dataset):  2.1274182915687563  Test accuracy(over test dataset):  19.588 %\n",
      "--------------------------------------------------------------------------------------------\n",
      "Training loss after 100 epochs : 2.346405259768168\n",
      "Training loss after 200 epochs : 1.8628543774286905\n",
      "Training loss after 300 epochs : 1.6556006809075674\n",
      "Training loss after 400 epochs : 1.5415084262688954\n",
      "Training loss after 500 epochs : 1.4779749393463135\n",
      "Training loss after 600 epochs : 1.4317705631256104\n",
      "Training loss after 700 epochs : 1.395741911729177\n",
      "Training loss after 800 epochs : 1.3673005064328512\n",
      "Training loss after 900 epochs : 1.346319415171941\n",
      "Training loss after 1000 epochs : 1.3302909791469575\n",
      "Final Loss(over training dataset):  1.3160995324452718  Test accuracy(over test dataset):  49.972 %\n",
      "--------------------------------------------------------------------------------------------\n",
      "Training loss after 100 epochs : 2.3759636720021566\n",
      "Training loss after 200 epochs : 1.9057642261187235\n"
     ]
    },
    {
     "name": "stdout",
     "output_type": "stream",
     "text": [
      "Training loss after 300 epochs : 1.8051853458086649\n",
      "Training loss after 400 epochs : 1.749525934457779\n",
      "Training loss after 500 epochs : 1.7259344458580017\n",
      "Training loss after 600 epochs : 1.713196462392807\n",
      "Training loss after 700 epochs : 1.7052078564961752\n",
      "Training loss after 800 epochs : 1.7005066633224488\n",
      "Training loss after 900 epochs : 1.6962423861026763\n",
      "Training loss after 1000 epochs : 1.6936068296432496\n",
      "Final Loss(over training dataset):  1.6884652237097422  Test accuracy(over test dataset):  33.556 %\n",
      "--------------------------------------------------------------------------------------------\n",
      "Training loss after 100 epochs : 2.232782006263733\n",
      "Training loss after 200 epochs : 1.2101494510968527\n",
      "Training loss after 300 epochs : 1.197284032901128\n",
      "Training loss after 400 epochs : 1.1779077013333639\n",
      "Training loss after 500 epochs : 1.166456115245819\n",
      "Training loss after 600 epochs : 1.1654087175925574\n",
      "Training loss after 700 epochs : 1.1687467048565547\n",
      "Training loss after 800 epochs : 1.170924539367358\n",
      "Training loss after 900 epochs : 1.1593095789353052\n",
      "Training loss after 1000 epochs : 1.169884483019511\n",
      "Final Loss(over training dataset):  1.1586136668920517  Test accuracy(over test dataset):  53.701 %\n",
      "--------------------------------------------------------------------------------------------\n"
     ]
    }
   ],
   "source": [
    "learning_rate1 = [0.00001, 0.0001, 0.001, 0.01, 0.1]\n",
    "model_arr1 = [[2,10],[2,2,10],[2,6,10],[2,2,3,10],[2,3,2,10]]\n",
    "mat_m1 = [[0 for i in range(5)] for j in range(5)]\n",
    "mat_l1 = [[0 for i in range(5)] for j in range(5)]\n",
    "best_model_acc1=[0]*5\n",
    "p = 0\n",
    "q = 0\n",
    "epochs=1000\n",
    "for i in model_arr1:\n",
    "    for j in learning_rate1:\n",
    "        model=get_model(i)\n",
    "        loss=train(epochs,trainloader1,optim.SGD(model.parameters(), lr=j),nn.NLLLoss(),model)\n",
    "        accuracy=get_accuracy(model,testloader1)\n",
    "        print('Final Loss(over training dataset): ',loss,' Test accuracy(over test dataset): ',round(accuracy,3),'%')\n",
    "        print('--------------------------------------------------------------------------------------------')\n",
    "        mat_m1[p][q] = accuracy\n",
    "        mat_l1[q][p] = accuracy\n",
    "        best_model_acc1[p]=max(best_model_acc1[p],accuracy)\n",
    "        q = q + 1\n",
    "    q = 0\n",
    "    p = p + 1"
   ]
  },
  {
   "cell_type": "markdown",
   "metadata": {},
   "source": [
    "#### Learning Rate vs Accuracy for different Models After PCA"
   ]
  },
  {
   "cell_type": "code",
   "execution_count": 24,
   "metadata": {
    "colab": {
     "background_save": true
    },
    "id": "6lHtco21LpLY",
    "outputId": "c6da5a70-a5d8-4b57-fb37-43ca6431bec0"
   },
   "outputs": [
    {
     "data": {
      "image/png": "[encoded data removed]",
      "text/plain": [
       "<Figure size 432x288 with 1 Axes>"
      ]
     },
     "metadata": {
      "needs_background": "light"
     },
     "output_type": "display_data"
    }
   ],
   "source": [
    "learning_rate_g = ['0.00001', '0.0001', '0.001', '0.01', '0.1']\n",
    "model_arr_g = ['Model 1', 'Model 2', 'Model 3', 'Model 4', 'Model 5']\n",
    "\n",
    "plt.plot(learning_rate_g, mat_m1[0], label = \"Model 1\")\n",
    "plt.plot(learning_rate_g, mat_m1[1], label = \"Model 2\")\n",
    "plt.plot(learning_rate_g, mat_m1[2], label = \"Model 3\")\n",
    "plt.plot(learning_rate_g, mat_m1[3], label = \"Model 4\")\n",
    "plt.plot(learning_rate_g, mat_m1[4], label = \"Model 5\")\n",
    "\n",
    "plt.xlabel('Learning Rate')\n",
    "plt.ylabel('Accuarcy')\n",
    "plt.title('Learning Rate vs Accuracy for different Models')\n",
    "plt.legend(loc='lower right')\n",
    "plt.show()"
   ]
  },
  {
   "cell_type": "markdown",
   "metadata": {},
   "source": [
    "#### Models vs Accuracy for different Learning Rates after PCA"
   ]
  },
  {
   "cell_type": "code",
   "execution_count": 25,
   "metadata": {
    "colab": {
     "background_save": true
    },
    "id": "O5gwDarcLfsY",
    "outputId": "69bdd14c-2a9a-4a0e-d025-6ba0c310f3e5"
   },
   "outputs": [
    {
     "data": {
      "image/png": "[encoded data removed]",
      "text/plain": [
       "<Figure size 432x288 with 1 Axes>"
      ]
     },
     "metadata": {
      "needs_background": "light"
     },
     "output_type": "display_data"
    }
   ],
   "source": [
    "plt.plot(model_arr_g, mat_l1[0], label = \"LR 0.00001\")\n",
    "plt.plot(model_arr_g, mat_l1[1], label = \"LR 0.0001\")\n",
    "plt.plot(model_arr_g, mat_l1[2], label = \"LR 0.001\")\n",
    "plt.plot(model_arr_g, mat_l1[3], label = \"LR 0.01\")\n",
    "plt.plot(model_arr_g, mat_l1[4], label = \"LR 0.1\")\n",
    "\n",
    "plt.xlabel('Models')\n",
    "plt.ylabel('Accuarcy')\n",
    "plt.title('Models vs Accuracy for different Learning Rates')\n",
    "plt.legend(loc='lower right')\n",
    "plt.show()"
   ]
  },
  {
   "cell_type": "markdown",
   "metadata": {},
   "source": [
    "#### Comparison between Best Accuracies of different models (Before PCA and After PCA)  "
   ]
  },
  {
   "cell_type": "code",
   "execution_count": 26,
   "metadata": {
    "colab": {
     "background_save": true
    },
    "id": "mm7pLAx7pn6L",
    "outputId": "90d75785-8a06-4901-9b2d-feb9df0cbcbb"
   },
   "outputs": [
    {
     "data": {
      "image/png": "[encoded data removed]",
      "text/plain": [
       "<Figure size 432x288 with 1 Axes>"
      ]
     },
     "metadata": {
      "needs_background": "light"
     },
     "output_type": "display_data"
    }
   ],
   "source": [
    "plt.plot(model_arr_g, best_model_acc, label = \"Before PCA\")\n",
    "plt.plot(model_arr_g, best_model_acc1, label = \"After PCA\")\n",
    "\n",
    "plt.xlabel('Models')\n",
    "plt.ylabel('Accuarcy')\n",
    "plt.title('Models vs Accuracy for original feature space vs reduced feature space')\n",
    "plt.legend(loc='upper right')\n",
    "plt.show()"
   ]
  }
 ],
 "metadata": {
  "colab": {
   "collapsed_sections": [],
   "name": "assignment3_final.ipynb",
   "provenance": []
  },
  "kernelspec": {
   "display_name": "Python 3 (ipykernel)",
   "language": "python",
   "name": "python3"
  },
  "language_info": {
   "codemirror_mode": {
    "name": "ipython",
    "version": 3
   },
   "file_extension": ".py",
   "mimetype": "text/x-python",
   "name": "python",
   "nbconvert_exporter": "python",
   "pygments_lexer": "ipython3",
   "version": "3.9.6"
  }
 },
 "nbformat": 4,
 "nbformat_minor": 1
}
